{
 "cells": [
  {
   "cell_type": "markdown",
   "metadata": {
    "heading_collapsed": true
   },
   "source": [
    "## 异常\n",
    "<code>raise Exception(message)</code>   \n",
    "--手动抛出异常，message字符串包含出错信息  \n",
    "  \n",
    "<code>try:\n",
    "    ...process line...\n",
    "except Exception as e:\n",
    "    print(e)  \n",
    "finally:  \n",
    "    ...process line...</code>  \n",
    "--try语句中出现异常，即执行except语句内容。<span class=\"mark\">程序正常运行而不会崩溃</span>  \n",
    "--except后为空时，捕捉所有异常类；后也可接多个异常类组成的元组   \n",
    "--finally语句可无，不论有无异常，finally都会执行   \n",
    "--很多情况下,<span class=\"burk\">try/except语句比if/else语句更Pythonic</span>\n",
    "  \n",
    "<code>traceback.format_exc()</code>  \n",
    "--traceback模块，该函数获得异常的字符串形式\n",
    "  \n",
    "<code>assert condition,message</code>  \n",
    "--判断condition为True或False，为False时返回message，<span class=\"mark\">程序崩溃</span>.确保代码没有明显的错误"
   ]
  },
  {
   "cell_type": "code",
   "execution_count": 11,
   "metadata": {
    "ExecuteTime": {
     "end_time": "2018-12-01T05:21:12.245272Z",
     "start_time": "2018-12-01T05:21:12.214031Z"
    },
    "hidden": true
   },
   "outputs": [
    {
     "ename": "Exception",
     "evalue": "wrong code!!",
     "output_type": "error",
     "traceback": [
      "\u001b[1;31m---------------------------------------------------------------------------\u001b[0m",
      "\u001b[1;31mException\u001b[0m                                 Traceback (most recent call last)",
      "\u001b[1;32m<ipython-input-11-9f902d3749b8>\u001b[0m in \u001b[0;36m<module>\u001b[1;34m()\u001b[0m\n\u001b[1;32m----> 1\u001b[1;33m \u001b[1;32mraise\u001b[0m \u001b[0mException\u001b[0m\u001b[1;33m(\u001b[0m\u001b[1;34m'wrong code!!'\u001b[0m\u001b[1;33m)\u001b[0m\u001b[1;33m\u001b[0m\u001b[0m\n\u001b[0m",
      "\u001b[1;31mException\u001b[0m: wrong code!!"
     ]
    }
   ],
   "source": [
    "raise Exception('wrong code!!')"
   ]
  },
  {
   "cell_type": "code",
   "execution_count": 26,
   "metadata": {
    "ExecuteTime": {
     "end_time": "2018-12-01T06:31:49.030317Z",
     "start_time": "2018-12-01T06:31:49.024333Z"
    },
    "hidden": true
   },
   "outputs": [
    {
     "name": "stdout",
     "output_type": "stream",
     "text": [
      "-5.0,nothing go wrong yet\n",
      "-10.0,nothing go wrong yet\n",
      "division by zero,nothing go wrong yet\n",
      "10.0,nothing go wrong yet\n",
      "5.0,nothing go wrong yet\n"
     ]
    }
   ],
   "source": [
    "for i in range(-2,3):\n",
    "    try:\n",
    "        print(10/i,end=',')\n",
    "    except Exception as e:\n",
    "        print(e,end=',')\n",
    "    finally:\n",
    "        print('nothing go wrong yet')"
   ]
  },
  {
   "cell_type": "code",
   "execution_count": 20,
   "metadata": {
    "ExecuteTime": {
     "end_time": "2018-12-01T05:27:08.501018Z",
     "start_time": "2018-12-01T05:27:08.469809Z"
    },
    "hidden": true
   },
   "outputs": [
    {
     "name": "stdout",
     "output_type": "stream",
     "text": [
      "The traceback info was written to errInfo.txt\n",
      "\n",
      "Traceback (most recent call last):\n",
      "\n",
      "  File \"<ipython-input-20-d7811a8b9c2d>\", line 3, in <module>\n",
      "\n",
      "    print(5/0)\n",
      "\n",
      "ZeroDivisionError: division by zero\n",
      "\n"
     ]
    }
   ],
   "source": [
    "import traceback\n",
    "try:\n",
    "    print(5/0)\n",
    "except:\n",
    "    errorFile=open('.\\\\example\\\\errInfo.txt','w')\n",
    "    errorFile.write(traceback.format_exc())\n",
    "    errorFile.close()\n",
    "    print('The traceback info was written to errInfo.txt',end='\\n\\n')\n",
    "\n",
    "for words in open('.\\\\example\\\\errInfo.txt','r').readlines():\n",
    "    print(words)"
   ]
  },
  {
   "cell_type": "code",
   "execution_count": 21,
   "metadata": {
    "ExecuteTime": {
     "end_time": "2018-12-01T05:35:00.803875Z",
     "start_time": "2018-12-01T05:35:00.772627Z"
    },
    "hidden": true
   },
   "outputs": [
    {
     "ename": "AssertionError",
     "evalue": "condition should open",
     "output_type": "error",
     "traceback": [
      "\u001b[1;31m---------------------------------------------------------------------------\u001b[0m",
      "\u001b[1;31mAssertionError\u001b[0m                            Traceback (most recent call last)",
      "\u001b[1;32m<ipython-input-21-626b1ed12ca5>\u001b[0m in \u001b[0;36m<module>\u001b[1;34m()\u001b[0m\n\u001b[0;32m      1\u001b[0m \u001b[0mcondition\u001b[0m\u001b[1;33m=\u001b[0m\u001b[1;34m'shut'\u001b[0m\u001b[1;33m\u001b[0m\u001b[0m\n\u001b[1;32m----> 2\u001b[1;33m \u001b[1;32massert\u001b[0m \u001b[0mcondition\u001b[0m\u001b[1;33m==\u001b[0m\u001b[1;34m'open'\u001b[0m\u001b[1;33m,\u001b[0m\u001b[1;34m'condition should open'\u001b[0m\u001b[1;33m\u001b[0m\u001b[0m\n\u001b[0m",
      "\u001b[1;31mAssertionError\u001b[0m: condition should open"
     ]
    }
   ],
   "source": [
    "condition='shut'\n",
    "assert condition=='open','condition should open'"
   ]
  },
  {
   "cell_type": "markdown",
   "metadata": {
    "ExecuteTime": {
     "end_time": "2018-12-01T05:43:24.722338Z",
     "start_time": "2018-12-01T05:43:24.718347Z"
    }
   },
   "source": [
    "## 日志\n",
    "<code>import logging\n",
    " logging.basicConfig(filename='myProgramLog.txt',level=logging.DEBUG,format='%(asctime)s-%(levelname)s-%(message)s')</code>  \n",
    "--日志配置，置于程序顶部，#！行之下\n",
    "* level 表示日志级别，从低到高：DEBUG，INFO，WARNING，ERROR，CRITICAL  \n",
    "* filename 日志信息储存文件，未定义时日志信息直接显示在屏幕上\n",
    "* format 日志信息的格式\n",
    "  \n",
    "<code>logging.debug(message)</code>    \n",
    "--在程序中利用debug级别的日志信息  \n",
    "  \n",
    "<code>logging.disable(logging.WARNING)</code>  \n",
    "--程序调试完之后，禁用WARNING级别及更低级别的日志信息，而不用在程序中清除调试代码  \n",
    "  \n",
    "对于用户希望看到的信息，应该使用`print(message)`调用；日志消息是给程序员的"
   ]
  },
  {
   "cell_type": "code",
   "execution_count": 24,
   "metadata": {
    "ExecuteTime": {
     "end_time": "2018-12-01T06:14:43.771159Z",
     "start_time": "2018-12-01T06:14:43.753208Z"
    }
   },
   "outputs": [
    {
     "name": "stderr",
     "output_type": "stream",
     "text": [
      "2018-12-01 14:14:43,759-DEBUG-Start of program\n",
      "2018-12-01 14:14:43,761-DEBUG-Starting of factorial(5%)\n",
      "2018-12-01 14:14:43,762-DEBUG-i is 0,total is 1\n",
      "2018-12-01 14:14:43,763-DEBUG-i is 1,total is 1\n",
      "2018-12-01 14:14:43,764-DEBUG-i is 2,total is 1\n",
      "2018-12-01 14:14:43,764-DEBUG-i is 3,total is 1\n",
      "2018-12-01 14:14:43,765-DEBUG-i is 4,total is 1\n",
      "2018-12-01 14:14:43,766-DEBUG-i is 5,total is 1\n",
      "2018-12-01 14:14:43,767-DEBUG-End of factorial(5%)\n",
      "2018-12-01 14:14:43,767-DEBUG-End of program\n"
     ]
    }
   ],
   "source": [
    "import logging\n",
    "logging.basicConfig(level=logging.DEBUG,format='%(asctime)s-%(levelname)s-%(message)s')\n",
    "\n",
    "logging.debug('Start of program')\n",
    "def factorial(n):\n",
    "    logging.debug('Starting of factorial(%s%%)'%n)\n",
    "    total=1\n",
    "    for i in range(n+1):\n",
    "        total*=1\n",
    "        logging.debug('i is '+str(i)+',total is '+str(total))\n",
    "    logging.debug('End of factorial(%s%%)'%n)\n",
    "    return(total)\n",
    "\n",
    "factorial(5)\n",
    "logging.debug('End of program')"
   ]
  },
  {
   "cell_type": "code",
   "execution_count": null,
   "metadata": {},
   "outputs": [],
   "source": []
  },
  {
   "cell_type": "markdown",
   "metadata": {
    "heading_collapsed": true
   },
   "source": [
    "## doctest 文档检查模块"
   ]
  },
  {
   "cell_type": "code",
   "execution_count": null,
   "metadata": {
    "hidden": true
   },
   "outputs": [],
   "source": []
  },
  {
   "cell_type": "markdown",
   "metadata": {
    "ExecuteTime": {
     "end_time": "2018-12-01T06:46:39.902344Z",
     "start_time": "2018-12-01T06:46:39.896352Z"
    },
    "heading_collapsed": true
   },
   "source": [
    "## unitest通用测试框架"
   ]
  },
  {
   "cell_type": "code",
   "execution_count": null,
   "metadata": {
    "hidden": true
   },
   "outputs": [],
   "source": []
  }
 ],
 "metadata": {
  "kernelspec": {
   "display_name": "Python 3",
   "language": "python",
   "name": "python3"
  },
  "language_info": {
   "codemirror_mode": {
    "name": "ipython",
    "version": 3
   },
   "file_extension": ".py",
   "mimetype": "text/x-python",
   "name": "python",
   "nbconvert_exporter": "python",
   "pygments_lexer": "ipython3",
   "version": "3.7.1"
  },
  "toc": {
   "base_numbering": 1,
   "nav_menu": {},
   "number_sections": true,
   "sideBar": true,
   "skip_h1_title": false,
   "title_cell": "Table of Contents",
   "title_sidebar": "Contents",
   "toc_cell": false,
   "toc_position": {},
   "toc_section_display": true,
   "toc_window_display": false
  }
 },
 "nbformat": 4,
 "nbformat_minor": 2
}
