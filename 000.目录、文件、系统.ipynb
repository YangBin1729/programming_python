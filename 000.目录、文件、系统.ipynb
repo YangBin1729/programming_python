{
 "cells": [
  {
   "cell_type": "markdown",
   "metadata": {},
   "source": [
    "## 文件路径处理"
   ]
  },
  {
   "cell_type": "code",
   "execution_count": 4,
   "metadata": {
    "ExecuteTime": {
     "end_time": "2018-12-01T01:00:05.532299Z",
     "start_time": "2018-12-01T01:00:05.516703Z"
    }
   },
   "outputs": [],
   "source": [
    "import os,sys,shutil,send2trash"
   ]
  },
  {
   "cell_type": "markdown",
   "metadata": {
    "heading_collapsed": true
   },
   "source": [
    "### 当前文件夹\n",
    "\n",
    "1. <code>os.getcwd()</code>：  当前文件夹    \n",
    "2. <code>os.chdir(path)</code>：    更改当前文件夹  \n",
    "--path 必须存在，否则报错  \n",
    "3. '.'表示相对路径，即当前文件夹；'..'表示父文件夹  \n",
    "4. <code>os.makedirs(newpath)</code>:  \n",
    "-- 创建新文件夹，所有必要的中间文件夹\n",
    "\n"
   ]
  },
  {
   "cell_type": "code",
   "execution_count": 57,
   "metadata": {
    "ExecuteTime": {
     "end_time": "2018-11-30T13:25:37.000642Z",
     "start_time": "2018-11-30T13:25:36.991666Z"
    },
    "hidden": true
   },
   "outputs": [
    {
     "name": "stdout",
     "output_type": "stream",
     "text": [
      "当前文件夹： D:\\000tools\n",
      "更改当前文件夹为： D:\\000tools\\example\n"
     ]
    }
   ],
   "source": [
    "cwd='D:\\\\000tools'\n",
    "destination='.\\\\example'\n",
    "if os.getcwd()!=cwd:os.chdir(cwd)\n",
    "\n",
    "print('当前文件夹：',os.getcwd())\n",
    "os.chdir(destination)\n",
    "print('更改当前文件夹为：',os.getcwd())\n",
    "\n",
    "if os.getcwd()!=cwd:os.chdir(cwd)"
   ]
  },
  {
   "cell_type": "markdown",
   "metadata": {
    "ExecuteTime": {
     "end_time": "2018-11-27T06:54:16.789846Z",
     "start_time": "2018-11-27T06:54:16.783861Z"
    },
    "heading_collapsed": true
   },
   "source": [
    "### 处理绝对及相对路径(os.path模块)  \n",
    "\n",
    "1. <code>os.path.abspath('.')</code>：   \n",
    "--返回当前文件夹的绝对路径  \n",
    "<code>os.path.abspath('..')</code>：      \n",
    "--父文件夹的绝对路径<p>\n",
    "2. <code>os.path.isabs('.\\\\example\\\\text')</code>:  \n",
    "--判断是否绝对路径<p>\n",
    "3. <code>os.path.relpath(destination,start)</code>:  \n",
    "--返回start到destination间的相对路径<p>\n",
    "4. <code>os.path.dirname(path)</code>  \n",
    "--返回文件所在的路径<p>  \n",
    "5. <code>os.path.basename(path)</code>  \n",
    "--返回单纯的文件名<p>  \n",
    "6. <code>os.path.join(father,son,file)</code>  \n",
    "--组成father\\\\son\\\\file的路径<p>\n",
    "7. <code>os.path.split(path)</code>  \n",
    "-- 拆分path为路径名及文件名<p>\n",
    "8. <code>os.path.sep</code>  \n",
    " --系统路径的分隔符，Windows为 '\\\\\\'    \n",
    "<code>pathname.split(os.path.seg)</code>  \n",
    "--将pathname分割为路径名及文件名组成的列表"
   ]
  },
  {
   "cell_type": "code",
   "execution_count": 48,
   "metadata": {
    "ExecuteTime": {
     "end_time": "2018-11-30T12:51:58.611974Z",
     "start_time": "2018-11-30T12:51:58.606009Z"
    },
    "hidden": true
   },
   "outputs": [
    {
     "data": {
      "text/plain": [
       "'father\\\\son\\\\file'"
      ]
     },
     "execution_count": 48,
     "metadata": {},
     "output_type": "execute_result"
    }
   ],
   "source": [
    "os.path.join('father','son','file')"
   ]
  },
  {
   "cell_type": "code",
   "execution_count": 43,
   "metadata": {
    "ExecuteTime": {
     "end_time": "2018-11-30T12:39:58.183104Z",
     "start_time": "2018-11-30T12:39:58.176111Z"
    },
    "hidden": true
   },
   "outputs": [
    {
     "name": "stdout",
     "output_type": "stream",
     "text": [
      "文件夹名： D:\\000tools\\example\n",
      "文件名： test.txt\n",
      "文件夹名，文件名： ('D:\\\\000tools\\\\example', 'test.txt')\n",
      "整个路径组成的列表： ['D:', '000tools', 'example', 'test.txt']\n"
     ]
    }
   ],
   "source": [
    "path='D:\\\\000tools\\\\example\\\\test.txt'\n",
    "print('文件夹名：',os.path.dirname(path))\n",
    "print('文件名：',os.path.basename(path))\n",
    "print('文件夹名，文件名：',os.path.split(path))\n",
    "print('整个路径组成的列表：',path.split(os.path.sep))"
   ]
  },
  {
   "cell_type": "markdown",
   "metadata": {
    "ExecuteTime": {
     "end_time": "2018-11-30T13:33:07.254754Z",
     "start_time": "2018-11-30T13:33:07.247772Z"
    },
    "heading_collapsed": true
   },
   "source": [
    "### 更好的文件及路径处理标准库 pathlib\n",
    "--应对不同系统的不同分隔符问题  \n",
    "  \n",
    "<code>foler=pathlib.Path(path)</code>  \n",
    "<code>file_path=folder/'test.txt'</code>\n",
    "> 用路径名创建Path对象，然后使用 / 操作符，替代<code>os.path.join()</code>操作"
   ]
  },
  {
   "cell_type": "code",
   "execution_count": 66,
   "metadata": {
    "ExecuteTime": {
     "end_time": "2018-11-30T13:42:07.964092Z",
     "start_time": "2018-11-30T13:42:07.958108Z"
    },
    "hidden": true
   },
   "outputs": [
    {
     "name": "stdout",
     "output_type": "stream",
     "text": [
      "False\n",
      ",\\example\\test_2\\test.txt\n",
      "False\n"
     ]
    }
   ],
   "source": [
    "import pathlib\n",
    "folder=pathlib.Path(',/example/test_2')\n",
    "print(os.path.exists(folder))\n",
    "file_path=folder/'test.txt'\n",
    "print(file_path)\n",
    "print(os.path.exists(file_path))"
   ]
  },
  {
   "cell_type": "markdown",
   "metadata": {
    "ExecuteTime": {
     "end_time": "2018-11-27T07:09:17.086722Z",
     "start_time": "2018-11-27T07:09:17.081722Z"
    },
    "heading_collapsed": true
   },
   "source": [
    "### 查看文件大小和文件夹内容\n",
    "1. <code>os.path.getsize(path)</code>  \n",
    "--返回path中的字节数  \n",
    "2. <code>os.listdir(path)</code>  \n",
    "--返回path中所有文件名组成的列表  "
   ]
  },
  {
   "cell_type": "code",
   "execution_count": 51,
   "metadata": {
    "ExecuteTime": {
     "end_time": "2018-11-30T13:00:43.308973Z",
     "start_time": "2018-11-30T13:00:43.281048Z"
    },
    "hidden": true
   },
   "outputs": [
    {
     "name": "stdout",
     "output_type": "stream",
     "text": [
      "354\n"
     ]
    }
   ],
   "source": [
    "totalSize=0\n",
    "for filename in os.listdir('.\\\\example'):\n",
    "    totalSize+=os.path.getsize(os.path.join('.\\\\example',filename))\n",
    "print(totalSize)"
   ]
  },
  {
   "cell_type": "markdown",
   "metadata": {
    "ExecuteTime": {
     "end_time": "2018-11-27T07:15:53.017443Z",
     "start_time": "2018-11-27T07:15:53.010482Z"
    },
    "heading_collapsed": true
   },
   "source": [
    "### 检查路径有效性\n",
    "\n",
    "1. <code>os.path.exists(path)</code>:  文件夹或文件是否存在\n",
    "2. <code>os.path.isfile(path)</code>:  文件是否存在\n",
    "3. <code>os.path.isdir(path)</code>:  文件夹是否存在"
   ]
  },
  {
   "cell_type": "code",
   "execution_count": 56,
   "metadata": {
    "ExecuteTime": {
     "end_time": "2018-11-30T13:23:51.067161Z",
     "start_time": "2018-11-30T13:23:51.061176Z"
    },
    "hidden": true
   },
   "outputs": [
    {
     "data": {
      "text/plain": [
       "False"
      ]
     },
     "execution_count": 56,
     "metadata": {},
     "output_type": "execute_result"
    }
   ],
   "source": [
    "os.path.isfile('non_existence')"
   ]
  },
  {
   "cell_type": "markdown",
   "metadata": {
    "heading_collapsed": true
   },
   "source": [
    "### 复制文件夹及文件\n",
    "<code>shutil.copy(source,destination)</code>  \n",
    "-- destiantion 中的<span class=\"mark\">路径名必须存在</span>，否则报错或作为文件名时，将作为新文件的名称\n",
    "<code>shutil.copytree(source,destination)</code>  \n",
    "-- 复制整个文件夹，包含的文件夹和文件<p>  "
   ]
  },
  {
   "cell_type": "markdown",
   "metadata": {
    "ExecuteTime": {
     "end_time": "2018-11-30T13:13:35.973077Z",
     "start_time": "2018-11-30T13:13:35.966094Z"
    },
    "heading_collapsed": true
   },
   "source": [
    "### 移动及改名 \n",
    "<code>shutil.move(source,destination)</code>  \n",
    "-- destiantion 中的路径名必须存在，否则报错或作为文件名时，将作为新文件的名称。<span class=\"burk\">路径中分隔符必须为双斜杠</span><p> \n",
    "### 永久删除  \n",
    "<code>os.unlink(path)</code>        \n",
    "--- 删除path处的文件   \n",
    "<code>os.rmdir(path)</code>   \n",
    "-- 删除path处的空文件夹，其中不能含任何文件和文件夹  \n",
    "<code>shutil.rmtree(path)</code>  \n",
    "-- 彻底删除文件夹，包含其中的所有文件夹<p>\n",
    "### 安全删除，即可从回收站恢复\n",
    "<code>send2trash.send2trash(path)</code>"
   ]
  },
  {
   "cell_type": "markdown",
   "metadata": {
    "heading_collapsed": true
   },
   "source": [
    "### 遍历目录树\n",
    "<code>os.walk(path)</code>  \n",
    "--循环的迭代中，返回3个值：当前文件夹名、当前文件夹中子文件夹列表，当前文件夹中文件列表"
   ]
  },
  {
   "cell_type": "code",
   "execution_count": 55,
   "metadata": {
    "ExecuteTime": {
     "end_time": "2018-11-30T13:20:43.740213Z",
     "start_time": "2018-11-30T13:20:43.734248Z"
    },
    "hidden": true
   },
   "outputs": [
    {
     "name": "stdout",
     "output_type": "stream",
     "text": [
      ".\\example\n",
      "['test', '__pycache__']\n",
      "['myCats.py', 'mydata.bak', 'mydata.dat', 'mydata.dir', 'test.txt', 'test_2.py', 'test_2.txt']\n",
      "\n",
      ".\\example\\test\n",
      "[]\n",
      "['backslashes.txt', 'test.txt']\n",
      "\n",
      ".\\example\\__pycache__\n",
      "[]\n",
      "['myCats.cpython-36.pyc']\n",
      "\n"
     ]
    }
   ],
   "source": [
    "for path,son_path,path_file in os.walk('.\\\\example'):\n",
    "    print(path)\n",
    "    print(son_path)\n",
    "    print(path_file)\n",
    "    print()"
   ]
  },
  {
   "cell_type": "markdown",
   "metadata": {
    "heading_collapsed": true
   },
   "source": [
    "### 遍历目录树-递归 os.listdir 遍历"
   ]
  },
  {
   "cell_type": "code",
   "execution_count": 71,
   "metadata": {
    "ExecuteTime": {
     "end_time": "2018-11-30T13:56:26.909066Z",
     "start_time": "2018-11-30T13:56:26.902075Z"
    },
    "hidden": true
   },
   "outputs": [
    {
     "name": "stdout",
     "output_type": "stream",
     "text": [
      "[.\\example]\n",
      ".\\example\\myCats.py\n",
      ".\\example\\mydata.bak\n",
      ".\\example\\mydata.dat\n",
      ".\\example\\mydata.dir\n",
      "[.\\example\\test]\n",
      ".\\example\\test\\backslashes.txt\n",
      ".\\example\\test\\test.txt\n",
      ".\\example\\test.txt\n",
      ".\\example\\test_2.py\n",
      ".\\example\\test_2.txt\n",
      "[.\\example\\__pycache__]\n",
      ".\\example\\__pycache__\\myCats.cpython-36.pyc\n"
     ]
    }
   ],
   "source": [
    "def mylister(currdir):\n",
    "    print('['+currdir+']')\n",
    "    for file in os.listdir(currdir):\n",
    "        path=os.path.join(currdir,file)\n",
    "        if not os.path.isdir(path):\n",
    "            print(path)\n",
    "        else:\n",
    "            mylister(path)\n",
    "\n",
    "mylister('.\\\\example')"
   ]
  },
  {
   "cell_type": "markdown",
   "metadata": {
    "heading_collapsed": true
   },
   "source": [
    "## 文件操作"
   ]
  },
  {
   "cell_type": "markdown",
   "metadata": {
    "heading_collapsed": true,
    "hidden": true
   },
   "source": [
    "### 文件读操作\n",
    "<code>open(path,'r')</code>\n",
    "* path代表的文件不存在将被创建， 'r'模式(默认默认)，读取模式\n",
    "* 'w'模式，写模式，原文件的内容会被清除;  \n",
    "* 'a'模式，表示追加，不会擦除原有内容\n",
    "* 'r+'允许读取和写入；'w+'允许读取和写入，但会擦除原始内容 \n",
    "* 't'模式(默认默认),文本模式；'b'，二进制模式\n",
    "* 'x'模式，<span class=\"mark\">创建新文件并写入，文件已存在会报错，防止清除已有文件</span>\n",
    "\n",
    "<code>open(path).read()</code>：     \n",
    "--将整个文件读取为字符串，<span class=\"mark\">一次性载入内存</span>    \n",
    "<code>open(path).read(N)</code>：    \n",
    "--将后面N个字节读取为字符串    \n",
    "<code>open(path).readlines()</code>：  \n",
    "--将整个文件夹读取为单行字符串组成的列表，一次性载入内存   \n",
    "<code>open(path).readline</code>：  \n",
    "-跨过'\\n'读取下一行"
   ]
  },
  {
   "cell_type": "raw",
   "metadata": {},
   "source": [
    "========= ===============================================================\n",
    "    Character Meaning\n",
    "    --------- ---------------------------------------------------------------\n",
    "    'r'       open for reading (default)\n",
    "    'w'       open for writing, truncating the file first\n",
    "    'x'       create a new file and open it for writing\n",
    "    'a'       open for writing, appending to the end of the file if it exists\n",
    "    'b'       binary mode\n",
    "    't'       text mode (default)\n",
    "    '+'       open a disk file for updating (reading and writing)\n",
    "    'U'       universal newline mode (deprecated)\n",
    "========= ==============================================================="
   ]
  },
  {
   "cell_type": "code",
   "execution_count": 85,
   "metadata": {
    "ExecuteTime": {
     "end_time": "2018-11-30T14:42:54.794820Z",
     "start_time": "2018-11-30T14:42:54.789833Z"
    },
    "collapsed": true,
    "hidden": true
   },
   "outputs": [
    {
     "name": "stdout",
     "output_type": "stream",
     "text": [
      "On Windows, paths are written using backslashes (\\) as the separator between folder names. OS X and Linux, however, use the forward slash (/) as their path separator. If you want your programs to work on all operating systems, you will have to write your Python scripts to handle both cases.\n",
      "\n",
      "Fortunately, this is simple to do with the os.path.join() function. If you pass it the string values of individual file and folder names in your path, os.path.join() will return a string with a file path using the correct path separators. Enter the following into the interactive shell:"
     ]
    }
   ],
   "source": [
    "file=open('.\\\\example\\\\test\\\\backslashes.txt','r')\n",
    "for text in file.readlines(): # 不要一次性载入所有文件\n",
    "    print(text,end='')"
   ]
  },
  {
   "cell_type": "code",
   "execution_count": 86,
   "metadata": {
    "ExecuteTime": {
     "end_time": "2018-11-30T14:42:56.189870Z",
     "start_time": "2018-11-30T14:42:56.184883Z"
    },
    "collapsed": true,
    "hidden": true
   },
   "outputs": [
    {
     "name": "stdout",
     "output_type": "stream",
     "text": [
      "On Windows, paths are written using backslashes (\\) as the separator between folder names. OS X and Linux, however, use the forward slash (/) as their path separator. If you want your programs to work on all operating systems, you will have to write your Python scripts to handle both cases.\n",
      "\n",
      "Fortunately, this is simple to do with the os.path.join() function. If you pass it the string values of individual file and folder names in your path, os.path.join() will return a string with a file path using the correct path separators. Enter the following into the interactive shell:"
     ]
    }
   ],
   "source": [
    "file.seek(0)       # 回到文件开头\n",
    "for line in file:  # 无需调用readlines\n",
    "    print(line,end='')"
   ]
  },
  {
   "cell_type": "code",
   "execution_count": 87,
   "metadata": {
    "ExecuteTime": {
     "end_time": "2018-11-30T14:43:00.755450Z",
     "start_time": "2018-11-30T14:43:00.750473Z"
    },
    "hidden": true
   },
   "outputs": [
    {
     "name": "stdout",
     "output_type": "stream",
     "text": [
      "On Windows, paths are written using backslashes (\\) as the separator between folder names. OS X and Linux, however, use the forward slash (/) as their path separator. If you want your programs to work on all operating systems, you will have to write your Python scripts to handle both cases.\n",
      "\n",
      "Fortunately, this is simple to do with the os.path.join() function. If you pass it the string values of individual file and folder names in your path, os.path.join() will return a string with a file path using the correct path separators. Enter the following into the interactive shell:"
     ]
    }
   ],
   "source": [
    "for line in open('.\\\\example\\\\test\\\\backslashes.txt','r'): # 更简练：临时文件对象\n",
    "    print(line,end='') # 垃圾回收时自动关闭"
   ]
  },
  {
   "cell_type": "code",
   "execution_count": 88,
   "metadata": {
    "ExecuteTime": {
     "end_time": "2018-11-30T14:46:39.515358Z",
     "start_time": "2018-11-30T14:46:39.506382Z"
    },
    "collapsed": true,
    "hidden": true
   },
   "outputs": [
    {
     "data": {
      "text/plain": [
       "'On Windows, paths are written using backslashes (\\\\) as the separator between folder names. OS X and Linux, however, use the forward slash (/) as their path separator. If you want your programs to work on all operating systems, you will have to write your Python scripts to handle both cases.\\n'"
      ]
     },
     "execution_count": 88,
     "metadata": {},
     "output_type": "execute_result"
    }
   ],
   "source": [
    "file=open('.\\\\example\\\\test\\\\backslashes.txt','r') # 本身即为迭代器，文件末尾处抛出异常\n",
    "file.__next__() # 与readline()方法类似"
   ]
  },
  {
   "cell_type": "code",
   "execution_count": 89,
   "metadata": {
    "ExecuteTime": {
     "end_time": "2018-11-30T14:47:10.230956Z",
     "start_time": "2018-11-30T14:47:10.224972Z"
    },
    "hidden": true
   },
   "outputs": [
    {
     "data": {
      "text/plain": [
       "'\\n'"
      ]
     },
     "execution_count": 89,
     "metadata": {},
     "output_type": "execute_result"
    }
   ],
   "source": [
    "file.__next__()"
   ]
  },
  {
   "cell_type": "code",
   "execution_count": 90,
   "metadata": {
    "ExecuteTime": {
     "end_time": "2018-11-30T14:49:08.134914Z",
     "start_time": "2018-11-30T14:49:08.126942Z"
    },
    "collapsed": true,
    "hidden": true
   },
   "outputs": [
    {
     "data": {
      "text/plain": [
       "['ON WINDOWS, PATHS ARE WRITTEN USING BACKSLASHES (\\\\) AS THE SEPARATOR BETWEEN FOLDER NAMES. OS X AND LINUX, HOWEVER, USE THE FORWARD SLASH (/) AS THEIR PATH SEPARATOR. IF YOU WANT YOUR PROGRAMS TO WORK ON ALL OPERATING SYSTEMS, YOU WILL HAVE TO WRITE YOUR PYTHON SCRIPTS TO HANDLE BOTH CASES.\\n',\n",
       " '\\n',\n",
       " 'FORTUNATELY, THIS IS SIMPLE TO DO WITH THE OS.PATH.JOIN() FUNCTION. IF YOU PASS IT THE STRING VALUES OF INDIVIDUAL FILE AND FOLDER NAMES IN YOUR PATH, OS.PATH.JOIN() WILL RETURN A STRING WITH A FILE PATH USING THE CORRECT PATH SEPARATORS. ENTER THE FOLLOWING INTO THE INTERACTIVE SHELL:']"
      ]
     },
     "execution_count": 90,
     "metadata": {},
     "output_type": "execute_result"
    }
   ],
   "source": [
    "file.seek(0)\n",
    "lines=[line.upper() for line in file] # 生成器\n",
    "lines"
   ]
  },
  {
   "cell_type": "markdown",
   "metadata": {
    "ExecuteTime": {
     "end_time": "2018-11-30T14:50:05.216109Z",
     "start_time": "2018-11-30T14:50:05.210117Z"
    },
    "heading_collapsed": true,
    "hidden": true
   },
   "source": [
    "### 文件写操作\n",
    "<code>open(path,'w').write(content)</code>  \n",
    "--写入content表示的字符串，<span class=\"mark\">行尾必须显式的添加换行符'\\n'</span>\n",
    "\n",
    "\n",
    "<code>open(path,'w').writelines(list)</code>  \n",
    "--一次性写入字符串列表，每个字符串也需要在行尾显式的添加换行符'\\n'"
   ]
  },
  {
   "cell_type": "code",
   "execution_count": 101,
   "metadata": {
    "ExecuteTime": {
     "end_time": "2018-11-30T15:34:35.817193Z",
     "start_time": "2018-11-30T15:34:35.785985Z"
    },
    "hidden": true
   },
   "outputs": [
    {
     "data": {
      "text/plain": [
       "25"
      ]
     },
     "execution_count": 101,
     "metadata": {},
     "output_type": "execute_result"
    }
   ],
   "source": [
    "helloFile=open('.\\\\test.txt','r+')\n",
    "helloFile.write('Bacon is not a vegetable.')"
   ]
  },
  {
   "cell_type": "code",
   "execution_count": 102,
   "metadata": {
    "ExecuteTime": {
     "end_time": "2018-11-30T15:34:37.564076Z",
     "start_time": "2018-11-30T15:34:37.548446Z"
    },
    "hidden": true
   },
   "outputs": [
    {
     "name": "stdout",
     "output_type": "stream",
     "text": [
      "Bacon is not a vegetable.Bacon is not a vegetable.Bacon is not a vegetable.Bacon is not a vegetable.\n"
     ]
    }
   ],
   "source": [
    "content=helloFile.read()\n",
    "print(content)\n",
    "helloFile.close()"
   ]
  },
  {
   "cell_type": "markdown",
   "metadata": {
    "ExecuteTime": {
     "end_time": "2018-11-30T15:43:36.912992Z",
     "start_time": "2018-11-30T15:43:36.897371Z"
    },
    "hidden": true
   },
   "source": [
    "### 文件关闭\n",
    "<code>file=open(path,'r');file.close()</code>  \n",
    "--file保存了对象的引用，close()方法显式的关闭文件  \n",
    "  \n",
    "<code>open(path,'r').read()</code>  \n",
    "--生成临时对象，并没保存引用，数据传输后，文件对象会被回收并自动关闭  \n",
    "  \n",
    "<code>with open(filename,'w') as myfile:...process myfile</code>:  \n",
    "--上下文管理器，文件自动关闭   \n",
    "  \n",
    "<code>myfile=open(filename,'w')\n",
    "try:\n",
    "    ...process myfile...\n",
    "finally:\n",
    "    myfile.close()</code>    \n",
    "--try/finally语句,程序抛出异常也可正常关闭"
   ]
  },
  {
   "cell_type": "markdown",
   "metadata": {
    "heading_collapsed": true,
    "hidden": true
   },
   "source": [
    "### 二进制文件处理？"
   ]
  },
  {
   "cell_type": "code",
   "execution_count": null,
   "metadata": {
    "hidden": true
   },
   "outputs": [],
   "source": []
  },
  {
   "cell_type": "markdown",
   "metadata": {
    "heading_collapsed": true,
    "hidden": true
   },
   "source": [
    "### 利用 shelve 模块保存变量\n",
    "将程序中的变量保存在二进制的shelf文件中\n",
    "  \n",
    "<code>file=shelve.open(path)  \n",
    " file['var']=contents  \n",
    " file.close()</code>  \n",
    "--将列表形式的contents保存在file中，作为键'var'关联的值 \n",
    "  \n",
    "<code>file['var']\n",
    " file.keys()  \n",
    " file.values()</code>   \n",
    " --读取'var'关联的值,读取键或值"
   ]
  },
  {
   "cell_type": "code",
   "execution_count": 2,
   "metadata": {
    "ExecuteTime": {
     "end_time": "2018-12-01T00:48:28.291470Z",
     "start_time": "2018-12-01T00:48:27.994844Z"
    },
    "hidden": true
   },
   "outputs": [],
   "source": [
    "import shelve\n",
    "file=shelve.open('.\\\\example\\\\mydata')\n",
    "cats=['zophine','pooka','simon']\n",
    "file['cats']=cats"
   ]
  },
  {
   "cell_type": "code",
   "execution_count": 7,
   "metadata": {
    "ExecuteTime": {
     "end_time": "2018-12-01T00:51:22.491585Z",
     "start_time": "2018-12-01T00:51:22.475964Z"
    },
    "hidden": true
   },
   "outputs": [
    {
     "data": {
      "text/plain": [
       "[['zophine', 'pooka', 'simon']]"
      ]
     },
     "execution_count": 7,
     "metadata": {},
     "output_type": "execute_result"
    }
   ],
   "source": [
    "list(file.values())"
   ]
  },
  {
   "cell_type": "code",
   "execution_count": 8,
   "metadata": {
    "ExecuteTime": {
     "end_time": "2018-12-01T00:51:42.781930Z",
     "start_time": "2018-12-01T00:51:42.766284Z"
    },
    "hidden": true
   },
   "outputs": [],
   "source": [
    "file.close()"
   ]
  },
  {
   "cell_type": "markdown",
   "metadata": {
    "heading_collapsed": true,
    "hidden": true
   },
   "source": [
    "### 利用 pprint.pformat() 函数保存变量\n",
    "  \n",
    "<code>contents=pprint.pformat(contents)</code>  \n",
    "--该函数返回‘漂亮打印’形式的字符串"
   ]
  },
  {
   "cell_type": "code",
   "execution_count": 1,
   "metadata": {
    "ExecuteTime": {
     "end_time": "2018-12-01T00:59:47.939977Z",
     "start_time": "2018-12-01T00:59:47.908735Z"
    },
    "hidden": true
   },
   "outputs": [
    {
     "data": {
      "text/plain": [
       "\"[{'desc': 'chubby', 'name': 'Zophie'}, {'desc': 'fluffy', 'name': 'Pooka'}]\""
      ]
     },
     "execution_count": 1,
     "metadata": {},
     "output_type": "execute_result"
    }
   ],
   "source": [
    "import pprint\n",
    "cats = [{'name': 'Zophie', 'desc': 'chubby'}, {'name': 'Pooka', 'desc': 'fluffy'}]\n",
    "pprint.pformat(cats)"
   ]
  },
  {
   "cell_type": "code",
   "execution_count": 2,
   "metadata": {
    "ExecuteTime": {
     "end_time": "2018-12-01T00:59:53.655279Z",
     "start_time": "2018-12-01T00:59:53.639650Z"
    },
    "hidden": true
   },
   "outputs": [],
   "source": [
    "file=open('.\\\\example\\\\myCats.py','w')\n",
    "file.write('cats='+pprint.pformat(cats)+'\\n')\n",
    "file.close()"
   ]
  },
  {
   "cell_type": "code",
   "execution_count": 16,
   "metadata": {
    "ExecuteTime": {
     "end_time": "2018-12-01T01:20:02.327100Z",
     "start_time": "2018-12-01T01:20:02.311512Z"
    },
    "hidden": true
   },
   "outputs": [],
   "source": [
    "if os.getcwd()!='D:\\\\000tools':os.chdir('D:\\\\000tools')\n",
    "os.chdir('.\\\\example')\n",
    "import myCats\n",
    "myCats.cats\n",
    "if os.getcwd()!='D:\\\\000tools':os.chdir('D:\\\\000tools')"
   ]
  },
  {
   "cell_type": "markdown",
   "metadata": {
    "ExecuteTime": {
     "end_time": "2018-11-27T08:19:21.290669Z",
     "start_time": "2018-11-27T08:19:21.284686Z"
    },
    "heading_collapsed": true,
    "hidden": true
   },
   "source": [
    "### 利用 zipfile 模块压缩文件\n",
    "\n",
    "<code>file=zipfile.ZipFile('zip_name.zip','w')</code>  \n",
    "--创建名为zip_name的压缩文件,<span class=\"mark\">其中的路径名必须存在</span>  \n",
    "  \n",
    "<code>file.write(path,compress_type=zipfile.ZIP_DEFLATED</code>  \n",
    "--压缩path指代的文件到file中   \n",
    "  \n",
    "<code>file.extractall(destination)</code>  \n",
    "--解压缩所有文件到destination文件夹中，不存在则被创建  \n",
    "  \n",
    "<code>file.namelist()</code>  \n",
    "--返回压缩文件中的文件列表  \n",
    "  \n",
    "<code>info=file.getinfo(filename)  \n",
    " info.file_size  \n",
    " info.compress_size</code>  \n",
    "--获取压缩文件中特定文件的信息"
   ]
  },
  {
   "cell_type": "code",
   "execution_count": 18,
   "metadata": {
    "ExecuteTime": {
     "end_time": "2018-12-01T01:20:36.675049Z",
     "start_time": "2018-12-01T01:20:36.643936Z"
    },
    "hidden": true
   },
   "outputs": [],
   "source": [
    "import zipfile,os\n",
    "exampleZip=zipfile.ZipFile('.\\\\example\\\\example.zip','w')\n",
    "exampleZip.write('.\\\\example\\\\test')"
   ]
  },
  {
   "cell_type": "code",
   "execution_count": 20,
   "metadata": {
    "ExecuteTime": {
     "end_time": "2018-12-01T01:22:51.753524Z",
     "start_time": "2018-12-01T01:22:51.737858Z"
    },
    "hidden": true
   },
   "outputs": [],
   "source": [
    "exampleZip.namelist()\n",
    "exampleZip.close()"
   ]
  },
  {
   "cell_type": "markdown",
   "metadata": {
    "ExecuteTime": {
     "end_time": "2018-12-01T01:59:24.837559Z",
     "start_time": "2018-12-01T01:59:24.806315Z"
    },
    "hidden": true
   },
   "source": [
    "### 读写gzip和bz2压缩文件\n",
    "\n",
    "<code>gzip.open('file_path.gz','rt',compresslevel=9)   \n",
    " bz2.open('file_path.bz2','wb',compresslevel=9)</code>  \n",
    "--以读文本('rt')模式打开gz文件,写二进制模式代开bz2文件；压缩级别9，为最高级别"
   ]
  },
  {
   "cell_type": "code",
   "execution_count": null,
   "metadata": {
    "hidden": true
   },
   "outputs": [],
   "source": []
  },
  {
   "cell_type": "markdown",
   "metadata": {},
   "source": [
    "## 系统工具\n",
    "`sys.platform,  sys.maxsize,  sys.version`:  \n",
    "-- 底层操作系统，  系统可容纳的最大原生整型，  Python解释器版本  \n",
    "\n",
    "`sys.path`:  \n",
    "-- 正在运行的Python解释器的搜索路径组成的列表   \n",
    "-- 可以用`append\\extend\\insert\\pop`等列表操作对其进行更改，更改只持续到该Python进程结束时  \n",
    "\n",
    "`sys.modules`:   \n",
    "-- 返回字典，name:Module形式，包含Python进程所导入的每个模块  \n",
    "-- 字典相关操作  \n",
    "\n",
    "`sys.builtin_module_names`:   \n",
    "-- Python 的内置模块  \n",
    "\n",
    "`sys.getrefcount(name)`: -- 对象的引用次数\n",
    "`sys.exc_info()`: -- 返回由最近异常类型、值和追踪对象组成的元组\n",
    "\n",
    "`sys.argv`:  \n",
    "-- 传递给Python脚本的命令行参数列表，argv[0]为脚本名称，"
   ]
  },
  {
   "cell_type": "code",
   "execution_count": 2,
   "metadata": {
    "ExecuteTime": {
     "end_time": "2018-12-03T05:37:15.534210Z",
     "start_time": "2018-12-03T05:37:15.528227Z"
    }
   },
   "outputs": [
    {
     "data": {
      "text/plain": [
       "('win32',\n",
       " 9223372036854775807,\n",
       " '3.6.5 |Anaconda, Inc.| (default, Mar 29 2018, 13:32:41) [MSC v.1900 64 bit (AMD64)]')"
      ]
     },
     "execution_count": 2,
     "metadata": {},
     "output_type": "execute_result"
    }
   ],
   "source": [
    "import sys\n",
    "sys.platform,sys.maxsize,sys.version"
   ]
  },
  {
   "cell_type": "code",
   "execution_count": 23,
   "metadata": {
    "ExecuteTime": {
     "end_time": "2018-12-03T05:57:56.918402Z",
     "start_time": "2018-12-03T05:57:56.910424Z"
    },
    "scrolled": true
   },
   "outputs": [
    {
     "data": {
      "text/plain": [
       "['D:\\\\Anaconda3\\\\lib\\\\site-packages\\\\ipykernel_launcher.py',\n",
       " '-f',\n",
       " 'C:\\\\Users\\\\yangbin\\\\AppData\\\\Roaming\\\\jupyter\\\\runtime\\\\kernel-2fb4fff6-67b4-4beb-a0dc-ec7c54dd490a.json']"
      ]
     },
     "execution_count": 23,
     "metadata": {},
     "output_type": "execute_result"
    }
   ],
   "source": [
    "sys.argv"
   ]
  },
  {
   "cell_type": "code",
   "execution_count": 22,
   "metadata": {
    "ExecuteTime": {
     "end_time": "2018-12-03T05:49:32.989844Z",
     "start_time": "2018-12-03T05:49:32.983860Z"
    }
   },
   "outputs": [
    {
     "name": "stdout",
     "output_type": "stream",
     "text": [
      "(<class 'ZeroDivisionError'>, ZeroDivisionError('division by zero',), <traceback object at 0x0000020524E0E648>)\n"
     ]
    }
   ],
   "source": [
    "try:\n",
    "    2/0\n",
    "except:\n",
    "    print(sys.exc_info())"
   ]
  },
  {
   "cell_type": "markdown",
   "metadata": {},
   "source": [
    "## 启动系统程序\n",
    "`procObj=subprocess.Popen(path)`:  \n",
    "--启动path路径所代表的程序，返回一个Popen对象  \n",
    "  \n",
    "`procObj.poll()`:  \n",
    "--Popen对象仍在运行，`poll()`方法就返回None；否则返回该进程的整数退出代码,0表示无错终止，1表示错误导致进程终止\n",
    "  \n",
    "`procObj.wait()`:  \n",
    "--`wait()`方法将阻塞，直至进程终止；返回该进程的整数退出代码\n",
    "\n",
    "`subprocess.Popen([path,args])`:  \n",
    "--向`Popen()`传入列表，第一个字符串为程序路径，后续参数作为该程序启动后的命令行参数  \n",
    "\n",
    "`subprocess.Popen(['start',args],shell='True)`:    \n",
    "--用系统默认程序打开args表示的文件\n",
    "\n",
    "`windows`上的`Task Scheduler`和`Linux`上的`cron`<span class=\"burk\">系统调度程序，安排程序在特定时间启动</span>"
   ]
  },
  {
   "cell_type": "code",
   "execution_count": 2,
   "metadata": {},
   "outputs": [],
   "source": [
    "import subprocess\n",
    "procObj=subprocess.Popen(r'C:\\windows\\system32\\calc.exe')\n",
    "procObj.poll()"
   ]
  },
  {
   "cell_type": "code",
   "execution_count": 3,
   "metadata": {},
   "outputs": [
    {
     "data": {
      "text/plain": [
       "<subprocess.Popen at 0x28b5a6d8be0>"
      ]
     },
     "execution_count": 3,
     "metadata": {},
     "output_type": "execute_result"
    }
   ],
   "source": [
    "subprocess.Popen([r'C:\\windows\\system32\\notepad.exe','example\\\\test.txt'])"
   ]
  },
  {
   "cell_type": "code",
   "execution_count": 4,
   "metadata": {},
   "outputs": [
    {
     "data": {
      "text/plain": [
       "<subprocess.Popen at 0x28b5a6d8f60>"
      ]
     },
     "execution_count": 4,
     "metadata": {},
     "output_type": "execute_result"
    }
   ],
   "source": [
    "subprocess.Popen(['start','example\\\\test.txt'],shell='True')"
   ]
  },
  {
   "cell_type": "markdown",
   "metadata": {},
   "source": [
    "### 小项目：倒计时程序，在倒计时结束时报警"
   ]
  },
  {
   "cell_type": "code",
   "execution_count": null,
   "metadata": {},
   "outputs": [],
   "source": [
    "# %load scripts/countdown.py\n",
    "#!python3\n",
    "# countdown.py - A simple count down script.\n",
    "\n",
    "import time\n",
    "import subprocess\n",
    "\n",
    "timeLeft = 60\n",
    "while timeLeft > 0:\n",
    "    print(timeLeft, end=',')\n",
    "    time.sleep(1)\n",
    "    timeLeft -= 1\n",
    "\n",
    "subprocess.Popen(['start', 'Mad World.wav'], shell=True)"
   ]
  },
  {
   "cell_type": "markdown",
   "metadata": {},
   "source": [
    "- 并不能正确打开Mad World.wav文件，而是打开了一个python终端，系统start某些参数设置有问题？？？"
   ]
  },
  {
   "cell_type": "code",
   "execution_count": null,
   "metadata": {},
   "outputs": [],
   "source": [
    "%run scripts/countdown.py"
   ]
  }
 ],
 "metadata": {
  "kernelspec": {
   "display_name": "Python 3",
   "language": "python",
   "name": "python3"
  },
  "language_info": {
   "codemirror_mode": {
    "name": "ipython",
    "version": 3
   },
   "file_extension": ".py",
   "mimetype": "text/x-python",
   "name": "python",
   "nbconvert_exporter": "python",
   "pygments_lexer": "ipython3",
   "version": "3.7.3"
  },
  "toc": {
   "base_numbering": 1,
   "nav_menu": {},
   "number_sections": true,
   "sideBar": true,
   "skip_h1_title": false,
   "title_cell": "Table of Contents",
   "title_sidebar": "Contents",
   "toc_cell": false,
   "toc_position": {
    "height": "calc(100% - 180px)",
    "left": "10px",
    "top": "150px",
    "width": "188px"
   },
   "toc_section_display": true,
   "toc_window_display": true
  }
 },
 "nbformat": 4,
 "nbformat_minor": 2
}
