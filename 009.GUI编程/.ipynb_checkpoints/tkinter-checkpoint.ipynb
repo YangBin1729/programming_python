{
 "cells": [
  {
   "cell_type": "markdown",
   "metadata": {
    "heading_collapsed": true
   },
   "source": [
    "### tkinter 框架"
   ]
  },
  {
   "cell_type": "markdown",
   "metadata": {
    "heading_collapsed": true,
    "hidden": true
   },
   "source": [
    "#### 框架"
   ]
  },
  {
   "cell_type": "markdown",
   "metadata": {
    "ExecuteTime": {
     "end_time": "2018-12-13T03:28:07.915508Z",
     "start_time": "2018-12-13T03:28:07.886304Z"
    },
    "hidden": true
   },
   "source": [
    "+ `tkinter` 组件类：\n",
    "    - `Label`      &：一块简单消息区域\n",
    "    - `Button`&：一个简单带标签的按钮组件\n",
    "    - `Frame`&：用于盛放和布置其它组件对象\n",
    "    - `Toplevel，Tk`&：由窗口管理器管理的新窗口\n",
    "    - `Message`&：一个多行标签\n",
    "    - `Entry`&：一个简单单行文本输入区域\n",
    "    - `Checkbutton`&：双状态的按钮组件，尤用于多项选择\n",
    "    - `Radiobutton`&：双状态的按钮组件，尤用于单项选择\n",
    "    - `Scale`&：可衡量位置的滑动组件\n",
    "    - `PhotoImage`&：图像组件，用于在其他组件上显示全彩色图像\n",
    "    - `BitmapImage`&：图像组件，用于在其他组件上显示位图\n",
    "    - `Menu`&：与菜单按钮或顶层窗口相关的一组选项\n",
    "    - `Menubutton`&：打开菜单选项和子菜单的按钮\n",
    "    - `Scrollbar`&：滚动其它组件的控件（如列表框、画布、文本框）\n",
    "    - `Listbox`&：选项的列表\n",
    "    - `Text`&：多行文本浏览/编辑组件,支持字体等\n",
    "    - `Canvas`&：图形绘画区域，支持线条、圆圈、照片、文本等<p>\n",
    "+ 相关类及工具：\n",
    "    - 几何管理器        ：pack,grid,place\n",
    "    - tkinter 连接变量  ：StringVar,IntVar,DoubleVar,BooleanVar\n",
    "    - 高级Tk组件        ：Spinbox,LabelFrame,PanedWindow\n",
    "    - 复合组件          ：Dialog,ScrolledText,OptionMenu\n",
    "    - 回调安排          ：组件的 after,wait,update 方法\n",
    "    - 其它工具          ：标准对话框，剪贴板，bind和Event,组件设置选项，模式对话框，动画技巧\n"
   ]
  },
  {
   "cell_type": "markdown",
   "metadata": {
    "hidden": true
   },
   "source": [
    "#### <span class=\"burk\">问题点？？？</span>\n",
    "1. 模块组合起来的层次结构！！！不能搞混乱了\n",
    "2. Frame到底怎么使用的？？？？基于Frame的类如何和其他组装起来的\n",
    "3. tkinter图像里的垃圾回收！！！！\n",
    "4. stdin\\stdout\\stderr的含义用法等等等！！！！！"
   ]
  },
  {
   "cell_type": "code",
   "execution_count": 1,
   "metadata": {
    "ExecuteTime": {
     "end_time": "2018-12-23T09:36:49.691127Z",
     "start_time": "2018-12-23T09:36:49.676969Z"
    },
    "hidden": true
   },
   "outputs": [
    {
     "data": {
      "text/plain": [
       "'__main__'"
      ]
     },
     "execution_count": 1,
     "metadata": {},
     "output_type": "execute_result"
    }
   ],
   "source": [
    "__name__"
   ]
  },
  {
   "cell_type": "markdown",
   "metadata": {
    "ExecuteTime": {
     "end_time": "2018-12-11T06:12:47.204777Z",
     "start_time": "2018-12-11T06:12:47.173533Z"
    }
   },
   "source": [
    "### 组件及工具"
   ]
  },
  {
   "cell_type": "markdown",
   "metadata": {
    "heading_collapsed": true
   },
   "source": [
    "#### 配置组件外观\n",
    "- 除了对象构造时设置外，还可以调用组件对象的`config`方法：\n",
    "    - 颜色`bg`:背景颜色；`fg`:前景色；\n",
    "    - 大小`width`和`height`\n",
    "    - 字体`font`:字体系列、大小、类型组成的三元组\n",
    "    - 布局和扩展，`expand`和`fill`参数，组件对象`pack`方法设置\n",
    "    - 边框和浮凸，`bd或borderwidth=N`用于设置边框宽度，`relief=S`指定边框类型，`S`为`FLAT\\SUNKEN\\RAISED\\GROOVE`等常量\n",
    "    - 光标`cursor`选项，改变鼠标经过组件时鼠标指针的外观，`gumby,watch,pencil,crdss`\n",
    "    - 状态`state`属性，`DISABLED`禁用组件功能，`NORMAL`和`READONLY`选项\n",
    "    - 留白，在组件周围添加额外的空间，`padx`及`pady`\n",
    "    - ......\n",
    "\n",
    "- `background/bg,foreground/fg`:不同属性名但实现相同功能，实际显示在后设置的属性\n",
    "    - `.config(background='white',bg='black')`:实际显示`'black'`\n",
    "- `activebackground/activeforeground`:组件活动时的显示颜色，如按钮按下时\n",
    "- `disabledforeground`：组件`disabled`时显示的颜色\n",
    "- `highlightbackground/highlightcolor/highlightthickness`：当窗口部件获得焦点的时候，边框为`highlightcolor`的颜色，否则为`highlightbackground`的颜色???\n",
    "- `justify`：多方文本时排列方式，`LEFT,RIGHT,or CENTER`\n",
    "- `wraplength`：确定换行的长度\n",
    "- `anchor`:文本在组件中的位置`NE,NW`之类\n",
    "- `compound`：文本和图片的结合方式，`CENTER`文本置于图片上,`BOTTOM, LEFT, RIGHT, or TOP`，`BOTTOM`图片置于文本下"
   ]
  },
  {
   "cell_type": "markdown",
   "metadata": {
    "ExecuteTime": {
     "end_time": "2018-12-27T07:58:05.673223Z",
     "start_time": "2018-12-27T07:58:05.641978Z"
    },
    "hidden": true
   },
   "source": [
    "常见的组件方法\n",
    "- Configuration：\n",
    "    - w.config(option=value)\n",
    "    - value = w.cget(\"option\")\n",
    "    - k = w.keys()\n",
    "- Event processing\n",
    "    - mainloop()\n",
    "    - w.mainloop()\n",
    "    - w.quit()\n",
    "    - w.wait_variable(var)\n",
    "    - w.wait_visibility(window)\n",
    "    - w.wait_window(window)\n",
    "    - w.update()\n",
    "    - w.update_idletasks()\n",
    "- Event callbacks\n",
    "    - w.bind(event, callback)\n",
    "    - w.unbind(event)\n",
    "    - w.bind_class(event, callback)\n",
    "    -  w.bindtags()\n",
    "    - w.bindtags(tags)\n",
    "- Alarm handlers and other non-event callbacks\n",
    "    - id = w.after(time, callback)\n",
    "    - id = w.after_idle(callback)\n",
    "    - w.after_cancel(id)\n",
    "- Window management\n",
    "    - w.lift()\n",
    "    - w.lower()\n",
    "- Window-related information\n",
    "    - w.winfo_width(), w.winfo_height()\n",
    "    - w.winfo_reqwidth(), w.winfo_reqheight()\n",
    "    - w.winfo_id()\n",
    "- The option database\n",
    "    - w.option_add(pattern, value)\n",
    "    - w.option_get(name, class)"
   ]
  },
  {
   "cell_type": "code",
   "execution_count": 1,
   "metadata": {
    "ExecuteTime": {
     "end_time": "2018-12-27T06:10:58.854166Z",
     "start_time": "2018-12-27T06:10:58.729225Z"
    },
    "hidden": true
   },
   "outputs": [
    {
     "name": "stdout",
     "output_type": "stream",
     "text": [
      "['activebackground', 'activeforeground', 'anchor', 'background', 'bd', 'bg', 'bitmap', 'borderwidth', 'compound', 'cursor', 'disabledforeground', 'fg', 'font', 'foreground', 'height', 'highlightbackground', 'highlightcolor', 'highlightthickness', 'image', 'justify', 'padx', 'pady', 'relief', 'state', 'takefocus', 'text', 'textvariable', 'underline', 'width', 'wraplength']\n"
     ]
    }
   ],
   "source": [
    "# 查看组件对象的所有关键字参数\n",
    "from tkinter import *\n",
    "print(Label().keys())"
   ]
  },
  {
   "cell_type": "code",
   "execution_count": null,
   "metadata": {
    "ExecuteTime": {
     "end_time": "2018-12-11T06:36:42.015836Z",
     "start_time": "2018-12-11T06:36:42.000185Z"
    },
    "code_folding": [],
    "hidden": true
   },
   "outputs": [],
   "source": [
    "# %load scripts\\config-label.py\n",
    "#!python3\n",
    "# config-label.py - 配置Label组件外观\n",
    "\n",
    "from tkinter import *\n",
    "\n",
    "root = Tk()\n",
    "labelfont = ('times', 20, 'bold')\n",
    "widget = Label(root, text='Hello config world')\n",
    "widget.config(bg='black', fg='yellow')\n",
    "widget.config(font=labelfont)\n",
    "widget.config(height=3, width=20)\n",
    "widget.pack(expand=YES, fill=BOTH)\n",
    "root.mainloop()\n",
    "\n"
   ]
  },
  {
   "cell_type": "code",
   "execution_count": null,
   "metadata": {
    "ExecuteTime": {
     "end_time": "2018-12-11T06:45:31.691444Z",
     "start_time": "2018-12-11T06:45:31.660195Z"
    },
    "code_folding": [],
    "hidden": true
   },
   "outputs": [],
   "source": [
    "# %load scripts\\config-button.py\n",
    "#!python3\n",
    "# config-button.py - 配置按钮的外观\n",
    "\n",
    "from tkinter import *\n",
    "\n",
    "root = Tk()\n",
    "widget = Button(root, text='spam', padx=10, pady=10)\n",
    "widget.config(cursor='watch')\n",
    "widget.config(bd=8, relief=GROOVE)\n",
    "widget.config(bg='dark green', fg='white')\n",
    "widget.config(font=('helvetica', 20, 'underline italic'))\n",
    "widget.pack(padx=20, pady=20)\n",
    "mainloop()"
   ]
  },
  {
   "cell_type": "markdown",
   "metadata": {
    "ExecuteTime": {
     "end_time": "2018-12-11T06:55:29.804279Z",
     "start_time": "2018-12-11T06:55:29.788657Z"
    },
    "heading_collapsed": true
   },
   "source": [
    "#### 顶层窗口\n",
    "- 根窗口：显式调用`Tk()`创建或默认创建，第一个Tk窗口为组件和其他窗口的默认父窗口\n",
    "- `Toplevel`：可以创建任意数量的<span class=\"mark\">弹出式独立窗口</span>\n",
    "- 顶层窗口协议：\n",
    "    - 拦截关闭`protocol`：窗口右上角的`X`按钮不会关闭窗口，名称字符串WM_DELETE_WINDOWS标识了关闭操作\n",
    "    - 关闭一个窗口及其子窗口`destory`：设置后，点击窗口中的按钮即关闭该窗口，其它窗口继续运行\n",
    "    - 关闭所有窗口`quit`：根窗口按钮运行`quit`方法，结束程序。该方法可以通过任意组件调用，而不只是通过顶层窗口\n",
    "    - 窗口标题`title`：默认值为‘tk’\n",
    "    - 窗口图标`iconbitmap`\n",
    "    - 几何管理：<span class=\"mark\">顶层窗口不能像其它组件利用pack或grid方法布局</span>，但可以通过顶层窗口`geometry`方法设置窗口的大小和位置，'heightxwidth+x+y'的形式‘800x400+200+300’\n",
    "    - 但有.config方法实现一些常见的组件配置；\n",
    "    - 状态：`iconify`和`withdraw`方法允许脚本隐藏并消除一个正在使用的窗口，`deiconify`会重新创建已删除或隐藏的窗口。state方法查询或改变窗口的状态，有效状态包括iconic,withdraw,zoomed,normal。lift和lower方法能够拉伸和缩短窗口及其同类窗口；.resizable(width=0,height=1)表示只能height方向拉伸窗口\n",
    "    - 菜单"
   ]
  },
  {
   "cell_type": "code",
   "execution_count": null,
   "metadata": {
    "ExecuteTime": {
     "end_time": "2018-12-11T07:20:22.290400Z",
     "start_time": "2018-12-11T07:20:22.274780Z"
    },
    "code_folding": [
     0
    ],
    "hidden": true
   },
   "outputs": [],
   "source": [
    "# %load scripts\\toplevel0.py\n",
    "#!python3\n",
    "# toplevel0.py - Toplevel对象\n",
    "\n",
    "import sys\n",
    "from tkinter import Toplevel, Button, Label\n",
    "\n",
    "win1 = Toplevel()       # 两个独立的顶层窗口，此时已默认创建了一个根窗口\n",
    "win2 = Toplevel()\n",
    "\n",
    "Button(win1, text='spam', command=sys.exit).pack()\n",
    "Button(win2, text='SPAM', command=sys.exit).pack()\n",
    "\n",
    "Label(text='Popups').pack()\n",
    "\n",
    "win1.mainloop()"
   ]
  },
  {
   "cell_type": "code",
   "execution_count": null,
   "metadata": {
    "ExecuteTime": {
     "end_time": "2018-12-11T07:24:35.628888Z",
     "start_time": "2018-12-11T07:24:35.613273Z"
    },
    "code_folding": [],
    "hidden": true
   },
   "outputs": [],
   "source": [
    "# %load scripts\\toplevel1.py\n",
    "#!python\n",
    "# toplevel1.py - 多个独立的根窗口\n",
    "\n",
    "import tkinter\n",
    "from tkinter import Tk, Button\n",
    "tkinter.NoDefaultRoot()\n",
    "\n",
    "win1 = Tk()\n",
    "win2 = Tk()\n",
    "\n",
    "Button(win1, text='spam', command=win1.destroy).pack()\n",
    "Button(win2, text='SPAM', command=win2.destroy).pack()\n",
    "\n",
    "win1.mainloop()"
   ]
  },
  {
   "cell_type": "code",
   "execution_count": null,
   "metadata": {
    "ExecuteTime": {
     "end_time": "2018-12-11T07:36:06.642234Z",
     "start_time": "2018-12-11T07:36:06.610991Z"
    },
    "code_folding": [],
    "hidden": true
   },
   "outputs": [],
   "source": [
    "# %load scripts\\toplevel2.py\n",
    "#!python3\n",
    "# toplevel2.py - 顶层窗口协议\n",
    "\n",
    "from tkinter import *\n",
    "\n",
    "root = Tk()\n",
    "trees = [('The Larch!', 'light blue'),\n",
    "         ('The Pine', 'light green'),\n",
    "         ('The Giant Redwood', 'red')]\n",
    "\n",
    "for tree, color in trees:\n",
    "    win = Toplevel(root)\n",
    "    win.title('Sing...')\n",
    "    win.protocol('WM_DELETE_WINDOW', lambda: None)\n",
    "    win.iconbitmap()\n",
    "\n",
    "    msg = Button(win, text=tree, command=win.destroy)\n",
    "    msg.pack(expand=YES, fill=BOTH)\n",
    "    msg.config(padx=10, pady=10, bd=10, relief=RAISED)\n",
    "    msg.config(bg='black', fg=color, font=('times', 30, 'bold italic'))\n",
    "\n",
    "root.title('Lumberjack demo')\n",
    "Label(root, text='Main Window', width=30).pack()\n",
    "Button(root, text='Quit All', command=root.quit).pack()\n",
    "root.mainloop()"
   ]
  },
  {
   "cell_type": "markdown",
   "metadata": {
    "heading_collapsed": true
   },
   "source": [
    "#### 对话框\n",
    "- 通过脚本弹出的窗口，向用户提供或要求额外的信息。模态对话框会阻止其它界面，直到对话框被关闭；非模态可以停留在屏幕，而不会干扰界面中其它窗口<p>\n",
    "    \n",
    "- `tkinter`带有一组预编码的标准对话框集合，所有标准对话框的调用都是模态的,且<span class=\"mark\">由tkinter基本组件编写而成</span>\n",
    "    - 将对话框封装成类，可复用、连接其它GUI平台\n",
    "    - tkinter.messagebox内函数，返回字符串'Yes'或'No'\n",
    "    - tkinter.colorchooser.askcolor()：返回rgb三元组和颜色十六进制字符组成的元组\n",
    "    - tkinter.filedialog.askopenfilename():返回选择的文件路径\n",
    "    - asksaveasfilename(filetypes,initialdir='',initialfile='')\n",
    "    - askdirectory():打开文件夹\n",
    "    \n",
    "       \n",
    "- 自定义对话框：创建<span class=\"mark\">有附加组件的Toplevel的弹出式窗口</span>；定义模态化对话框需以下三行代码\n",
    "    - `win.focus_set()`:使得窗口接管应用程序的输入焦点\n",
    "    - `win.grab_set()`：禁用应用程序中的所有其他焦点\n",
    "    - `win.wait_window()`：暂停调用，直至`win`组件被销毁\n",
    "    - <span class=\"mark\">在弹出式窗口中也调用mainloop()方法实现模态化？？？？</span>"
   ]
  },
  {
   "cell_type": "code",
   "execution_count": 4,
   "metadata": {
    "ExecuteTime": {
     "end_time": "2018-12-27T13:32:36.450288Z",
     "start_time": "2018-12-27T13:32:36.443307Z"
    },
    "hidden": true
   },
   "outputs": [
    {
     "name": "stdout",
     "output_type": "stream",
     "text": [
      "Messagebox: ['askokcancel', 'askquestion', 'askretrycancel', 'askyesno', 'askyesnocancel', 'showerror', 'showinfo', 'showwarning']\n",
      "\n",
      "Filedialog: ['askdirectory', 'askopenfile', 'askopenfilename', 'askopenfilenames', 'askopenfiles', 'asksaveasfile', 'asksaveasfilename', 'commondialog', 'constants', 'dialogstates', 'enum', 'fnmatch', 'getboolean', 'getdouble', 'getint', 'image_names', 'image_types', 'mainloop', 'messagebox', 'os', 're', 'sys', 'test', 'wantobjects']\n",
      "\n",
      "Simplediaolog: ['askfloat', 'askinteger', 'askstring', 'commondialog', 'constants', 'dialog', 'enum', 'filedialog', 'getboolean', 'getdouble', 'getint', 'image_names', 'image_types', 'mainloop', 'messagebox', 're', 'sys', 'tkinter', 'wantobjects']\n"
     ]
    }
   ],
   "source": [
    "import tkinter.messagebox as msg\n",
    "import tkinter.filedialog as fdg\n",
    "import tkinter.simpledialog as sdg\n",
    "print('Messagebox:',[attr for attr in dir(msg) if not attr.startswith('_') and attr.islower()]);\n",
    "print()\n",
    "print('Filedialog:',[attr for attr in dir(fdg) if not attr.startswith('_') and attr.islower()]); \n",
    "print()\n",
    "print('Simplediaolog:',[attr for attr in dir(sdg) if not attr.startswith('_') and attr.islower()]); "
   ]
  },
  {
   "cell_type": "code",
   "execution_count": 1,
   "metadata": {
    "ExecuteTime": {
     "end_time": "2018-12-12T06:46:59.962926Z",
     "start_time": "2018-12-12T06:45:45.182378Z"
    },
    "code_folding": [
     3
    ],
    "hidden": true
   },
   "outputs": [],
   "source": [
    "from tkinter import *\n",
    "from tkinter.messagebox import *\n",
    "\n",
    "def callback():\n",
    "    if askyesno('Verify', 'Do you really want to quit?'):\n",
    "        showwarning('Yes', 'Quit yet not implemented')\n",
    "    else:\n",
    "        showinfo('No', 'Quit has been cancelled')\n",
    "\n",
    "errmsg = 'Sorry！no spam allowed'\n",
    "Button(text='quit', command=callback).pack(fill=X)\n",
    "Button(text='spam', command=lambda:showerror('spam', errmsg)).pack(fill=X)\n",
    "mainloop()"
   ]
  },
  {
   "cell_type": "markdown",
   "metadata": {
    "hidden": true
   },
   "source": [
    "+ 标准对话框使用示例，注意Button组件构造函数中回调函数`command`参数的使用"
   ]
  },
  {
   "cell_type": "code",
   "execution_count": null,
   "metadata": {
    "ExecuteTime": {
     "end_time": "2018-12-12T07:27:27.135855Z",
     "start_time": "2018-12-12T07:27:27.104589Z"
    },
    "code_folding": [
     11,
     27,
     34
    ],
    "hidden": true
   },
   "outputs": [],
   "source": [
    "# %load scripts\\dialogTable.py\n",
    "#!python3\n",
    "# dialogTable.py - 标准对话框使用示例\n",
    "\n",
    "from tkinter import *\n",
    "from tkinter.messagebox import askokcancel, askquestion, showerror\n",
    "from tkinter.filedialog import askopenfilename\n",
    "from tkinter.colorchooser import askcolor\n",
    "from tkinter.simpledialog import askfloat\n",
    "\n",
    "\n",
    "class Quitter(Frame):\n",
    "    \"\"\"\n",
    "    验证退出请求的Quit按钮；封装成类，可复用、连接其它GUI实例\n",
    "    \"\"\"\n",
    "    def __init__(self, parent=None):\n",
    "        Frame.__init__(self, parent)\n",
    "        self.pack()\n",
    "        widget = Button(self, text='Quit', command=self.quit)\n",
    "        widget.pack(side=LEFT, expand=YES, fill=BOTH)\n",
    "\n",
    "    def quit(self):\n",
    "        ans = askokcancel('Verify exit', 'Really quit?')        # 返回True或False\n",
    "        if ans:\n",
    "            Frame.quit(self)\n",
    "\n",
    "\n",
    "demos = {'Open': askopenfilename,       # 返回选择的文件名\n",
    "         'Color': askcolor,             # 返回表示所选颜色的数据结构或元组(None,None)\n",
    "         'Query': lambda: askquestion('warning', 'You typed \"rm*\"\\nConfirm?'),  # 返回字符串'Yes'或'No'\n",
    "         'Error': lambda: showerror('Error!', 'He is dead,Jack'),\n",
    "         'Input': lambda: askfloat('Entry', 'Enter credit card number')}        # 返回浮点数字对象或None\n",
    "\n",
    "\n",
    "class Demo(Frame):\n",
    "    \"\"\"\n",
    "    创建简单的按钮栏，实现 demos 中的功能\n",
    "    \"\"\"\n",
    "    def __init__(self, parent=None, **options):\n",
    "        Frame.__init__(self, parent, **options)\n",
    "        self.pack()\n",
    "        Label(self, text='Basic Demos').pack()\n",
    "        for (key, value) in demos.items():\n",
    "            Button(self, text=key, command=value).pack(fill=BOTH, side=TOP)\n",
    "        Quitter(self).pack(side=TOP, fill=BOTH)\n",
    "\n",
    "if __name__ == '__main__':\n",
    "    Demo().mainloop()\n",
    "\n",
    "\n"
   ]
  },
  {
   "cell_type": "code",
   "execution_count": null,
   "metadata": {
    "ExecuteTime": {
     "end_time": "2018-12-12T07:51:53.457147Z",
     "start_time": "2018-12-12T07:51:53.441526Z"
    },
    "code_folding": [
     0
    ],
    "hidden": true
   },
   "outputs": [],
   "source": [
    "# %load scripts\\print-dialogResults.py(有更改)\n",
    "#!python3\n",
    "# print-dialogResults.py - 点击按钮打印对话框结果\n",
    "\n",
    "from tkinter import *\n",
    "from dialogTable import Quitter, demos\n",
    "\n",
    "\n",
    "class Demo(Frame):\n",
    "    \"\"\"\n",
    "    显示按下Button后调用对话框后的返回值\n",
    "    \"\"\"\n",
    "    def __init__(self, parent=None):\n",
    "        Frame.__init__(self, parent)\n",
    "        self.pack()\n",
    "        Label(self, text='Basic Demos').pack()\n",
    "        for key in demos:\n",
    "            func = (lambda key=key: self.printit(key))      # 使用 lambda 函数传递回调数据\n",
    "            Button(self, text=key, command=func).pack(side=TOP, fill=BOTH)\n",
    "        Quitter(self).pack(side=TOP, fill=BOTH)\n",
    "\n",
    "    def printit(self, name):\n",
    "        func=demos[name]()\n",
    "        print(name, 'returns=>',func) # 打印对话框返回值\n",
    "\n",
    "\n",
    "if __name__ == '__main__':\n",
    "    Demo().mainloop()\n"
   ]
  },
  {
   "cell_type": "markdown",
   "metadata": {
    "hidden": true
   },
   "source": [
    "- 注意：使用`lambda`函数传递回调数据"
   ]
  },
  {
   "cell_type": "code",
   "execution_count": null,
   "metadata": {
    "ExecuteTime": {
     "end_time": "2018-12-12T08:01:09.620049Z",
     "start_time": "2018-12-12T08:01:09.604454Z"
    },
    "code_folding": [
     0
    ],
    "hidden": true
   },
   "outputs": [],
   "source": [
    "# %load scripts\\setcolor.py\n",
    "#!python3\n",
    "# setcolor.py - 使用对话框返回值，设置背景颜色\n",
    "\n",
    "from tkinter import *\n",
    "from tkinter.colorchooser import askcolor\n",
    "\n",
    "\n",
    "def set_bg_color():\n",
    "    (triple, hexstr) = askcolor() # 对话框返回值\n",
    "    if hexstr:\n",
    "        print(hexstr)\n",
    "        push.config(bg=hexstr)\n",
    "\n",
    "\n",
    "root = Tk()\n",
    "push = Button(root, text='Set Background Color', command=set_bg_color)\n",
    "push.config(height=3, font=('times', 20, 'bold'))\n",
    "push.pack(expand=YES, fill=BOTH)\n",
    "root.mainloop()"
   ]
  },
  {
   "cell_type": "code",
   "execution_count": null,
   "metadata": {
    "ExecuteTime": {
     "end_time": "2018-12-12T08:23:48.109759Z",
     "start_time": "2018-12-12T08:23:48.094139Z"
    },
    "code_folding": [
     0,
     11
    ],
    "hidden": true
   },
   "outputs": [],
   "source": [
    "# %load scripts\\custom-dialog.py\n",
    "#!python3\n",
    "# custom-dialog.py - 自定义对话框\n",
    "\n",
    "\n",
    "import sys\n",
    "from tkinter import *\n",
    "\n",
    "makemodal = (len(sys.argv) > 1)\n",
    "\n",
    "\n",
    "def dialog():\n",
    "    win = Toplevel()\n",
    "    Label(win, text='Hard drive reformatted!').pack()\n",
    "    Button(win, text='OK', command=win.destroy).pack()\n",
    "    if makemodal:               # 脚本在有命令行参数的情况下运行，为模态对话框\n",
    "        win.focus_set()         # 获得输入焦点\n",
    "        win.grab_set()          # 打开时禁用其它窗口\n",
    "        win.wait_window()       # 在win销毁之前，持续等待\n",
    "    print('dialog exit')\n",
    "\n",
    "\n",
    "root = Tk()\n",
    "Button(root, text='popup', command=dialog).pack()\n",
    "root.mainloop()"
   ]
  },
  {
   "cell_type": "code",
   "execution_count": null,
   "metadata": {
    "hidden": true
   },
   "outputs": [],
   "source": []
  },
  {
   "cell_type": "markdown",
   "metadata": {
    "heading_collapsed": true
   },
   "source": [
    "#### 绑定事件\n",
    "- 组件对象调用`.bind('<Button-1>',func)`,`<Button-1>`为`Event`类的实例,该事件的属性被提供给绑定的函数`func`\n",
    "    - `<KeyPress>`，键盘上的单键的按下，该事件的属性`event.char`为按下的键的ASCII字符串形式\n",
    "    - `<B1-Motion>`，按下鼠标左键并拖动时被调用，提供鼠标当前位置`event.x`和`event.y`。这些对象可用于实现对象的移动、拖动、像素级绘画等等\n",
    "    - `<Button-2>,<Button-3>`,捕捉鼠标中键和右键\n",
    "    - `<Return>,<Up>`，捕捉回车键和上箭头键\n",
    "    - `<ButtonPress>,<ButtonRelease>`,按下或松开一个按钮，会触发\n",
    "    - `<Motion>`，鼠标指标移动时会触发\n",
    "    - `<Enter>,<Leave>`，处理程序阻断窗口显示区域的鼠标的进入和退出\n",
    "    - `<Configure>`，窗口的大小、位置等参数改变时\n",
    "    - `<Destroy>`，销毁窗口组件时\n",
    "    - ....\n",
    "    \n",
    "- An event pattern is of the form `<MODIFIER-MODIFIER-TYPE-DETAIL>`\n",
    "- MODIFIER is one of Control, Mod2, M2, Shift, Mod3, M3, Lock, Mod4, M4,Button1, B1, Mod5, M5 Button2, B2, Meta, M, Button3,B3, Alt, Button4, B4, Double, Button5, B5 Triple,Mod1, M1. \n",
    "- TYPE is one of Activate, Enter, Map,ButtonPress, Button, Expose, Motion, ButtonRelease,FocusIn, MouseWheel, Circulate, FocusOut, Property,Colormap, Gravity Reparent, Configure, KeyPress, Key,Unmap, Deactivate, KeyRelease Visibility, Destroy,Leave \n",
    "- DETAIL is the button number for ButtonPress,ButtonRelease and DETAIL is the Keysym for KeyPress and KeyRelease."
   ]
  },
  {
   "cell_type": "code",
   "execution_count": null,
   "metadata": {
    "ExecuteTime": {
     "end_time": "2018-12-12T09:43:01.913434Z",
     "start_time": "2018-12-12T09:43:01.882191Z"
    },
    "code_folding": [
     0
    ],
    "hidden": true
   },
   "outputs": [],
   "source": [
    "# %load scripts\\bind.py\n",
    "#!python3\n",
    "# bind.py - 绑定事件\n",
    "\n",
    "from tkinter import *\n",
    "\n",
    "\n",
    "def showPoseEvent(event):\n",
    "    print('Widget=%s X=%s Y=%s' % (event.widget, event.x, event.y))\n",
    "\n",
    "\n",
    "def showAllEvent(event):\n",
    "    print(event)\n",
    "    for attr in dir(event):\n",
    "        if not attr.startswith('__'):\n",
    "            print(attr, '=>', getattr(event, attr))\n",
    "\n",
    "\n",
    "def onKeyPress(event):\n",
    "    print('Got key press:', event.char)\n",
    "\n",
    "\n",
    "def onArrowKey(event):\n",
    "    print('Got up arrow key press')\n",
    "\n",
    "\n",
    "def onReturnKey(event):\n",
    "    print('Got return key press')\n",
    "\n",
    "\n",
    "def onLeftClick(event):\n",
    "    print('Got left mouse button click:', end=' ')\n",
    "    showPoseEvent(event)\n",
    "\n",
    "\n",
    "def onRightClick(event):\n",
    "    print('Got right mouse button clcik:', end=' ')\n",
    "    showPoseEvent(event)\n",
    "\n",
    "\n",
    "def onMiddleClick(event):\n",
    "    print('Got middle mouse button click:', end=' ')\n",
    "    showPoseEvent(event)\n",
    "    showAllEvent(event)\n",
    "\n",
    "\n",
    "def onLeftDrag(event):\n",
    "    print('Got left mouse button drag:', end=' ')\n",
    "    showPoseEvent(event)\n",
    "\n",
    "\n",
    "def onDoubleLeftClick(event):\n",
    "    print('Got double left mouse click:', end=' ')\n",
    "    showPoseEvent(event)\n",
    "    showAllEvent(event)\n",
    "\n",
    "\n",
    "tkroot = Tk()\n",
    "labelfont = ('courier', 20, 'bold')\n",
    "widget = Label(tkroot, text='Hello bind world')\n",
    "widget.config(bg='red', font=labelfont)\n",
    "widget.config(height=5, width=20)\n",
    "widget.pack(expand=YES, fill=BOTH)\n",
    "\n",
    "widget.bind('<Button-1>', onLeftClick)          # 鼠标左键单击\n",
    "widget.bind('<Button-3>', onRightClick)         # 鼠标右键单击\n",
    "widget.bind('<Button-2>', onMiddleClick)        # 鼠标中键单击\n",
    "\n",
    "widget.bind('<Double-1>', onDoubleLeftClick)    # 鼠标左键双击\n",
    "widget.bind('<B1-Motion>', onLeftDrag)          # 单击鼠标左键并拖动\n",
    "\n",
    "widget.bind('<KeyPress>', onKeyPress)           # 按下左右键盘键\n",
    "widget.bind('<Up>', onArrowKey)                 # 按下箭头键\n",
    "widget.bind('<Return>', onReturnKey)            # 按下返回\\回车键\n",
    "widget.focus()\n",
    "tkroot.title('Click Me')\n",
    "tkroot.mainloop()\n"
   ]
  },
  {
   "cell_type": "markdown",
   "metadata": {
    "heading_collapsed": true
   },
   "source": [
    "#### Message和Entry组件\n",
    "- Message组件简单地用于显示文本\n",
    "- Entry组件是一种简单、单行的文本输入框，用作表单格式的对话框的输入区域\n",
    "    - 调用组件对象`.insert(0,content)`在输入框指定位置插入文本；`.delete(0,END)`删除指定位置文本；`.get()`方法，获取输入栏中的文本\n",
    "    - `state='disabled'`,设置组件为只读；`show='*'`,将输入字符显示为`'*'`(密码输入情况）\n",
    "    - 将组件对象的`textvariable`链接至变量对象，通过变量对象的`.set(content)`和`.get()`方法获取输入栏中的文本；组件对象销毁后，该变量仍存在\n",
    "    - 绑定在组件上的变量是变量类`StringVar,IntVar,DoubleVar,BooleanVar`的实例"
   ]
  },
  {
   "cell_type": "code",
   "execution_count": null,
   "metadata": {
    "ExecuteTime": {
     "end_time": "2018-12-12T13:34:19.235960Z",
     "start_time": "2018-12-12T13:34:19.218975Z"
    },
    "code_folding": [
     0
    ],
    "hidden": true
   },
   "outputs": [],
   "source": [
    "# %load scripts\\message.py\n",
    "#!python3\n",
    "# message.py - message组件\n",
    "\n",
    "from tkinter import *\n",
    "msg = Message(text='Oh by the way,which one is pink')\n",
    "msg.config(bg='pink', font=('times', 16, 'italic'))\n",
    "msg.pack(fill=X, expand=YES)\n",
    "mainloop()"
   ]
  },
  {
   "cell_type": "code",
   "execution_count": null,
   "metadata": {
    "ExecuteTime": {
     "end_time": "2018-12-16T06:24:45.366773Z",
     "start_time": "2018-12-16T06:24:45.335530Z"
    },
    "code_folding": [
     0
    ],
    "hidden": true
   },
   "outputs": [],
   "source": [
    "# %load scripts\\entry1.py\n",
    "#!python3\n",
    "# entry1.py -\n",
    "\n",
    "from tkinter import *\n",
    "from dialogTable import Quitter\n",
    "\n",
    "\n",
    "def fetch():        # 获取文本输入框类文本\n",
    "    print('Input =>\"%s\"' % ent.get())\n",
    "\n",
    "\n",
    "root = Tk()\n",
    "ent = Entry(root, show='*')\n",
    "ent.insert(0, 'Type words here')\n",
    "ent.pack(side=TOP, fill=X)\n",
    "\n",
    "ent.focus()     # 设置得出输入字段的输入焦点，可以使用户在输入前不必单击输入框\n",
    "ent.bind('<Return>', (lambda event: fetch()))\n",
    "btn = Button(root, text='Fetch', command=fetch)\n",
    "btn.pack(side=LEFT)\n",
    "Quitter(root).pack(side=RIGHT)\n",
    "root.mainloop()"
   ]
  },
  {
   "cell_type": "code",
   "execution_count": null,
   "metadata": {
    "ExecuteTime": {
     "end_time": "2018-12-16T06:25:09.509133Z",
     "start_time": "2018-12-16T06:25:09.477905Z"
    },
    "code_folding": [
     0
    ],
    "hidden": true
   },
   "outputs": [],
   "source": [
    "# %load scripts\\entry2.py\n",
    "#!python3\n",
    "# entry2.py - 设计输入表单\n",
    "\n",
    "\n",
    "from tkinter import *\n",
    "from dialogTable import Quitter\n",
    "fields = 'Name', 'Job', 'Pay'\n",
    "\n",
    "\n",
    "def fetch(entries):\n",
    "    for entry in entries:\n",
    "        print('Input=>\"%s\"' % entry.get())\n",
    "\n",
    "\n",
    "def makeform(root, fields):\n",
    "    entries = []\n",
    "    for field in fields:\n",
    "        row = Frame(root)   # 基于框架的表单设计\n",
    "        lab = Label(row, width=5, text=field)\n",
    "        ent = Entry(row)\n",
    "        row.pack(side=TOP, fill=X)      # 每组 Label 和 Entry 对象添加在 Frame 上\n",
    "        lab.pack(side=LEFT)\n",
    "        ent.pack(side=RIGHT, expand=YES, fill=X)\n",
    "        entries.append(ent)\n",
    "    return entries\n",
    "\n",
    "\n",
    "if __name__ == '__main__':\n",
    "    root = Tk()\n",
    "    ents = makeform(root, fields)\n",
    "    root.bind('<Return>', (lambda event: fetch(ents)))\n",
    "    Button(root, text='Fetch', command=(lambda: fetch(ents))).pack(side=LEFT)\n",
    "    Quitter(root).pack(side=RIGHT)\n",
    "    root.mainloop()"
   ]
  },
  {
   "cell_type": "code",
   "execution_count": null,
   "metadata": {
    "ExecuteTime": {
     "end_time": "2018-12-16T06:32:48.994319Z",
     "start_time": "2018-12-16T06:32:48.963108Z"
    },
    "code_folding": [
     0
    ],
    "hidden": true
   },
   "outputs": [],
   "source": [
    "# %load scripts\\entry2-modal.py\n",
    "#!python3\n",
    "# entry2-modal.py - 设置表单对话框为模态；\n",
    "\n",
    "from tkinter import *\n",
    "from entry2 import makeform, fetch, fields\n",
    "\n",
    "\n",
    "def show(entries, popup):\n",
    "    fetch(entries)\n",
    "    popup.destroy()\n",
    "\n",
    "\n",
    "def ask():\n",
    "    popup = Toplevel()      # 基于弹出窗口创建表单\n",
    "    ents = makeform(popup, fields)\n",
    "    Button(popup, text='Ok', command=lambda: show(ents, popup)).pack()\n",
    "    popup.grab_set()\n",
    "    popup.focus_set()\n",
    "    popup.wait_window()     # 模态窗口，会阻止其它界面直至该窗口关闭\n",
    "\n",
    "\n",
    "root = Tk()\n",
    "\n",
    "Button(root, text='Dialog', command=ask).pack()\n",
    "root.mainloop()\n"
   ]
  },
  {
   "cell_type": "code",
   "execution_count": null,
   "metadata": {
    "ExecuteTime": {
     "end_time": "2018-12-16T06:57:08.129430Z",
     "start_time": "2018-12-16T06:57:08.113842Z"
    },
    "code_folding": [
     0
    ],
    "hidden": true
   },
   "outputs": [],
   "source": [
    "# %load scripts\\entry3.py\n",
    "#!python3\n",
    "# entry3.py - 使用StringVar变量对象来获取输入框的值\n",
    "\n",
    "from tkinter import *\n",
    "from dialogTable import Quitter\n",
    "\n",
    "fields = 'Name', 'Job', 'Pay'\n",
    "\n",
    "\n",
    "def fetch(variables):\n",
    "    for variable in variables:\n",
    "        print('Input =>\"%s\"' % variable.get())  # 从变量对象中获取Entry组件的输入值\n",
    "\n",
    "\n",
    "def makeform(root, fields):\n",
    "    form = Frame(root)\n",
    "    left = Frame(form)\n",
    "    rite = Frame(form)\n",
    "    form.pack(fill=X)\n",
    "    left.pack(side=LEFT)\n",
    "    rite.pack(side=RIGHT, expand=YES, fill=X)\n",
    "    variables = []\n",
    "    for field in fields:\n",
    "        lab = Label(left, width=5, text=field)\n",
    "        ent = Entry(rite)\n",
    "        lab.pack(side=TOP)\n",
    "        ent.pack(side=TOP, fill=X)\n",
    "        var = StringVar()\n",
    "        ent.config(textvariable=var)  # 利用变量对象来获取输入框的文本\n",
    "        var.set('Enter here')\n",
    "        variables.append(var)\n",
    "    return variables\n",
    "\n",
    "\n",
    "if __name__ == '__main__':\n",
    "    root = Tk()\n",
    "    vars = makeform(root, fields)\n",
    "    Button(root, text='Fetch', command=lambda: fetch(vars)).pack(side=LEFT)\n",
    "    Quitter(root).pack(side=RIGHT)\n",
    "    root.bind('<Return>', lambda event: fetch(vars))\n",
    "    root.mainloop()"
   ]
  },
  {
   "cell_type": "code",
   "execution_count": null,
   "metadata": {
    "ExecuteTime": {
     "end_time": "2018-12-16T07:07:46.224998Z",
     "start_time": "2018-12-16T07:07:46.193755Z"
    },
    "code_folding": [
     0
    ],
    "hidden": true
   },
   "outputs": [],
   "source": [
    "# %load scripts\\entry3-modal.py\n",
    "#!python3\n",
    "# entry3-modal.py - 使用变量对象链接至模态对话框的输入值\n",
    "\n",
    "from tkinter import *\n",
    "from entry3 import makeform, fetch, fields\n",
    "\n",
    "\n",
    "def show(variables, popup):\n",
    "    popup.destroy()     # 弹出窗口先销毁\n",
    "    fetch(variables)    # 变量在窗口销毁后仍存在\n",
    "\n",
    "\n",
    "def ask():\n",
    "    popup = Toplevel()\n",
    "    vars = makeform(popup, fields)\n",
    "    Button(popup, text='OK', command=lambda: show(vars, popup)).pack()\n",
    "    popup.grab_set()\n",
    "    popup.focus_set()\n",
    "    popup.wait_window()\n",
    "\n",
    "\n",
    "root = Tk()\n",
    "Button(root, text='Dialog', command=ask).pack()\n",
    "root.mainloop()"
   ]
  },
  {
   "cell_type": "markdown",
   "metadata": {
    "ExecuteTime": {
     "end_time": "2018-12-12T14:43:38.863610Z",
     "start_time": "2018-12-12T14:43:38.858623Z"
    },
    "heading_collapsed": true
   },
   "source": [
    "#### Checkbutton、Radiobutton 和 Scale\n",
    "1. Checkbutton(复选输入组件)：通过对每个按钮分配变量，来实现多选接口。\n",
    "    - `<span class=\"mark\">command`选项允许注册回调，和`Button`组件一样。不论复选按钮是选中还是为选中，按下按钮，`Checkbutton`的`command`回调都会运行   \n",
    "    - `variable`选项，获取复选按钮组件的状态，默认情况下，按钮选中时，其值为1，反之为0。<span class=\"mark\">每个复选按钮无法像单选按钮一样设置自己的`value`属性</span>\n",
    "    \n",
    "    \n",
    "2. Radiobutton(单选输入组件)：通过给每个按钮变量赋予特殊的值，实现互斥的单选按钮\n",
    "    - `value`属性表示单选按钮被选中时，按钮变量获得的值  \n",
    "    - 保证单选按钮正常工作，每个单选按钮设定不同的`value`值，但是要关联同样的`variable`；手动将该共享变量的值设定特定的`value`，该`value`对应的按钮会被选中\n",
    "    - 多个按钮的`value`值相同，选中一个时会选中全部这多个按钮\n",
    "    \n",
    "    \n",
    "3. Scale(滑动条)\n",
    "    - `variable`属性同上，多个Scale对象设定同一个变量，可用来同步化标尺；但也可不设置而直接调用滑动条对象的`set`和`get`方法   \n",
    "    - `command`属性对应的函数<span class=\"mark\">会自动获取`Scale`对象的`value`作为参数</span></span>"
   ]
  },
  {
   "cell_type": "code",
   "execution_count": null,
   "metadata": {
    "ExecuteTime": {
     "end_time": "2018-12-15T06:24:33.352728Z",
     "start_time": "2018-12-15T06:24:33.321519Z"
    },
    "code_folding": [
     0
    ],
    "hidden": true
   },
   "outputs": [],
   "source": [
    "# %load scripts\\demoCheck.py\n",
    "#!python3\n",
    "# demoCheck.py -\n",
    "\n",
    "from tkinter import *\n",
    "from dialogTable import demos, Quitter\n",
    "\n",
    "\n",
    "class Demo(Frame):\n",
    "    def __init__(self, parent=None, **options):\n",
    "        Frame.__init__(self, parent, **options)\n",
    "        self.pack()\n",
    "        self.tools()\n",
    "        Label(self, text='Check demos').pack()\n",
    "        self.vars = []\n",
    "        for key in demos:\n",
    "            var = IntVar()  # 初始时为空，即按钮未被选中时该变量为0，选中后变为1\n",
    "            var.set(5)      # 将初始值设为5，即按钮未被选中时变量为5，选中后变为1\n",
    "            Checkbutton(self, text=key, variable=var,\n",
    "                        command=demos[key]).pack(side=LEFT)\n",
    "            self.vars.append(var)\n",
    "\n",
    "    def report(self):\n",
    "        for var in self.vars:\n",
    "            print(var.get(), end=' ')\n",
    "        print()\n",
    "\n",
    "    def tools(self):\n",
    "        frm = Frame(self)\n",
    "        frm.pack(side=RIGHT)\n",
    "        Button(frm, text='State', command=self.report).pack(fill=X)\n",
    "        Quitter(frm).pack(fill=X)\n",
    "\n",
    "\n",
    "if __name__ == '__main__':\n",
    "    Demo().mainloop()"
   ]
  },
  {
   "cell_type": "code",
   "execution_count": null,
   "metadata": {
    "ExecuteTime": {
     "end_time": "2018-12-15T07:55:14.685242Z",
     "start_time": "2018-12-15T07:55:14.669620Z"
    },
    "code_folding": [
     0
    ],
    "hidden": true,
    "scrolled": true
   },
   "outputs": [],
   "source": [
    "# %load scripts\\demoCheck-manual.py\n",
    "#!python3\n",
    "# demoCheck-manual.py -\n",
    "\n",
    "from tkinter import *\n",
    "states = []\n",
    "\n",
    "\n",
    "def onPress(i):\n",
    "    states[i] = not states[i]       # 由False变为True，由True变为False\n",
    "\n",
    "\n",
    "root = Tk()\n",
    "for i in range(10):\n",
    "    chk = Checkbutton(root, text=str(i), command=lambda i=i: onPress(i))\n",
    "    chk.pack(side=LEFT)\n",
    "    states.append(False)\n",
    "\n",
    "\n",
    "root.mainloop()\n",
    "print(states)"
   ]
  },
  {
   "cell_type": "code",
   "execution_count": null,
   "metadata": {
    "ExecuteTime": {
     "end_time": "2018-12-15T06:57:43.012736Z",
     "start_time": "2018-12-15T06:57:42.997106Z"
    },
    "code_folding": [
     0
    ],
    "hidden": true
   },
   "outputs": [],
   "source": [
    "# %load scripts\\demoRadio.py\n",
    "#!python3\n",
    "# demoRadio.py -\n",
    "\n",
    "\n",
    "from tkinter import *\n",
    "from dialogTable import demos, Quitter\n",
    "\n",
    "\n",
    "class Demo(Frame):\n",
    "    def __init__(self, parent=None, **options):\n",
    "        Frame.__init__(self, parent, **options)\n",
    "        self.pack()\n",
    "        Label(self, text='Radio demos').pack(side=TOP)\n",
    "        self.var = StringVar()\n",
    "        for key in demos:\n",
    "            Radiobutton(self, text=key, command=self.onPress,\n",
    "                        variable=self.var, value=key).pack(anchor=NW)\n",
    "            # 每个单选按钮设定了不同的value值，但关联了同一个变量 self.var\n",
    "            # 哪个按钮被选中，共享变量self.var的值即变为该按钮的value\n",
    "\n",
    "        self.var.set(key)\n",
    "        Button(self, text='State', command=self.report).pack(fill=X)\n",
    "        Quitter(self).pack(fill=X)\n",
    "\n",
    "    def onPress(self):\n",
    "        pick = self.var.get()\n",
    "        print('you pressed ', pick)\n",
    "        print('result:', demos[pick]())\n",
    "\n",
    "    def report(self):\n",
    "        print(self.var.get())\n",
    "\n",
    "\n",
    "if __name__ == '__main__':\n",
    "    Demo().mainloop()"
   ]
  },
  {
   "cell_type": "code",
   "execution_count": null,
   "metadata": {
    "ExecuteTime": {
     "end_time": "2018-12-15T07:07:59.079948Z",
     "start_time": "2018-12-15T07:07:59.048684Z"
    },
    "code_folding": [
     0
    ],
    "hidden": true
   },
   "outputs": [],
   "source": [
    "# %load scripts\\demoRadio-multi.py\n",
    "#!python3\n",
    "# demoRadio-multi.py - 将多个单选按钮的value属性设为相同\n",
    "\n",
    "from tkinter import *\n",
    "root = Tk()\n",
    "var = StringVar()\n",
    "for i in range(10):\n",
    "    rad = Radiobutton(root, text=str(i), variable=var, value=str(i % 3))\n",
    "    # 多个单选按钮的value值相同，选中一个时选中一组\n",
    "    \n",
    "    rad.pack(side=LEFT, fill=BOTH, expand=YES)\n",
    "var.set(' ')\n",
    "root.mainloop()"
   ]
  },
  {
   "cell_type": "code",
   "execution_count": null,
   "metadata": {
    "ExecuteTime": {
     "end_time": "2018-12-15T07:59:41.553425Z",
     "start_time": "2018-12-15T07:59:41.537804Z"
    },
    "code_folding": [
     0
    ],
    "hidden": true
   },
   "outputs": [],
   "source": [
    "# %load scripts\\demoScale.py\n",
    "#!python3\n",
    "# demoScale.py -\n",
    "\n",
    "from tkinter import *\n",
    "from dialogTable import demos, Quitter\n",
    "\n",
    "\n",
    "class Demo(Frame):\n",
    "    def __init__(self, parent=None, **options):\n",
    "        Frame.__init__(self, parent, **options)\n",
    "        self.pack()\n",
    "        Label(self, text='Scale demos').pack()\n",
    "        self.var = IntVar()\n",
    "\n",
    "        # 两个Scale对象设置同样的variable，滑动一个标尺，另一个标尺位置自动变化\n",
    "        Scale(self, label='Pick demo number',\n",
    "              command=self.onMove, variable=self.var,\n",
    "              from_=0, to=len(demos)-1).pack()\n",
    "        Scale(self, label='Pick demo number',\n",
    "              command=self.onMove, variable=self.var,   # command 对应的回调函数会自动获取对象值作为参数\n",
    "              from_=0, to=len(demos)-1,\n",
    "              length=200, tickinterval=1,\n",
    "              showvalue=YES, orient='horizontal').pack()\n",
    "\n",
    "        Quitter(self).pack(side=LEFT)\n",
    "        Button(self, text='Run demo', command=self.onRun).pack(side=LEFT)\n",
    "        Button(self, text='State', command=self.report).pack(side=RIGHT)\n",
    "\n",
    "    def onMove(self, value):\n",
    "        print('in move ', value)\n",
    "\n",
    "    def onRun(self):\n",
    "        pos = self.var.get()\n",
    "        print('You picked ', pos)\n",
    "        demo = list(demos.values())[pos]\n",
    "        print(demo())\n",
    "\n",
    "    def report(self):\n",
    "        print(self.var.get())\n",
    "\n",
    "\n",
    "if __name__ == '__main__':\n",
    "    print(list(demos.keys()))\n",
    "    Demo().mainloop()\n",
    "\n"
   ]
  },
  {
   "cell_type": "code",
   "execution_count": null,
   "metadata": {
    "hidden": true
   },
   "outputs": [],
   "source": []
  },
  {
   "cell_type": "markdown",
   "metadata": {
    "heading_collapsed": true
   },
   "source": [
    "#### 组装GUI程序\n",
    "1. 将每个GUI程序作为子框架在一个单容器中显示\n",
    "2. 将每个GUI添加到自己独立的Toplevel窗口中，但每个窗口并不是真正的独立进程\n",
    "3. 给每一个GUI创建为独立的进程\n",
    "> 在循环中通过名称字符导入模块: `module=__import__(name)`，避免程序中过多`import`语句"
   ]
  },
  {
   "cell_type": "code",
   "execution_count": null,
   "metadata": {
    "ExecuteTime": {
     "end_time": "2018-12-13T10:53:16.340065Z",
     "start_time": "2018-12-13T10:53:16.305151Z"
    },
    "code_folding": [
     0
    ],
    "hidden": true
   },
   "outputs": [],
   "source": [
    "# %load scripts\\demoAll-frm.py\n",
    "#!python3\n",
    "# demoAll-frm.py - 一个单容器中显示多个组件\n",
    "\n",
    "\n",
    "from tkinter import *\n",
    "from dialogTable import Quitter\n",
    "\n",
    "demoMudules = ['dialogTable', 'demoCheck', 'demoRadio', 'demoScale']\n",
    "parts = []\n",
    "\n",
    "\n",
    "def  addComponents(root):\n",
    "    for demo in demoMudules:\n",
    "        module = __import__(demo)\n",
    "        part = module.Demo(root)\n",
    "        part.config(bd=2, relief=GROOVE)\n",
    "        part.pack(side=LEFT, fill=BOTH, expand=YES)\n",
    "        parts.append(part)\n",
    "\n",
    "\n",
    "def dumpState():\n",
    "    for part in parts:\n",
    "        print(part.__module__+':', end=' ')\n",
    "        if hasattr(part, 'report'):\n",
    "            part.report()\n",
    "        else:\n",
    "            print('none')\n",
    "\n",
    "\n",
    "root = Tk()\n",
    "root.title('Frames')\n",
    "Label(root, text='Multipile Frame demo', bg='white').pack()\n",
    "Button(root, text='State', command=dumpState).pack(fill=X)\n",
    "Quitter(root).pack(fill=X)\n",
    "addComponents(root)\n",
    "root.mainloop()"
   ]
  },
  {
   "cell_type": "code",
   "execution_count": null,
   "metadata": {
    "ExecuteTime": {
     "end_time": "2018-12-13T12:59:41.720483Z",
     "start_time": "2018-12-13T12:59:41.688286Z"
    },
    "code_folding": [
     0
    ],
    "hidden": true
   },
   "outputs": [],
   "source": [
    "# %load scripts\\demoAll-win.py\n",
    "#!python3\n",
    "# demoAll-win.py - 多个独立的顶层窗口\n",
    "\n",
    "from tkinter import *\n",
    "demoMudules = ['dialogTable', 'demoCheck', 'demoRadio', 'demoScale']\n",
    "\n",
    "\n",
    "def makePopups(modnames):\n",
    "    demoObjects = []\n",
    "    for modname in modnames:\n",
    "        module = __import__(modname)\n",
    "        window = Toplevel()\n",
    "        demo = module.Demo(window)\n",
    "        window.title(module.__name__)\n",
    "        demoObjects.append(demo)\n",
    "    return demoObjects\n",
    "\n",
    "\n",
    "def allstates(demoObjects):\n",
    "    for obj in demoObjects:\n",
    "        if hasattr(obj, 'report'):\n",
    "            print(obj.__module__, end=' ')\n",
    "            obj.report()\n",
    "\n",
    "\n",
    "root = Tk()\n",
    "root.title('Popups')\n",
    "demos = makePopups(demoMudules)\n",
    "Label(root, text='Multipile Toplevel window demo', bg='white').pack()\n",
    "Button(root, text='States', command=lambda: allstates(demos)).pack(fill=X)\n",
    "root.mainloop()"
   ]
  },
  {
   "cell_type": "code",
   "execution_count": null,
   "metadata": {
    "ExecuteTime": {
     "end_time": "2018-12-13T13:00:15.822490Z",
     "start_time": "2018-12-13T13:00:15.806259Z"
    },
    "code_folding": [
     0
    ],
    "hidden": true
   },
   "outputs": [],
   "source": [
    "# %load scripts\\demoAll-prg-multi.py\n",
    "#!python3\n",
    "# demoAll-prg-multi.py - 退出一个窗口不影响其它窗口\n",
    "\n",
    "\n",
    "from tkinter import *\n",
    "from multiprocessing import Process\n",
    "demoMudules = ['dialogTable', 'demoCheck', 'demoRadio', 'demoScale']\n",
    "\n",
    "\n",
    "def runDemo(modname):\n",
    "    module = __import__(modname)\n",
    "    module.Demo().mainloop()\n",
    "\n",
    "\n",
    "if __name__ == '__main__':\n",
    "    for modname in demoMudules:\n",
    "        Process(target=runDemo, args=(modname,)).start()\n",
    "\n",
    "    root = Tk()\n",
    "    root.title('Process')\n",
    "    Label(root, text='Multiple program demo:multiprocessing', bg='white').pack()\n",
    "    root.mainloop()\n",
    "\n"
   ]
  },
  {
   "cell_type": "markdown",
   "metadata": {
    "heading_collapsed": true
   },
   "source": [
    "#### 图像\n",
    "1. **tkinter中图形图像显示的方法是，创建独立的PhotoImage或BitmapImage对象，然后将组件的image属性设置为这些对象**\n",
    "2. 标签、按钮、画布、文本和菜单能够通过关联预置图像对象来显示图像"
   ]
  },
  {
   "cell_type": "markdown",
   "metadata": {
    "hidden": true
   },
   "source": [
    "1. tkinter受底层的Tk库的限制，PhotoImage组件只支持GIF、PPM和PGM格式的图形文件类型，BitmapImage组件只支持X.Windows类型的.xbm位图文件"
   ]
  },
  {
   "cell_type": "code",
   "execution_count": null,
   "metadata": {
    "ExecuteTime": {
     "end_time": "2018-12-14T12:26:19.482089Z",
     "start_time": "2018-12-14T12:26:19.348809Z"
    },
    "code_folding": [
     0
    ],
    "hidden": true
   },
   "outputs": [],
   "source": [
    "# %load scripts\\imgButton.py\n",
    "#!python3\n",
    "# imageButton.py -\n",
    "\n",
    "from tkinter import *\n",
    "gifdir = '../images/'\n",
    "win = Tk()\n",
    "igm = PhotoImage(file=gifdir+'ora-pp.gif')\n",
    "Button(win, image=igm).pack()\n",
    "win.mainloop()"
   ]
  },
  {
   "cell_type": "code",
   "execution_count": null,
   "metadata": {
    "ExecuteTime": {
     "end_time": "2018-12-14T12:26:44.436315Z",
     "start_time": "2018-12-14T12:26:44.431317Z"
    },
    "code_folding": [
     0
    ],
    "hidden": true
   },
   "outputs": [],
   "source": [
    "# %load scripts\\imgCanvas.py\n",
    "#!python3\n",
    "# imgCanvas.py -\n",
    "\n",
    "from tkinter import *\n",
    "gifdir = '../images/'\n",
    "win = Tk()\n",
    "img = PhotoImage(file=gifdir+'ora-lp4e.gif')\n",
    "can = Canvas(win)\n",
    "can.pack(fill=BOTH)\n",
    "can.create_image(2, 2, image=img, anchor=NW)    # x和y坐标\n",
    "win.mainloop()\n"
   ]
  },
  {
   "cell_type": "code",
   "execution_count": null,
   "metadata": {
    "ExecuteTime": {
     "end_time": "2018-12-14T12:27:03.380318Z",
     "start_time": "2018-12-14T12:27:03.375331Z"
    },
    "code_folding": [
     0
    ],
    "hidden": true
   },
   "outputs": [],
   "source": [
    "# %load scripts\\imgCanvas2.py\n",
    "#!python3\n",
    "# imgCanvas2.py -\n",
    "\n",
    "from sys import argv\n",
    "from tkinter import *\n",
    "\n",
    "gifdir = '../images/'\n",
    "filename = argv[1] if len(argv) > 1 else 'ora-lp4e.gif'   # 通过命令行输入图片地址\n",
    "\n",
    "win = Tk()\n",
    "img = PhotoImage(file=gifdir+filename)\n",
    "can = Canvas(win)\n",
    "can.pack(fill=BOTH)\n",
    "can.config(width=img.width(), height=img.height())\n",
    "can.create_image(2, 2, image=img, anchor=NW)\n",
    "win.mainloop()"
   ]
  },
  {
   "cell_type": "code",
   "execution_count": null,
   "metadata": {
    "ExecuteTime": {
     "end_time": "2018-12-14T12:36:26.168189Z",
     "start_time": "2018-12-14T12:36:26.163204Z"
    },
    "code_folding": [
     0
    ],
    "hidden": true
   },
   "outputs": [],
   "source": [
    "# %load scripts\\buttonpics-func.py\n",
    "#!python3\n",
    "# buttonpics-func.py -\n",
    "\n",
    "\n",
    "from tkinter import *\n",
    "from glob import glob\n",
    "import demoCheck\n",
    "import random\n",
    "\n",
    "gifdir = '../images/'\n",
    "\n",
    "\n",
    "def draw():\n",
    "    name, photo = random.choice(images)\n",
    "    lbl.config(text=name)\n",
    "    pix.config(image=photo)\n",
    "\n",
    "\n",
    "root = Tk()\n",
    "lbl = Label(root, text='None', bg='black', fg='red')\n",
    "pix = Button(root, text='Press me', command=draw, bg='white')\n",
    "lbl.pack(fill=BOTH)\n",
    "pix.pack(pady=10)\n",
    "demoCheck.Demo(root, relief=SUNKEN, bd=2).pack(fill=BOTH)\n",
    "\n",
    "files = glob(gifdir+'*.gif')\n",
    "images = [(x, PhotoImage(file=x)) for x in files]\n",
    "print(files)\n",
    "root.mainloop()\n"
   ]
  },
  {
   "cell_type": "markdown",
   "metadata": {
    "hidden": true
   },
   "source": [
    "2. 从PIL模块的ImageTk库中导出专用的PhotoImage和BitmapImage对象，即可打开其它图片格式的文件"
   ]
  },
  {
   "cell_type": "code",
   "execution_count": null,
   "metadata": {
    "ExecuteTime": {
     "end_time": "2018-12-14T13:13:17.808044Z",
     "start_time": "2018-12-14T13:13:17.799075Z"
    },
    "code_folding": [
     0
    ],
    "hidden": true
   },
   "outputs": [],
   "source": [
    "# %load scripts\\viewer-pil.py\n",
    "#!python3\n",
    "# viewer-pil.py - 显示其它格式的文件\n",
    "\n",
    "import os\n",
    "import sys\n",
    "from tkinter import *\n",
    "from PIL import ImageTk\n",
    "\n",
    "imgdir = '..\\images'\n",
    "imgfile = 'florida-2009-1.jpg'\n",
    "\n",
    "if len(sys.argv) > 1:   # 命令行参数给定图片路径\n",
    "    imgfile = sys.argv[1]\n",
    "imgpath = os.path.join(imgdir, imgfile)\n",
    "\n",
    "win = Tk()\n",
    "win.title(imgfile)\n",
    "imgobj = ImageTk.PhotoImage(file=imgpath)\n",
    "Label(win, image=imgobj).pack()\n",
    "print(imgobj.width(), imgobj.height())\n",
    "win.mainloop()"
   ]
  },
  {
   "cell_type": "markdown",
   "metadata": {
    "hidden": true
   },
   "source": [
    "3. 在弹出窗口显示同一目录下的所有图像"
   ]
  },
  {
   "cell_type": "code",
   "execution_count": null,
   "metadata": {
    "code_folding": [
     0
    ],
    "hidden": true
   },
   "outputs": [],
   "source": [
    "# %load scripts\\viewer-dir.py\n",
    "#!python3\n",
    "# viewer-dir.py - 在弹出窗口显示同一目录下的所有图像\n",
    "\n",
    "import os\n",
    "import sys\n",
    "from tkinter import *\n",
    "from PIL import ImageTk\n",
    "\n",
    "imgdir = '..\\images'\n",
    "if len(sys.argv) > 1:\n",
    "    imgdir = sys.argv[1]\n",
    "imgfiles = os.listdir(imgdir)\n",
    "\n",
    "main = Tk()\n",
    "main.title('Viewer')\n",
    "quit = Button(main, text='Quit All', command=main.quit, font=('courier', 25))\n",
    "quit.pack()\n",
    "savephotos = []\n",
    "\n",
    "for img in imgfiles:\n",
    "    imgpath = os.path.join(imgdir, img)\n",
    "    win = Toplevel()\n",
    "    win.title(img)\n",
    "    try:\n",
    "        imgobj = ImageTk.PhotoImage(file=imgpath)\n",
    "        Label(win, image=imgobj).pack()\n",
    "        print(imgpath, imgobj.width(), imgobj.height())\n",
    "        savephotos.append(imgobj)\n",
    "    except:\n",
    "        errmsg = 'skipping %s\\n%s' % (img, sys.exc_info()[1])\n",
    "        Label(win, text=errmsg).pack()\n",
    "\n",
    "main.mainloop()"
   ]
  },
  {
   "cell_type": "markdown",
   "metadata": {
    "hidden": true
   },
   "source": [
    "4. 创建缩略图为按钮背景图像，点击按钮打开原始大小的图片"
   ]
  },
  {
   "cell_type": "code",
   "execution_count": null,
   "metadata": {
    "ExecuteTime": {
     "end_time": "2018-12-14T14:31:52.684040Z",
     "start_time": "2018-12-14T14:31:52.666088Z"
    },
    "code_folding": [
     0
    ],
    "hidden": true
   },
   "outputs": [],
   "source": [
    "# %load scripts\\viewer_thumbs.py\n",
    "#!python3\n",
    "# viewer-thumbs.py - 创建缩略图在GUI中显示，根据需要，打开原始大小的图片\n",
    "\n",
    "import os\n",
    "import sys\n",
    "import math\n",
    "from tkinter import *\n",
    "from PIL import Image, ImageTk\n",
    "\n",
    "\n",
    "def makethumbs(imgdir, size=(100, 100), subdir='thumbs'):\n",
    "    thumbdir = os.path.join(imgdir, subdir)\n",
    "    if not os.path.exists(thumbdir):\n",
    "        os.makedir(thumbdir)\n",
    "\n",
    "    thumbs = []\n",
    "    for imgfile in os.listdir(imgdir):\n",
    "        thumbpath = os.path.join(thumbdir, imgfile)\n",
    "        if os.path.exists(thumbpath):\n",
    "            thumbobj = Image.open(thumbpath)     # 使用已经创建好的\n",
    "            thumbs.append(thumbobj)\n",
    "        else:\n",
    "            print('making', thumbpath)\n",
    "            imgpath = os.path.join(imgdir, imgfile)\n",
    "            try:\n",
    "                imgobj = Image.open(imgpath)\n",
    "                imgobj.thumbnail(size, Image.ANTIALIAS)     # 缩小尺寸过滤器\n",
    "                imgobj.save(thumbpath)\n",
    "                thumbs.append((imgfile, imgobj))\n",
    "            except:\n",
    "                print('skipping:', imgpath)\n",
    "    return thumbs\n",
    "\n",
    "\n",
    "class ViewOne(Toplevel):    # 显示原始图片\n",
    "    def __init__(self, imgdir, imgfile):\n",
    "        Toplevel.__init__(self)\n",
    "        self.title(imgfile)\n",
    "        imgpath = os.path.join(imgdir, imgfile)\n",
    "\n",
    "        imgobj = ImageTk.PhotoImage(file=imgpath)\n",
    "        Label(self, image=imgobj).pack()\n",
    "        print(imgpath, imgobj.width(), imgobj.height())\n",
    "        self.savephoto = imgobj     # 保留对图像的引用\n",
    "\n",
    "\n",
    "def viewer(imgdir, kind=Toplevel, cols=None):\n",
    "    win = kind()\n",
    "    win.title('Viewer:'+imgdir)\n",
    "    quit = Button(win, text='Quit', command=win.quit, bg='beige')\n",
    "    quit.pack(fill=X, side=BOTTOM)\n",
    "    thumbs = makethumbs(imgdir)\n",
    "    if not cols:\n",
    "        cols = int(math.ceil(math.sqrt(len(thumbs))))   # 固定每行显示的缩略图的个数\n",
    "\n",
    "    savephotos = []\n",
    "    while thumbs:\n",
    "        thumbsrow, thumbs = thumbs[:cols], thumbs[cols:]\n",
    "        row = Frame(win)\n",
    "        row.pack(fill=BOTH)\n",
    "        for (imgfile, imgobj) in thumbsrow:\n",
    "            photo = ImageTk.PhotoImage(imgobj)\n",
    "            link = Button(row, image=photo)\n",
    "            handler = lambda savefile=imgfile: ViewOne(imgdir, savefile)\n",
    "            link.config(command=handler)\n",
    "            link.pack(side=LEFT, expand=YES)\n",
    "            savephotos.append(photo)\n",
    "    return win, savephotos\n",
    "\n",
    "if __name__ == '__main__':\n",
    "    imgdir = (len(sys.argv) > 1 and sys.arg[1]) or '..\\\\images'\n",
    "    main, save = viewer(imgdir, kind=Tk)\n",
    "    main.mainloop()"
   ]
  },
  {
   "cell_type": "markdown",
   "metadata": {
    "hidden": true
   },
   "source": [
    "5. 不保存缩略图，节省内存，但每次重新运行脚本都需要重新创建缩略图，大图片集启动速度变慢"
   ]
  },
  {
   "cell_type": "code",
   "execution_count": null,
   "metadata": {
    "ExecuteTime": {
     "end_time": "2018-12-14T15:13:46.952167Z",
     "start_time": "2018-12-14T15:13:46.938040Z"
    },
    "code_folding": [
     0
    ],
    "hidden": true
   },
   "outputs": [],
   "source": [
    "# %load scripts\\viewer-thumbs-nosave.py\n",
    "#!python3\n",
    "# viewer-thumbs-nosave.py - 不保存缩略图，节省内存，但每次重新运行脚本都需要重新创建缩略图，大图片集启动速度变慢\n",
    "\n",
    "\n",
    "\n",
    "import os\n",
    "import sys\n",
    "from PIL import Image\n",
    "from tkinter import Tk\n",
    "import viewer_thumbs\n",
    "\n",
    "\n",
    "def makeThumbs(imgdir, size=(100, 100), subdir='thumbs'):\n",
    "    thumbs = []\n",
    "    for imgfile in os.listdir(imgdir):\n",
    "        imgpath = os.path.join(imgdir, imgfile)\n",
    "        try:\n",
    "            imgobj = Image.open(imgpath)\n",
    "            imgobj.thumbnail(size)\n",
    "            thumbs.append((imgfile, imgobj))\n",
    "        except:\n",
    "            print('Skipping:', imgpath)\n",
    "    return thumbs\n",
    "\n",
    "\n",
    "if __name__ == '__main__':\n",
    "    imgdir = (len(sys.argv) > 1 and sys.argv[1]) or '..\\images'\n",
    "    viewer_thumbs.makethumbs = makeThumbs\n",
    "    main, save = viewer_thumbs.viewer(imgdir, kind=Tk)\n",
    "    main.mainloop()"
   ]
  },
  {
   "cell_type": "markdown",
   "metadata": {
    "hidden": true
   },
   "source": [
    "6. 使缩略图按网格排布"
   ]
  },
  {
   "cell_type": "code",
   "execution_count": null,
   "metadata": {
    "ExecuteTime": {
     "end_time": "2018-12-14T15:31:51.090671Z",
     "start_time": "2018-12-14T15:31:51.084701Z"
    },
    "code_folding": [
     0
    ],
    "hidden": true
   },
   "outputs": [],
   "source": [
    "# %load scripts\\viewer-thumbs-grid.py\n",
    "#!python3\n",
    "# viewer-thumbs-fixed.py - 使缩略图呈网格状排列\n",
    "\n",
    "import os\n",
    "import sys\n",
    "import math\n",
    "from tkinter import *\n",
    "from viewer_thumbs import makethumbs, ViewOne\n",
    "from PIL import ImageTk\n",
    "\n",
    "\n",
    "def viewer(imgdir, kind=Toplevel, cols=None):\n",
    "    win = kind()\n",
    "    win.title('Viewer:' + imgdir)\n",
    "    thumbs = makethumbs(imgdir)\n",
    "    if not cols:\n",
    "        cols = int(math.ceil(math.sqrt(len(thumbs))))\n",
    "\n",
    "    rownum = 0\n",
    "    savephoto = []\n",
    "    while thumbs:\n",
    "        thumbrow, thumbs = thumbs[:cols], thumbs[cols:]\n",
    "        colnum = 0\n",
    "        for (imgfile, imgobj) in thumbrow:\n",
    "            photo = ImageTk.PhotoImage(imgobj)\n",
    "            link = Button(win, image=photo)\n",
    "            handler = lambda savefile=imgfile: ViewOne(imgdir, savefile)\n",
    "            link.config(command=handler)\n",
    "            link.grid(row=rownum, column=colnum)\n",
    "            savephoto.append(photo)\n",
    "            colnum += 1\n",
    "        rownum += 1\n",
    "    Button(win, text='Quit All', command=win.quit).grid(columnspan=cols, stick=EW)\n",
    "    return win,savephoto\n",
    "\n",
    "if __name__ == '__main__':\n",
    "    imgdir = (len(sys.argv) > 1 and sys.argv[1]) or '..\\\\images'\n",
    "    main, save = viewer(imgdir, kind=Tk)\n",
    "    main.mainloop()"
   ]
  },
  {
   "cell_type": "markdown",
   "metadata": {
    "hidden": true
   },
   "source": [
    "7. 固定以缩略图为背景的按钮的大小"
   ]
  },
  {
   "cell_type": "code",
   "execution_count": null,
   "metadata": {
    "ExecuteTime": {
     "end_time": "2018-12-15T05:21:00.716789Z",
     "start_time": "2018-12-15T05:21:00.607451Z"
    },
    "code_folding": [
     0
    ],
    "hidden": true
   },
   "outputs": [],
   "source": [
    "# %load scripts\\viewer-thumbs-fixed.py\n",
    "#!python3\n",
    "# viewer-thumbs-fixed.py - 固定以缩略图为背景的按钮的大小\n",
    "\n",
    "import sys\n",
    "import math\n",
    "from tkinter import *\n",
    "from PIL import ImageTk\n",
    "from viewer_thumbs import makethumbs, ViewOne\n",
    "\n",
    "\n",
    "def viewer(imgdir, kind=Toplevel, cols=None):\n",
    "    win = kind()\n",
    "    win.title('Viewer:' + imgdir)\n",
    "    thumbs = makethumbs(imgdir)\n",
    "    if not cols:\n",
    "        cols = int(math.ceil(math.sqrt(len(thumbs))))\n",
    "\n",
    "    savephotos = []\n",
    "    while thumbs:\n",
    "        thumbrow, thumbs = thumbs[:cols], thumbs[cols:]\n",
    "        row = Frame(win)\n",
    "        row.pack(fill=BOTH)\n",
    "        for (imgfile, imgobj) in thumbrow:\n",
    "            size = max(imgobj.size)\n",
    "            photo = ImageTk.PhotoImage(imgobj)\n",
    "            link = Button(row, image=photo)\n",
    "            handler = lambda savefile=imgfile: ViewOne(imgdir, savefile)\n",
    "            link.config(command=handler, width=size, height=size)\n",
    "            link.pack(side=LEFT, expand=YES)\n",
    "            savephotos.append(photo)\n",
    "\n",
    "    Button(win, text='Quit', command=win.quit, bg='beige').pack(fill=X)\n",
    "    return win, savephotos\n",
    "\n",
    "\n",
    "if __name__ == '__main__':\n",
    "    imgdir = (len(sys.argv) > 1 and sys.argv[1]) or '..\\\\images'\n",
    "    main, save = viewer(imgdir, kind=Tk)\n",
    "    main.mainloop()"
   ]
  },
  {
   "cell_type": "code",
   "execution_count": null,
   "metadata": {
    "hidden": true
   },
   "outputs": [],
   "source": []
  },
  {
   "cell_type": "markdown",
   "metadata": {
    "ExecuteTime": {
     "end_time": "2018-12-15T05:22:56.803999Z",
     "start_time": "2018-12-15T05:22:56.772748Z"
    }
   },
   "source": [
    "#### 菜单\n",
    "\n",
    "- 创建顶层窗口菜单，每个顶层窗口都可以有一个菜单栏，Toplevel 创建的弹出式窗口    \n",
    "    - 创建顶层`Menu`作为窗口组件的菜单栏，并将窗口的`menu`属性设置为新的`Menu`对象 \n",
    "    - 创建一个新的`Menu`作为顶层`Menu`的子组件，生成菜单栏上的菜单按钮；调用菜单栏的`add_cascade`方法，将其`menu`属性与新的菜单按钮关联，该菜单按钮被设置为下拉对象\n",
    "    - 为下拉菜单按钮添加选项，使用`add_command`方法的`command`属性来选择回调处理器\n",
    "\n",
    "- 基于 Frame 和 Menubutton 的菜单。该方法创建的菜单未与封闭的窗口相关联，可以作为其它附属部件的组件包\n",
    "    - 创建`Frame`，作为菜单栏；创建`Menubutton`作为`Frame`的子组件，生成菜单栏上的菜单按钮\n",
    "    - 创建`Menu`对象，作为菜单按钮的子组件；调用新`Menu`对象的`add_command`方法，生成多个下拉选项；将菜单按钮的`menu`属性，设置为新创建的`Menu`对象\n",
    "    \n",
    "- Menubutton 菜单按钮，可以出现任何需要菜单按钮的地方，而非局限于菜单栏上；\n",
    "- Optionmenu 组件会显示下拉菜单选中的条目   \n",
    "  \n",
    "- 窗口底部出现的工具条，含有调用顶部菜单功能的快捷方式  \n",
    "  \n",
    "- root = tk.Tk(),menu=Menu(root)创建菜单栏。在menu上调用add_command创建菜单项，或add_cascade创建子菜单、再在子菜单上add_command创建菜单项\n",
    "      \n",
    "- 单击右键弹出菜单：      \n",
    "```\n",
    "context_menu = tk.Menu(win)\n",
    "context_menu.add_command(label='close', command=win.destroy)\n",
    "def on_right_click(event):\n",
    "    x = win.winfo_x() + event.x\n",
    "    y = win.winfo_y() + event.y\n",
    "context_menu.post(x, y)\n",
    "win.bind('<Button-3>', on_right_click)\n",
    "```"
   ]
  },
  {
   "cell_type": "code",
   "execution_count": null,
   "metadata": {
    "ExecuteTime": {
     "end_time": "2018-12-15T15:37:31.632260Z",
     "start_time": "2018-12-15T15:37:31.601016Z"
    },
    "code_folding": [
     0
    ]
   },
   "outputs": [],
   "source": [
    "# %load scripts\\menu_win.py\n",
    "#!python3\n",
    "# menu_win.py - 顶层窗口菜单\n",
    "\n",
    "\n",
    "from tkinter import *\n",
    "from tkinter.messagebox import *\n",
    "\n",
    "\n",
    "def notdone():\n",
    "    showerror('Not implemented', 'not yet availiable')\n",
    "\n",
    "\n",
    "def makemenu(win):\n",
    "    top = Menu(win)     # 创建顶层 Menu 作为窗口的子组件，菜单栏\n",
    "    win.config(menu=top)    # 将窗口的menu属性设置为新创建的 Menu 对象\n",
    "    file = Menu(top)    # 创建新的 Menu 作为顶层 Menu 的子组件\n",
    "    file.add_command(label='New...', command=notdone, underline=0)      # underline 为菜单选项添加快捷方式\n",
    "    file.add_command(label='Open...', command=notdone, underline=0)\n",
    "    file.add_command(label='Quit', command=win.quit, underline=0)\n",
    "    top.add_cascade(label='File', menu=file, underline=0)   # 给顶层 Menu 添加下拉显示对象\n",
    "\n",
    "    edit = Menu(top, tearoff=False)\n",
    "    edit.add_command(label='Cut', command=notdone, underline=0)\n",
    "    edit.add_command(label='paste', command=notdone, underline=0)\n",
    "    edit.add_separator()    # 在 Edit 下拉菜单中添加分割线\n",
    "    top.add_cascade(label='Edit', menu=edit, underline=0)\n",
    "\n",
    "    submenu = Menu(edit, tearoff=True)\n",
    "    submenu.add_command(label='Spam', command=win.quit, underline=0)\n",
    "    submenu.add_command(label='Eggs',command=notdone, underline=0)\n",
    "    edit.add_cascade(label='stuff', menu=submenu, underline=0)\n",
    "\n",
    "\n",
    "if __name__ == '__main__':\n",
    "    root = Tk()\n",
    "    root.title('menu_win')\n",
    "    makemenu(root)\n",
    "    msg = Label(root, text='window menu basics')\n",
    "    msg.pack(expand=YES, fill=BOTH)\n",
    "    msg.config(relief=SUNKEN, width=40, height=7, bg='beige')\n",
    "    root.mainloop()\n"
   ]
  },
  {
   "cell_type": "code",
   "execution_count": null,
   "metadata": {
    "ExecuteTime": {
     "end_time": "2018-12-15T16:14:03.230170Z",
     "start_time": "2018-12-15T16:14:03.198960Z"
    },
    "code_folding": [
     0
    ]
   },
   "outputs": [],
   "source": [
    "# %load scripts\\menu_frm.py\n",
    "#!python3\n",
    "# menu_frm.py - 基于框架的菜单\n",
    "\n",
    "from tkinter import *\n",
    "from tkinter.messagebox import *\n",
    "\n",
    "\n",
    "def notdone():\n",
    "    showerror('Not implemented', 'Not yet available')\n",
    "\n",
    "\n",
    "def makemenu(parent):\n",
    "    menubar = Frame(parent)\n",
    "    menubar.pack(side=TOP, fill=X)\n",
    "\n",
    "    fbutton = Menubutton(menubar, text='File', underline=0)\n",
    "    fbutton.pack(side=LEFT)\n",
    "\n",
    "    file = Menu(fbutton)\n",
    "    file.add_command(label='New...', command=notdone, underline=0)\n",
    "    file.add_command(label='Open...', command=notdone, underline=0)\n",
    "    file.add_command(label='Quit...', command=notdone, underline=0)\n",
    "    fbutton.config(menu=file)\n",
    "\n",
    "    ebutton = Menubutton(menubar, text='Edit', underline=0)\n",
    "    ebutton.pack(side=LEFT)\n",
    "\n",
    "    edit = Menu(ebutton, tearoff=False)\n",
    "    edit.add_command(label='Cut', command=notdone, underline=0)\n",
    "    edit.add_command(label='Paste', command=notdone, underline=0)\n",
    "    edit.add_separator()\n",
    "    ebutton.config(menu=edit)\n",
    "\n",
    "    submenu = Menu(edit, tearoff=True)\n",
    "    submenu.add_command(label='Spam', command=notdone, underline=0)\n",
    "    submenu.add_command(label='Eggs', command=parent.quit, underline=0)\n",
    "    edit.add_cascade(label='stuff', menu=submenu, underline=0)\n",
    "    return menubar\n",
    "\n",
    "\n",
    "if __name__ == '__main__':\n",
    "    root = Tk()\n",
    "    root.title('menu-frm')\n",
    "    makemenu(root)\n",
    "    msg = Label(root, text='Frame Menu basic')\n",
    "    msg.pack(fill=BOTH, expand=YES)\n",
    "    msg.config(bd=2, relief=SUNKEN, width=40, height=7, bg='beige')\n",
    "    root.mainloop()\n"
   ]
  },
  {
   "cell_type": "code",
   "execution_count": null,
   "metadata": {
    "ExecuteTime": {
     "end_time": "2018-12-15T16:28:37.003230Z",
     "start_time": "2018-12-15T16:28:36.987657Z"
    },
    "code_folding": [
     0
    ]
   },
   "outputs": [],
   "source": [
    "# %load scripts\\menu_frm_multi.py\n",
    "#!python3\n",
    "# menu_frm_multi.py - 基于框架的菜单，可以作为其它部件的组件包\n",
    "\n",
    "from menu_frm import makemenu\n",
    "from tkinter import *\n",
    "\n",
    "\n",
    "root = Tk()\n",
    "for i in range(3):\n",
    "    frm = Frame()\n",
    "    menubar = makemenu(frm)\n",
    "    menubar.config(bd=2, relief=RAISED)\n",
    "    frm.pack(expand=YES, fill=BOTH)\n",
    "    Label(frm, text='Menu %s based on Frame' % i, bg='black', fg='yellow',\n",
    "          height=5, width=25).pack(expand=YES, fill=BOTH)\n",
    "\n",
    "Button(root, text='Bye', command=root.quit).pack()\n",
    "root.mainloop()"
   ]
  },
  {
   "cell_type": "code",
   "execution_count": null,
   "metadata": {
    "ExecuteTime": {
     "end_time": "2018-12-17T06:37:14.611867Z",
     "start_time": "2018-12-17T06:37:14.596245Z"
    },
    "code_folding": [
     0
    ]
   },
   "outputs": [],
   "source": [
    "# %load scripts\\mbutton.py\n",
    "#!python3\n",
    "# mbutton.py - Menubutton 不创建于菜单栏上\n",
    "\n",
    "from tkinter import *\n",
    "root = Tk()\n",
    "mbutton = Menubutton(root, text='Food')\n",
    "picks = Menu(mbutton)\n",
    "mbutton.config(menu=picks)\n",
    "picks.add_command(label='Spam', command=root.quit)\n",
    "picks.add_command(label='eggs', command=root.quit)\n",
    "picks.add_command(label='bacons', command=root.quit)\n",
    "\n",
    "mbutton.pack()\n",
    "mbutton.config(bg='white', bd=4, relief=RAISED)\n",
    "root.mainloop()"
   ]
  },
  {
   "cell_type": "code",
   "execution_count": null,
   "metadata": {
    "ExecuteTime": {
     "end_time": "2018-12-17T06:37:39.316754Z",
     "start_time": "2018-12-17T06:37:39.301133Z"
    },
    "code_folding": [
     0
    ]
   },
   "outputs": [],
   "source": [
    "# %load scripts\\optionmenu.py\n",
    "#!python3\n",
    "# optionmenu.py -\n",
    "\n",
    "from tkinter import *\n",
    "root = Tk()\n",
    "var1 = StringVar()\n",
    "var2 = StringVar()\n",
    "opt1 = OptionMenu(root, var1, 'spam', 'eggs', 'toast')\n",
    "opt2 = OptionMenu(root, var2, 'ham', 'bacon', 'sausage')\n",
    "opt1.pack(fill=X)\n",
    "opt2.pack(fill=X)\n",
    "var1.set('spam')\n",
    "var2.set('ham')\n",
    "\n",
    "\n",
    "def state():\n",
    "    print(var1.get(), var2.get())\n",
    "\n",
    "\n",
    "Button(root, command=state, text='state').pack()\n",
    "root.mainloop()\n"
   ]
  },
  {
   "cell_type": "code",
   "execution_count": null,
   "metadata": {
    "ExecuteTime": {
     "end_time": "2018-12-17T07:15:51.676729Z",
     "start_time": "2018-12-17T07:15:51.645485Z"
    },
    "code_folding": [
     0
    ]
   },
   "outputs": [],
   "source": [
    "# %load scripts\\menuDemo.py\n",
    "#!python3\n",
    "# menuDemo.py -\n",
    "\n",
    "\n",
    "from tkinter import *\n",
    "from tkinter.messagebox import *\n",
    "\n",
    "\n",
    "class NewMenuDemo(Frame):\n",
    "    def __init__(self, parent=None):\n",
    "        Frame.__init__(self, parent)\n",
    "        self.pack(expand=YES, fill=BOTH)\n",
    "        self.createWidgets()\n",
    "        self.master.title('Toolbars and Menus')\n",
    "        self.master.iconname('tkpython')\n",
    "\n",
    "    def createWidgets(self):\n",
    "        self.makeMenubar()\n",
    "        self.makeToolbar()\n",
    "        L = Label(self, text='Menubar and Toolbar demo')\n",
    "        L.config(relief=SUNKEN, width=40, height=10, bg='beige')\n",
    "        L.pack(expand=YES, fill=BOTH)\n",
    "\n",
    "    def makeMenubar(self):\n",
    "        self.menubar = Menu(self.master)\n",
    "        self.master.config(menu=self.menubar)\n",
    "        self.fileMenu()\n",
    "        self.editMenu()\n",
    "        self.imageMenu()\n",
    "\n",
    "    def makeToolbar(self):\n",
    "        toolbar = Frame(self, cursor='hand2', relief=SUNKEN, bd=2)      # 光标位于底部工具条时，变为手形\n",
    "        toolbar.pack(side=BOTTOM, fill=X)\n",
    "        Button(toolbar, text='Quit', command=self.quit).pack(side=LEFT)\n",
    "        Button(toolbar, text='Hello', command=self.greeting).pack(side=RIGHT)\n",
    "\n",
    "    def fileMenu(self):\n",
    "        pulldown = Menu(self.menubar)\n",
    "        pulldown.add_command(label='Open...', command=self.notdone)\n",
    "        pulldown.add_command(label='Quit...', command=self.quit)\n",
    "        self.menubar.add_cascade(label='File', underline=0, menu=pulldown)\n",
    "\n",
    "    def editMenu(self):\n",
    "        pulldown = Menu(self.menubar)\n",
    "        pulldown.add_command(label='Paste', command=self.notdone)\n",
    "        pulldown.add_command(label='Spam', command=self.greeting)\n",
    "        pulldown.add_separator()\n",
    "        pulldown.add_command(label='delete', command=self.greeting)\n",
    "        pulldown.entryconfig(4, state=DISABLED)\n",
    "        self.menubar.add_cascade(label='Edit', underline=0, menu=pulldown)\n",
    "\n",
    "    def imageMenu(self):\n",
    "        photoFiles = ('ora-lp4e.gif', 'pythonPowered.gif', 'python_conf_ora.gif')\n",
    "        pulldown = Menu(self.menubar)\n",
    "        self.photoObj = []\n",
    "        for file in photoFiles:\n",
    "            img = PhotoImage(file='../images/' + file)\n",
    "            pulldown.add_command(image=img, command=self.notdone)\n",
    "            self.photoObj.append(img)\n",
    "        self.menubar.add_cascade(label='Image', underline=0, menu=pulldown)\n",
    "\n",
    "    def greeting(self):\n",
    "        showinfo('greeting', 'Greeting')\n",
    "\n",
    "    def notdone(self):\n",
    "        showerror('Not implemented', 'Not yet available')\n",
    "\n",
    "    def quit(self):\n",
    "        if askyesno('Verify quit', 'Are you sure you want to quit?'):\n",
    "            Frame.quit(self)\n",
    "\n",
    "\n",
    "if __name__ == '__main__':\n",
    "    NewMenuDemo().mainloop()\n",
    "\n"
   ]
  },
  {
   "cell_type": "code",
   "execution_count": null,
   "metadata": {
    "ExecuteTime": {
     "end_time": "2018-12-17T06:38:21.919114Z",
     "start_time": "2018-12-17T06:38:21.731680Z"
    }
   },
   "outputs": [],
   "source": []
  },
  {
   "cell_type": "markdown",
   "metadata": {
    "ExecuteTime": {
     "end_time": "2018-12-17T07:16:29.152585Z",
     "start_time": "2018-12-17T07:16:29.121310Z"
    },
    "heading_collapsed": true
   },
   "source": [
    "#### Listbox 和 Scrollbar\n",
    "\n",
    "- `Listbox`允许显示可选项目的列表，方便选择；`Scrollbar`，便于浏览和导航其它组件的内容，两者配合使用。<span class=\"mark\">当列表框窗口缩小到无法显示所有内容时，滚动条才会出现</span>\n",
    "> `sbar = Scrollbar(self)\n",
    "   list = Listbox(self, relief=SUNKEN)\n",
    "   sbar.config(command=list.yview)\n",
    "   list.config(yscrollcommand=sbar.set)`\n",
    "    - sbar的command为自定义函数时，拖动滚动条激活该函数，滚动条会将参数元组('moveto','0.5678')传递给该函数，第二个元素表示滚动条在窗口的相对位置\n",
    "\n",
    "   \n",
    "- 列表框\n",
    "    - 为窗口中列表增加条目：`list.insert(pos,label);pos+=1`或`list.insert(END,label)`\n",
    "    - 列表框没有`command`选项，但可以绑定事件\n",
    "    - 获取选中条目信息：`index=lsitbox.cureslection();label=listbox.get(index)`或`label=listbox.get(ACTIVE)`\n",
    "    - 列表框也可以接受字体、颜色、浮凸配置等等设置\n",
    "    - `selectmode`参数支持`SINGLE\\BROWSE\\MULTIPLE\\RXTENDED`选项，前两者单选条目，后两者可以多选条目\n",
    "- 滚动条\n",
    "    - `Listbox,Entry,Text,Canvas`都可以通过内置`yview`和`xview`方法来处理接受的垂直或水平滚动调用"
   ]
  },
  {
   "cell_type": "code",
   "execution_count": null,
   "metadata": {
    "ExecuteTime": {
     "end_time": "2018-12-17T07:52:33.109251Z",
     "start_time": "2018-12-17T07:52:33.077988Z"
    },
    "code_folding": [],
    "hidden": true
   },
   "outputs": [],
   "source": [
    "# %load scripts\\scrolledlist.py\n",
    "#!python3\n",
    "# scrolledlist.py - Listbox组件和Scrollbar组件配合使用\n",
    "\n",
    "from tkinter import *\n",
    "\n",
    "\n",
    "class ScrolledList(Frame):\n",
    "    def __init__(self, options, parent=None):\n",
    "        Frame.__init__(self, parent)\n",
    "        self.pack(expand=YES, fill=BOTH)\n",
    "        self.makewidgets(options)\n",
    "\n",
    "    def makewidgets(self, options):\n",
    "        sbar = Scrollbar(self)\n",
    "        list = Listbox(self, relief=SUNKEN)\n",
    "        sbar.config(command=list.yview)\n",
    "        list.config(yscrollcommand=sbar.set)\n",
    "        sbar.pack(side=RIGHT, fill=Y)\n",
    "        list.pack(side=LEFT, expand=YES, fill=BOTH)\n",
    "        pos = 0\n",
    "        for label in options:\n",
    "            list.insert(pos, label)\n",
    "            pos+=1\n",
    "        list.bind('<Double-1>', self.handlelist)\n",
    "        self.listbox = list\n",
    "\n",
    "    def handlelist(self, event):\n",
    "        index = self.listbox.curselection()\n",
    "        label = self.listbox.get(index)\n",
    "        self.runcommand(label)\n",
    "\n",
    "    def runcommand(self, selection):\n",
    "        print('You selected: ', selection)\n",
    "\n",
    "\n",
    "if __name__ == '__main__':\n",
    "    options = (('Lumberjack-%s' % x) for x in range(20))\n",
    "    ScrolledList(options).mainloop()\n"
   ]
  },
  {
   "cell_type": "markdown",
   "metadata": {
    "ExecuteTime": {
     "end_time": "2018-12-17T07:53:05.919019Z",
     "start_time": "2018-12-17T07:53:05.903398Z"
    },
    "heading_collapsed": true
   },
   "source": [
    "#### Text<span class=\"burk\">(索引、标志、标签的理解！！Unicode和Text组件！！！）</span>\n",
    "\n",
    "- Text组件的内容是Python字符串，用行终止符 ‘\\n’ 分隔多行\n",
    "- Text组件会接受索引、标志或标签来标识传递的位置<span class=\"burk\">????</span>\n",
    "    - 索引：`text.insert('3.1',text)`，'3.1'表示第3行第1列(行数从1开始，列数从0开始）；\n",
    "    - 可对索引算术操作，`END+'-1c'`表示从END往回数第一个字符，END指向字符串最后一个字符后的位置，即组件自动添加的‘\\n’换行符；`(+2l,-2l)`前面一行或后面一行.必须包含正负号\n",
    "    - 标志：`mark_set('linetwo','2.0')`,设置标志名及标志所在的索引；`mark_unset`方法通过标志名删除标志\n",
    "    - 标签：`tag_add('tag',index1,index2)`，给确定起始点的字符串添加标签，tag名称自设置，内置标签SEL或‘sel’，表示选定文本，此时不需要配置；`tag_remove`；设置标签对文本显示无影响，设置tag_configure('tag',\\*\\*kwargs)来操作文本显示,kwargs包括background\\foreground\\font\\justify(左右或居中对齐)\\offset(正整数突出显示文本，负数缩小文本)\\underline等\n",
    "    \n",
    "- Named indexes:INSERT(鼠标指针位置),CURRENT(鼠标指针最近的字符，当鼠标移动但没按键时更新),END,SEL_FIRST,SEL_LAST(被选择的起始字符）\n",
    "- Special strings:'5.end'(第5行结尾),'1.4+6c'/'1.4-6c'(前移、后移6个字符),'2.5+3l'(下移3行),'1.4 linestart'/'1.4 lineend'(行首、行尾),'1.4 wordstart'/'1.4 wordend'(词首、词尾),\n",
    "- text.search(pattern,index,\\*\\*kwargs):搜索符合pattern的文本，index表示搜索起始点，返回值为首个匹配字符串的起点，多个匹配项时就需要循环调用.search方法了；可选kwargs包含stopindex\\forwards\\backwards(表示从开始向结尾搜索或相反)\\exact(匹配字符串)\\regexp(匹配正则表达式)\\nocase(忽略大小写)\\count(用来更新匹配字符串长度的变量)"
   ]
  },
  {
   "cell_type": "code",
   "execution_count": null,
   "metadata": {
    "ExecuteTime": {
     "end_time": "2018-12-17T09:11:42.113456Z",
     "start_time": "2018-12-17T09:11:42.082163Z"
    },
    "code_folding": [
     36
    ],
    "hidden": true
   },
   "outputs": [],
   "source": [
    "# %load scripts\\scrolledtext.py\n",
    "#! python3\n",
    "# scrolledtext.py -\n",
    "\n",
    "import sys\n",
    "from tkinter import *\n",
    "\n",
    "\n",
    "class ScrolledText(Frame):\n",
    "    def __init__(self, parent=None, text='', file=None):\n",
    "        Frame.__init__(self, parent)\n",
    "        self.pack(expand=YES, fill=BOTH)\n",
    "        self.makewidgets()\n",
    "        self.settext(text, file)\n",
    "\n",
    "    def makewidgets(self):\n",
    "        sbar = Scrollbar(self,)\n",
    "        text = Text(self, relief=SUNKEN)\n",
    "        sbar.config(command=text.yview)\n",
    "        text.config(yscrollcommand=sbar.set)\n",
    "        sbar.pack(side=RIGHT, fill=Y)\n",
    "        text.pack(side=LEFT, fill=BOTH, expand=YES)\n",
    "        self.text = text\n",
    "\n",
    "    def settext(self, text='', file=None):\n",
    "        if file:\n",
    "            text = open(file, 'r').read()\n",
    "        self.text.delete('1.0', END)\n",
    "        self.text.insert('1.0', text)\n",
    "        self.text.mark_set(INSERT, '1.0')\n",
    "        self.text.focus()\n",
    "\n",
    "    def gettext(self):\n",
    "        return self.text.get('1.0', END+'-1c')\n",
    "\n",
    "\n",
    "if __name__ == '__main__':\n",
    "    root = Tk()\n",
    "    st = ScrolledText(file='..\\\\images\\\\README.txt')\n",
    "    \"\"\"\n",
    "    if len(sys.argv) > 1:\n",
    "        st = ScrolledText(file=sys.argv[1])\n",
    "    else:\n",
    "        st = ScrolledText(text='words\\ngo here!')\n",
    "    \"\"\"\n",
    "    def show(event):\n",
    "        print(repr(st.gettext()))\n",
    "    root.bind('<Key-Escape>', show)     # 按下ESC键，打印文本内容\n",
    "    root.mainloop()\n",
    "\n"
   ]
  },
  {
   "cell_type": "code",
   "execution_count": null,
   "metadata": {
    "ExecuteTime": {
     "end_time": "2018-12-17T14:13:30.294126Z",
     "start_time": "2018-12-17T14:13:30.287144Z"
    },
    "code_folding": [
     0,
     55
    ],
    "hidden": true
   },
   "outputs": [],
   "source": [
    "# %load scripts\\simpleedit.py\n",
    "#!python3\n",
    "# simpleedit.py - 添加文本编辑操作（文件保存、文本剪切和黏贴、字符串查找）\n",
    "\n",
    "from tkinter import *\n",
    "from tkinter.simpledialog import askstring\n",
    "from tkinter.filedialog import asksaveasfilename\n",
    "from dialogTable import Quitter\n",
    "from scrolledtext import ScrolledText\n",
    "\n",
    "\n",
    "class SimpleEditor(ScrolledText):\n",
    "    def __init__(self, parent=None, file=None):\n",
    "        frm = Frame(parent)\n",
    "        frm.pack(fill=X)\n",
    "        Button(frm, text='Save', command=self.onSave).pack(side=LEFT)\n",
    "        Button(frm, text='Cut', command=self.onCut).pack(side=LEFT)\n",
    "        Button(frm, text='Paste', command=self.onPaste).pack(side=LEFT)\n",
    "        Button(frm, text='Find', command=self.onFind).pack(side=LEFT)\n",
    "        Quitter(frm).pack(side=LEFT)\n",
    "        ScrolledText.__init__(self, parent, file=file)\n",
    "        self.text.config(font=('courier', 12, 'normal'))\n",
    "\n",
    "    def onSave(self):\n",
    "        filename = asksaveasfilename()\n",
    "        if filename:\n",
    "            alltext = self.gettext()\n",
    "            open(filename, 'w').write(alltext)\n",
    "\n",
    "    def onCut(self):\n",
    "        text = self.text.get(SEL_FIRST, SEL_LAST)   # 光标选中的部分\n",
    "        self.text.delete(SEL_FIRST, SEL_LAST)\n",
    "        self.clipboard_clear()      # 剪贴板接口\n",
    "        self.clipboard_append(text)\n",
    "\n",
    "    def onPaste(self):\n",
    "        try:\n",
    "            text = self.selection_get(selection='CLIPBOARD')\n",
    "            self.text.insert(INSERT, text)\n",
    "        except TclError:\n",
    "            pass\n",
    "\n",
    "    def onFind(self):   # 查找第一个匹配的对象，有多个匹配的应该如何实现？？？？\n",
    "        target = askstring('SimpleEditor', 'Search String?')\n",
    "        if target:\n",
    "            where = self.text.search(target, INSERT, END)       # 从光标开始处到结尾\n",
    "            if where:\n",
    "                print(where)\n",
    "                pastit = where + ('+%dc' % len(target))\n",
    "                self.text.tag_add(SEL, where, pastit)\n",
    "                self.text.mark_set(INSERT, pastit)\n",
    "                self.text.see(INSERT)\n",
    "                self.text.focus()\n",
    "\n",
    "\n",
    "if __name__ == '__main__':\n",
    "    if len(sys.argv) > 1:\n",
    "        SimpleEditor(file=sys.argv[1]).mainloop()\n",
    "    else:\n",
    "        SimpleEditor().mainloop()"
   ]
  },
  {
   "cell_type": "markdown",
   "metadata": {
    "ExecuteTime": {
     "end_time": "2018-12-17T14:18:48.566058Z",
     "start_time": "2018-12-17T14:18:48.562067Z"
    },
    "heading_collapsed": true
   },
   "source": [
    "#### Canvas\n",
    "\n",
    "- 坐标\n",
    "- 对象构建：`.create_line`之类的好方法创建对象，并对对象进行配置\n",
    "- 对象标识符及对象：对创建的对象命名，利用该名称来对对象进行操作\n",
    "- 对象标签：对多个对象设置相同`tag`属性，利用该`tag`可同时对一组画布对象操作\n",
    "- 画布与滚动条关联\n",
    "- Canvas 组件也无 command 回调的概念，bind 方法绑定事件\n",
    "- `tag_bind`方法，为`Canvas`上一个或多个对象绑定事件;第一个参数为对象的ID或tag"
   ]
  },
  {
   "cell_type": "code",
   "execution_count": null,
   "metadata": {
    "ExecuteTime": {
     "end_time": "2018-12-17T14:38:47.374446Z",
     "start_time": "2018-12-17T14:38:47.368461Z"
    },
    "code_folding": [],
    "hidden": true
   },
   "outputs": [],
   "source": [
    "# %load scripts\\canvas1.py\n",
    "#!python3\n",
    "# canvas1.py -\n",
    "\n",
    "from tkinter import *\n",
    "\n",
    "root = Tk()\n",
    "canvas = Canvas(root, width=525, height=300, bg='white')\n",
    "canvas.pack(expand=YES, fill=BOTH)\n",
    "\n",
    "canvas.create_line(100, 100, 200, 200)\n",
    "canvas.create_line(100, 50, 200, 250)\n",
    "for i in range(1, 20, 2):\n",
    "    canvas.create_line(0, i, 50, i)\n",
    "\n",
    "canvas.create_oval(10, 10, 200, 200, width=5, fill='blue')\n",
    "\n",
    "photo = PhotoImage(file='..\\images\\ora-lp4e.gif')\n",
    "canvas.create_image(325, 25, image=photo, anchor=NW)\n",
    "\n",
    "widget = Label(canvas, text='Spam', fg='black', bg='white')\n",
    "canvas.create_window(100, 100, window=widget)\n",
    "\n",
    "mainloop()"
   ]
  },
  {
   "cell_type": "code",
   "execution_count": null,
   "metadata": {
    "ExecuteTime": {
     "end_time": "2018-12-17T15:00:14.473389Z",
     "start_time": "2018-12-17T15:00:14.467378Z"
    },
    "code_folding": [],
    "hidden": true
   },
   "outputs": [],
   "source": [
    "# %load scripts\\scrolledcanvas.py\n",
    "#!python3\n",
    "# scrolledcanvas.py -\n",
    "\n",
    "from tkinter import *\n",
    "\n",
    "class ScrolledCanvas(Frame):\n",
    "    def __init__(self, parent=None, color='white'):\n",
    "        Frame.__init__(self, parent=None)\n",
    "        self.pack(expand=YES, fill=BOTH)\n",
    "        canv = Canvas(self, bg=color, relief=SUNKEN)\n",
    "        canv.config(width=500, height=300)      # 查看窗口的大小\n",
    "        canv.config(scrollregion=(0, 0, 500, 800))      # 可滚动尺寸的大小\n",
    "        canv.config(highlightthickness=0)       # 自动边框，如果宽度设为2，此时查看窗口宽度为500-2\n",
    "\n",
    "        sbar = Scrollbar(self)\n",
    "        sbar.config(command=canv.yview)\n",
    "        canv.config(yscrollcommand=sbar.set)\n",
    "        sbar.pack(side=RIGHT, fill=Y)\n",
    "        canv.pack(side=LEFT, expand=YES, fill=BOTH)\n",
    "\n",
    "        self.fillContent(canv)\n",
    "        canv.bind('<Double-1>', self.onDoubleClick)\n",
    "        self.canvas = canv\n",
    "\n",
    "    def fillContent(self, canv):\n",
    "        for i in range(10):\n",
    "            canv.create_text(150, 50+(i*100), text='spam'+str(i), fill='red')\n",
    "\n",
    "    def onDoubleClick(self, event):\n",
    "        print(event.x, event.y)\n",
    "        print(self.canvas.canvasx(event.x), self.canvas.canvasy(event.y))\n",
    "        # 显示区域上的坐标，转化为可滚动画布上的坐标\n",
    "\n",
    "\n",
    "if __name__ == '__main__':\n",
    "    ScrolledCanvas().mainloop()\n"
   ]
  },
  {
   "cell_type": "code",
   "execution_count": null,
   "metadata": {
    "ExecuteTime": {
     "end_time": "2018-12-18T07:00:26.783443Z",
     "start_time": "2018-12-18T07:00:26.767821Z"
    },
    "code_folding": [],
    "hidden": true
   },
   "outputs": [],
   "source": [
    "# %load scripts\\canvasDraw.py\n",
    "#!python3\n",
    "# canvasDraw.py - 使用画布事件\n",
    "\n",
    "\n",
    "from tkinter import *\n",
    "trace = False\n",
    "\n",
    "\n",
    "class CanvasEventsDemo:\n",
    "    def __init__(self, parent=None):\n",
    "        canvas = Canvas(width=300, height=300, bg='beige')\n",
    "        canvas.pack()\n",
    "        canvas.bind('<ButtonPress-1>', self.onStart)\n",
    "        canvas.bind('<B1-Motion>', self.onGrow)\n",
    "        canvas.bind('<Double-1>', self.onClear)\n",
    "        canvas.bind('<ButtonPress-3>', self.onMove)\n",
    "        self.canvas = canvas\n",
    "        self.drawn = None\n",
    "        self.kinds = [canvas.create_oval, canvas.create_rectangle]\n",
    "\n",
    "    def onStart(self, event):       # 单击鼠标\n",
    "        self.shape = self.kinds[0]          # 交替画椭圆和方形的命令\n",
    "        self.kinds = self.kinds[1:] + self.kinds[:1]\n",
    "        self.start = event      # 保存单击鼠标事件\n",
    "        self.drawn = None       # 单击鼠标，清空 drawn 参数\n",
    "\n",
    "    def onGrow(self, event):    # 拖动鼠标\n",
    "        canvas = event.widget\n",
    "        if self.drawn:\n",
    "            canvas.delete(self.drawn)\n",
    "        objectId = self.shape(self.start.x, self.start.y, event.x, event.y)     # 单击鼠标时的坐标，和按住鼠标拖动时的坐标\n",
    "        if trace:\n",
    "            print(objectId)\n",
    "        self.drawn = objectId\n",
    "\n",
    "    def onClear(self, event):       # 清空画布，使用内置标签 all，关联起屏幕上所有对象\n",
    "        event.widget.delete('all')\n",
    "\n",
    "    def onMove(self, event):\n",
    "        if self.drawn:\n",
    "            if trace:\n",
    "                print(self.drawn)\n",
    "            canvas = event.widget\n",
    "            diffX, diffY = (event.x - self.start.x), (event.y - self.start.y)\n",
    "            canvas.move(self.drawn, diffX, diffY)\n",
    "            self.start = event\n",
    "\n",
    "\n",
    "if __name__ == '__main__':\n",
    "    CanvasEventsDemo()\n",
    "    mainloop()"
   ]
  },
  {
   "cell_type": "code",
   "execution_count": null,
   "metadata": {
    "ExecuteTime": {
     "end_time": "2018-12-18T09:20:12.764855Z",
     "start_time": "2018-12-18T09:20:12.733597Z"
    },
    "code_folding": [],
    "hidden": true
   },
   "outputs": [],
   "source": [
    "# %load scripts\\canvas-bind.py\n",
    "#!python3\n",
    "# canvas-bind.py -\n",
    "\n",
    "from tkinter import *\n",
    "\n",
    "\n",
    "def onCanvasClick(event):\n",
    "    print('Got canvas click', event.x, event.y, event.widget)\n",
    "\n",
    "\n",
    "def onObjClick(event):\n",
    "    print('Got object click', event.x, event.y, event.widget, end=' ')\n",
    "    print(event.widget.find_closest(event.x, event.y))\n",
    "\n",
    "\n",
    "root = Tk()\n",
    "canv = Canvas(root, width=200, height=200)\n",
    "obj1 = canv.create_text(80, 50, text='Click me one', font=('times', 20, 'bold'))\n",
    "obj2 = canv.create_text(80, 80, text='Click me two', font=('times', 20, 'bold'))\n",
    "\n",
    "canv.bind('<Double-1>', onCanvasClick)\n",
    "canv.tag_bind(obj1, '<Double-1>', onObjClick)\n",
    "canv.tag_bind(obj2, '<Double-1>', onObjClick)\n",
    "\n",
    "canv.pack()\n",
    "root.mainloop()"
   ]
  },
  {
   "cell_type": "markdown",
   "metadata": {
    "heading_collapsed": true
   },
   "source": [
    "#### 网格\n",
    "\n",
    "- 调用组件对象的`.grid(row=2, column=4)`，与`.pack()`方法互斥\n",
    "- `grid`方法：`sticky`选项，`NSEW`表示沿四个方向拉伸；`rowconfigure`和`columnconfigure`方法，设定行列权重，默认为0，表示不扩展；`columnspan`和`rowspan`表示跨行或跨列\n",
    "- `.grid_forget()`和`.pack_forget()`方法消除GUI"
   ]
  },
  {
   "cell_type": "code",
   "execution_count": null,
   "metadata": {
    "ExecuteTime": {
     "end_time": "2018-12-18T09:46:34.720105Z",
     "start_time": "2018-12-18T09:46:34.704493Z"
    },
    "code_folding": [
     0
    ],
    "hidden": true
   },
   "outputs": [],
   "source": [
    "# %load scripts\\grid2.py\n",
    "#!python3\n",
    "# grid2.py - 对比grid方法和pack方法\n",
    "\n",
    "from tkinter import *\n",
    "colors = ['red', 'green', 'orange', 'white', 'yellow', 'blue']\n",
    "\n",
    "\n",
    "def gridbox(parent):\n",
    "    row = 0\n",
    "    for color in colors:\n",
    "        lab = Label(parent, text=color, relief=RIDGE, width=25)\n",
    "        ent = Entry(parent, bg=color, relief=SUNKEN, width=50)\n",
    "        lab.grid(row=row, column=0)\n",
    "        ent.grid(row=row, column=1)\n",
    "        ent.insert(0,'grid')\n",
    "        row += 1\n",
    "\n",
    "\n",
    "def packbox(parent):\n",
    "    for color in colors:\n",
    "        row = Frame(parent)\n",
    "        lab = Label(row, text=color, relief=RIDGE, width=25)\n",
    "        ent = Entry(row, bg=color, relief=SUNKEN, width=50)\n",
    "        row.pack(side=TOP)\n",
    "        lab.pack(side=LEFT, fill=X)\n",
    "        ent.pack(side=RIGHT)\n",
    "        ent.insert(0, 'pack')\n",
    "\n",
    "\n",
    "if __name__ == '__main__':\n",
    "    root = Tk()\n",
    "    gridbox(Toplevel())\n",
    "    packbox(Toplevel())\n",
    "    Button(root, text='Quit', command=root.quit).pack()\n",
    "    mainloop()"
   ]
  },
  {
   "cell_type": "code",
   "execution_count": null,
   "metadata": {
    "ExecuteTime": {
     "end_time": "2018-12-18T09:46:52.510708Z",
     "start_time": "2018-12-18T09:46:52.479463Z"
    },
    "code_folding": [
     0
    ],
    "hidden": true
   },
   "outputs": [],
   "source": [
    "# %load scripts\\grid2-same.py\n",
    "#!python3\n",
    "# grid2-same.py -\n",
    "\n",
    "from tkinter import *\n",
    "from grid2 import gridbox, packbox\n",
    "\n",
    "root = Tk()\n",
    "\n",
    "Label(root, text='Grid:').pack()\n",
    "frm = Frame(root, bd=5, relief=RAISED)\n",
    "gridbox(frm)\n",
    "frm.pack(padx=5, pady=5)\n",
    "\n",
    "Label(root, text='Pack:').pack()\n",
    "frm = Frame(root, bd=5, relief=RAISED)\n",
    "packbox(frm)\n",
    "frm.pack(padx=5, pady=5)\n",
    "\n",
    "Button(root, text='Quit', command=root.quit).pack()\n",
    "mainloop()"
   ]
  },
  {
   "cell_type": "code",
   "execution_count": null,
   "metadata": {
    "ExecuteTime": {
     "end_time": "2018-12-18T10:28:29.061004Z",
     "start_time": "2018-12-18T10:28:29.029800Z"
    },
    "code_folding": [
     0
    ],
    "hidden": true
   },
   "outputs": [],
   "source": [
    "# %load scripts\\grid5b.py\n",
    "#!python3\n",
    "# grid5b.py -\n",
    "\n",
    "from tkinter import *\n",
    "import sys\n",
    "\n",
    "numrow, numcol = 5, 4\n",
    "rows = []\n",
    "for i in range(numrow):\n",
    "    cols = []\n",
    "    for j in range(numcol):\n",
    "        ent = Entry(relief=RIDGE)\n",
    "        ent.grid(row=i, column=j, sticky=NSEW)\n",
    "        ent.insert(END, '%d.%d' % (i, j))\n",
    "        cols.append(ent)\n",
    "    rows.append(cols)\n",
    "\n",
    "sums = []\n",
    "for i in range(numcol):\n",
    "    lab = Label(text='?', relief=SUNKEN)\n",
    "    lab.grid(row=numrow, column=i, sticky=NSEW)\n",
    "    sums.append(lab)\n",
    "\n",
    "\n",
    "def onPrint():\n",
    "    for row in rows:\n",
    "        for col in row:\n",
    "            print(col.get(), end=' ')\n",
    "        print()\n",
    "    print()\n",
    "\n",
    "\n",
    "def onSum():\n",
    "    tots = [0]*numcol\n",
    "    for i in range(numcol):\n",
    "        for j in range(numrow):\n",
    "            tots[i] += eval(rows[j][i].get())\n",
    "    for i in range(numcol):\n",
    "        sums[i].config(text=str(tots[i]))\n",
    "\n",
    "\n",
    "def onClear():\n",
    "    for row in rows:\n",
    "        for col in row:\n",
    "            col.delete('0', END)\n",
    "            col.insert(END, '0.0')\n",
    "    for sum in sums:\n",
    "        sum.config(text='?')\n",
    "\n",
    "Button(text='Sum', command=onSum).grid(row=numrow+1, column=0)\n",
    "Button(text='Print', command=onPrint).grid(row=numrow+1, column=1)\n",
    "Button(text='Clear', command=onClear).grid(row=numrow+1, column=2)\n",
    "Button(text='Quit', command=sys.exit).grid(row=numrow+1, column=3)\n",
    "mainloop()"
   ]
  },
  {
   "cell_type": "code",
   "execution_count": null,
   "metadata": {
    "ExecuteTime": {
     "end_time": "2018-12-19T02:19:35.848543Z",
     "start_time": "2018-12-19T02:19:35.801637Z"
    },
    "code_folding": [
     0
    ],
    "hidden": true
   },
   "outputs": [],
   "source": [
    "# %load scripts\\grid5c.py\n",
    "#! python3\n",
    "# grid5c.py - 可以加载数据文件，并自动改变GUI大小，以容纳文件所有内容\n",
    "\n",
    "from tkinter import *\n",
    "from tkinter.filedialog import askopenfilename\n",
    "from dialogTable import Quitter\n",
    "\n",
    "\n",
    "class SumGrid(Frame):\n",
    "    def __init__(self, parent=None, numrow=5, numcol=5):\n",
    "        Frame.__init__(self, parent)\n",
    "        self.numrow = numrow\n",
    "        self.numcol = numcol\n",
    "        self.makewidgets(numrow, numcol)\n",
    "\n",
    "    def makewidgets(self, numrow, numcol):\n",
    "        Button(self, text='Sum', command=self.onSum).grid(row=0, column=0)\n",
    "        Button(self, text='Print', command=self.onPrint).grid(row=0, column=1)\n",
    "        Button(self, text='Clear', command=self.onClear).grid(row=0, column=2)\n",
    "        Button(self, text='Load', command=self.onLoad).grid(row=0, column=3)\n",
    "        Button(self, text='Quit', command=sys.exit).grid(row=0, column=4)\n",
    "\n",
    "        self.rows = []\n",
    "        for i in range(numrow):\n",
    "            cols = []\n",
    "            for j in range(numcol):\n",
    "                ent = Entry(self, relief=RIDGE)\n",
    "                ent.grid(row=i+1, column=j, sticky=NSEW)\n",
    "                ent.insert(END, '%d.%d' % (i, j))\n",
    "                cols.append(ent)\n",
    "            self.rows.append(cols)\n",
    "\n",
    "        self.sums = []\n",
    "        for i in range(numrow):\n",
    "            lab = Label(self, text='?', relief=SUNKEN)\n",
    "            lab.grid(row=numrow+1, column=i, sticky=NSEW)\n",
    "            self.sums.append(lab)\n",
    "\n",
    "\n",
    "    def onPrint(self):\n",
    "        for row in self.rows:\n",
    "            for col in row:\n",
    "                print(col.get(), end=' ')\n",
    "            print()\n",
    "        print()\n",
    "\n",
    "    def onSum(self):\n",
    "        tots = [0] * self.numcol\n",
    "        for i in range(self.numcol):\n",
    "            for j in range(self.numrow):\n",
    "                tots[i] += eval(self.rows[j][i].get())\n",
    "        for i in range(self.numcol):\n",
    "            self.sums[i].config(text=str(tots[i]))\n",
    "\n",
    "    def onClear(self):\n",
    "        for row in self.rows:\n",
    "            for col in row:\n",
    "                col.delete('0', END)\n",
    "                col.insert(END, '0.0')\n",
    "        for sum in self.sums:\n",
    "            sum.config(text='?')\n",
    "\n",
    "    def onLoad(self):\n",
    "        file = askopenfilename()\n",
    "        if file:\n",
    "            for row in self.rows:\n",
    "                for col in row:\n",
    "                    col.grid_forget()       # 擦除现有的GUI\n",
    "            for sum in self.sums:\n",
    "                sum.grid_forget()\n",
    "\n",
    "            filelines = open(file, 'r').readlines()\n",
    "            self.numrow = len(filelines)\n",
    "            self.numcol = len(filelines[0].split())\n",
    "            self.makewidgets(self.numrow, self.numcol)\n",
    "\n",
    "            for (row, line) in enumerate(filelines):\n",
    "                fields = line.split()\n",
    "                for col in range(self.numcol):\n",
    "                    self.rows[row][col].delete('0', END)\n",
    "                    self.rows[row][col].insert(END, fields[col])\n",
    "\n",
    "\n",
    "if __name__ == '__main__':\n",
    "    import sys\n",
    "    root = Tk()\n",
    "    root.title('Summer Grid')\n",
    "    if len(sys.argv) != 3:\n",
    "        SumGrid(root).pack()\n",
    "    else:\n",
    "        rows, cols = eval(sys.argv[1]), eval(sys.argv[2])   # 从命令行给定行列的数量\n",
    "        SumGrid(root, rows, cols).pack()\n",
    "    mainloop()\n",
    "\n"
   ]
  },
  {
   "cell_type": "markdown",
   "metadata": {
    "heading_collapsed": true
   },
   "source": [
    "#### <span class=\"burk\">时间工具、线程和动画?????</span>"
   ]
  },
  {
   "cell_type": "code",
   "execution_count": null,
   "metadata": {
    "ExecuteTime": {
     "end_time": "2018-12-19T05:23:53.565748Z",
     "start_time": "2018-12-19T05:23:53.533874Z"
    },
    "code_folding": [
     0
    ],
    "hidden": true
   },
   "outputs": [],
   "source": [
    "# %load scripts\\alarm.py\n",
    "#!python3\n",
    "# alarm.py -\n",
    "\n",
    "from tkinter import *\n",
    "\n",
    "\n",
    "class Alarm(Frame):\n",
    "    def __init__(self, msecs=1000):\n",
    "        Frame.__init__(self)\n",
    "        self.msecs = msecs\n",
    "        self.pack()</span></span>\n",
    "\n",
    "        stopper = Button(self, text='Stop the beeps', command=self.quit)\n",
    "        stopper.pack()\n",
    "        stopper.config(bg='navy', fg='white', bd=8)\n",
    "        self.stopper = stopper\n",
    "        self.repeater()\n",
    "\n",
    "    def repeater(self):\n",
    "        self.bell()\n",
    "        self.stopper.flash()\n",
    "        self.after(self.msecs, self.repeater)\n",
    "\n",
    "\n",
    "if __name__ == '__main__':\n",
    "    Alarm(msecs=1000).mainloop()"
   ]
  },
  {
   "cell_type": "code",
   "execution_count": null,
   "metadata": {
    "ExecuteTime": {
     "end_time": "2018-12-19T05:24:11.537894Z",
     "start_time": "2018-12-19T05:24:11.522272Z"
    },
    "code_folding": [
     0
    ],
    "hidden": true
   },
   "outputs": [],
   "source": [
    "# %load scripts\\alarm_hide.py\n",
    "#!python3\n",
    "# alarm_hide.py -\n",
    "\n",
    "\n",
    "from tkinter import *\n",
    "import alarm\n",
    "\n",
    "class Alarm(alarm.Alarm):\n",
    "    def __init__(self, msecs=1000):\n",
    "        self.shown = True\n",
    "        alarm.Alarm.__init__(self, msecs)\n",
    "\n",
    "    def repeater(self):\n",
    "        self.bell()\n",
    "        if self.shown:\n",
    "            self.stopper.pack_forget()\n",
    "        else:\n",
    "            self.stopper.pack()\n",
    "        self.shown = not self.shown\n",
    "        self.after(self.msecs, self.repeater)\n",
    "\n",
    "\n",
    "if __name__ == '__main__':\n",
    "    Alarm(msecs=2000).mainloop()"
   ]
  },
  {
   "cell_type": "code",
   "execution_count": null,
   "metadata": {
    "ExecuteTime": {
     "end_time": "2018-12-19T05:24:43.855872Z",
     "start_time": "2018-12-19T05:24:43.840251Z"
    },
    "code_folding": [
     0
    ],
    "hidden": true
   },
   "outputs": [],
   "source": [
    "# %load scripts\\alarm_withdraw.py\n",
    "#!python\n",
    "# alarm_withdraw.py -\n",
    "\n",
    "from tkinter import *\n",
    "import alarm\n",
    "\n",
    "\n",
    "class Alarm(alarm.Alarm):\n",
    "    def repeater(self):\n",
    "        self.bell()\n",
    "        if self.master.state() == 'normal':\n",
    "            self.master.withdraw()\n",
    "        else:\n",
    "            self.master.deiconify()\n",
    "            self.master.lift()\n",
    "        self.after(self.msecs, self.repeater)\n",
    "\n",
    "\n",
    "if __name__ == '__main__':\n",
    "    Alarm().mainloop()"
   ]
  },
  {
   "cell_type": "code",
   "execution_count": null,
   "metadata": {
    "ExecuteTime": {
     "end_time": "2018-12-19T05:25:15.369737Z",
     "start_time": "2018-12-19T05:25:15.338465Z"
    },
    "code_folding": [
     0
    ],
    "hidden": true
   },
   "outputs": [],
   "source": [
    "# %load scripts\\canvasDraw_tags.py\n",
    "#!python3\n",
    "# canvasDraw_tags.py -\n",
    "\n",
    "from tkinter import *\n",
    "import time\n",
    "import canvasDraw\n",
    "\n",
    "\n",
    "class CanvasEventsDemo(canvasDraw.CanvasEventsDemo):\n",
    "    def __init__(self, parent=None):\n",
    "        canvasDraw.CanvasEventsDemo.__init__(self, parent)\n",
    "        self.canvas.create_text(100, 10, text='Press o or r to move shapes')\n",
    "        self.canvas.master.bind('<KeyPress-o>', self.onMoveOvals)\n",
    "        self.canvas.master.bind('<KeyPress-r>', self.onMoveRectangles)\n",
    "        self.kinds = self.create_oval_tagged, self.create_rectangle_tagged\n",
    "\n",
    "    def create_oval_tagged(self, x1, y1, x2, y2):\n",
    "        objID = self.canvas.create_oval(x1, y1, x2, y2)\n",
    "        self.canvas.itemconfig(objID, tag='ovals', fill='red')\n",
    "        return objID\n",
    "\n",
    "    def create_rectangle_tagged(self, x1, y1, x2, y2):\n",
    "        objID = self.canvas.create_rectangle(x1, y1, x2, y2)\n",
    "        self.canvas.itemconfig(objID, tag='rectangles', fill='blue')\n",
    "        return objID\n",
    "\n",
    "    def onMoveOvals(self, event):\n",
    "        print('moving ovals')\n",
    "        self.moveInSquares(tag='ovals')\n",
    "\n",
    "    def onMoveRectangles(self, event):\n",
    "        print('moving rectangles')\n",
    "        self.moveInSquares(tag='rectangles')\n",
    "\n",
    "    def moveInSquares(self, tag):\n",
    "        for i in range(5):\n",
    "            for (diffx, diffy) in [(+20, 0), (0, +20), (-20, 0), (0, -20)]:\n",
    "                self.canvas.move(tag, diffx, diffy)\n",
    "                self.canvas.update()\n",
    "                time.sleep(0.25)        # 独占了控制线程，每次只有一个动画会运行\n",
    "\n",
    "if __name__ == '__main__':\n",
    "    CanvasEventsDemo()\n",
    "    mainloop()\n"
   ]
  },
  {
   "cell_type": "code",
   "execution_count": null,
   "metadata": {
    "hidden": true
   },
   "outputs": [],
   "source": [
    "\n",
    "\n"
   ]
  },
  {
   "cell_type": "markdown",
   "metadata": {
    "heading_collapsed": true
   },
   "source": [
    "### 编码技巧"
   ]
  },
  {
   "cell_type": "markdown",
   "metadata": {
    "hidden": true
   },
   "source": [
    "#### 普通工具混合类\n",
    "- 组件生成器函数：编写典型组件配置，打包进函数中，方便使用\n",
    "- 混合工具类：将不同组件可能用到的方法封装到混合类中，在需要的地方继承这些方法"
   ]
  },
  {
   "cell_type": "code",
   "execution_count": null,
   "metadata": {
    "ExecuteTime": {
     "end_time": "2018-12-20T13:54:14.550399Z",
     "start_time": "2018-12-20T13:54:14.379854Z"
    },
    "code_folding": [
     7,
     15,
     23,
     31,
     39
    ],
    "hidden": true
   },
   "outputs": [],
   "source": [
    "# %load scripts\\widgets.py\n",
    "#!python3\n",
    "# widgets.py - 封装组件的细节\n",
    "\n",
    "from tkinter import *\n",
    "\n",
    "\n",
    "def frame(root, side=TOP, **extras):\n",
    "    widget = Frame(root)\n",
    "    widget.pack(side=side, expand=YES, fill=BOTH)\n",
    "    if extras:\n",
    "        widget.pack(**extras)\n",
    "    return widget\n",
    "\n",
    "\n",
    "def label(root, side, text, **extras):\n",
    "    widget = Label(root, text=text, relief=RIDGE)\n",
    "    widget.pack(side=side, expand=YES, fill=BOTH)\n",
    "    if extras:\n",
    "        widget.config(**extras)\n",
    "    return widget\n",
    "\n",
    "\n",
    "def button(root, side, text, command, **extras):\n",
    "    widget = Button(root, text=text, command=command)\n",
    "    widget.pack(side=side, expand=YES, fill=BOTH)\n",
    "    if extras:\n",
    "        widget.config(**extras)\n",
    "    return widget\n",
    "\n",
    "\n",
    "def entry(root, side, linkvar, **extras):\n",
    "    widget = Entry(root, relief=SUNKEN, textvariable=linkvar)\n",
    "    widget.pack(side=side, expand=YES, fill=BOTH)\n",
    "    if extras:\n",
    "        widget.config(**extras)\n",
    "    return widget\n",
    "\n",
    "\n",
    "if __name__ == '__main__':\n",
    "    app = Tk()\n",
    "    frm = frame(app, TOP)\n",
    "    label(frm, LEFT, 'SPAM')\n",
    "    button(frm, BOTTOM, 'Press', lambda:print('Pushed'))\n",
    "    mainloop()"
   ]
  },
  {
   "cell_type": "code",
   "execution_count": null,
   "metadata": {
    "ExecuteTime": {
     "end_time": "2018-12-20T13:54:33.341674Z",
     "start_time": "2018-12-20T13:54:33.333694Z"
    },
    "code_folding": [
     11,
     57
    ],
    "hidden": true
   },
   "outputs": [],
   "source": [
    "# %load scripts\\guimixin.py\n",
    "#!python3\n",
    "# guimixin.py - 将常用方法封装进混合类中\n",
    "\n",
    "from tkinter import *\n",
    "from tkinter.messagebox import *\n",
    "from tkinter.dialog import *\n",
    "from scrolledtext import ScrolledText\n",
    "from launchmodes import PortableLauncher, System\n",
    "\n",
    "\n",
    "class GuiMixin():\n",
    "    def infobox(self, title, text, *args):\n",
    "        return showinfo(title, text)\n",
    "\n",
    "    def errorbox(self, text):\n",
    "        showerror('Error!', text)\n",
    "\n",
    "    def question(self, title, text, *args):\n",
    "        return askyesno(title, text)\n",
    "\n",
    "    def notdone(self):\n",
    "        showerror('Not implemented', 'Option not available')\n",
    "\n",
    "    def quit(self):\n",
    "        ans = self.question('Verify quit', 'Are you sure you want to quit?')\n",
    "        if ans:\n",
    "            Frame.quit(self)\n",
    "\n",
    "    def help(self):\n",
    "        self.infobox('RTFM', 'See firgure 1...')\n",
    "\n",
    "    def selectOpenFile(self, file='', dir='.'):\n",
    "        return askopenfilename(initialdir=dir, initialfile=file)\n",
    "\n",
    "    def selectSaveFile(self, file='', dir='.'):\n",
    "            return asksaveasfilename(initialdir=dir, initialfile=file)\n",
    "\n",
    "    def clone(self, args=()):\n",
    "        new = Toplevel()\n",
    "        myclass = self.__class__\n",
    "        myclass(new, *args)\n",
    "\n",
    "    def spawn(self, pycmdline, wait=False):\n",
    "        if not wait:        # 启动新的进程\n",
    "            PortableLauncher(pycmdline, pycmdline)()        # 运行python程序\n",
    "        else:\n",
    "            System(pycmdline, pycmdline)()      # 等待程序退出\n",
    "\n",
    "    def browser(selfself, filename):\n",
    "        new = Toplevel()\n",
    "        view = ScrolledText(new, file=filename)\n",
    "        view.text.config(height=30, width=85)\n",
    "        view.text.config(font=('courier', 10, 'normal'))\n",
    "        new.title('Text Viewer')\n",
    "        new.iconname('browser')\n",
    "\n",
    "if __name__ == '__main__':\n",
    "\n",
    "\n",
    "    class TestMixin(GuiMixin, Frame):\n",
    "        def __init__(self, parent=None):\n",
    "            Frame.__init__(self, parent)\n",
    "            self.pack()\n",
    "            Button(self, text='quit', command=self.quit).pack(fill=X)\n",
    "            Button(self, text='help', command=self.help).pack(fill=X)\n",
    "            Button(self, text='clone', command=self.clone).pack(fill=X)\n",
    "            Button(self, text='spawn', command=self.other).pack(fill=X)\n",
    "\n",
    "        def other(self):\n",
    "            self.spawn('guimixin.py')\n",
    "\n",
    "\n",
    "    TestMixin().mainloop()"
   ]
  },
  {
   "cell_type": "code",
   "execution_count": null,
   "metadata": {
    "hidden": true
   },
   "outputs": [],
   "source": []
  },
  {
   "cell_type": "markdown",
   "metadata": {},
   "source": [
    "### 显示信息"
   ]
  },
  {
   "cell_type": "markdown",
   "metadata": {},
   "source": [
    "四种信息框，获取用户信息,返回 Yes/1 或 No/0/''\n",
    "- askquestion\n",
    "- askyesno\n",
    "- askokcancel\n",
    "- askretrycancel \n",
    "\n",
    "获取文本信息：\n",
    "- Entry"
   ]
  },
  {
   "cell_type": "code",
   "execution_count": null,
   "metadata": {},
   "outputs": [],
   "source": []
  }
 ],
 "metadata": {
  "kernelspec": {
   "display_name": "Python 3",
   "language": "python",
   "name": "python3"
  },
  "language_info": {
   "codemirror_mode": {
    "name": "ipython",
    "version": 3
   },
   "file_extension": ".py",
   "mimetype": "text/x-python",
   "name": "python",
   "nbconvert_exporter": "python",
   "pygments_lexer": "ipython3",
   "version": "3.7.1"
  },
  "toc": {
   "base_numbering": 1,
   "nav_menu": {},
   "number_sections": true,
   "sideBar": true,
   "skip_h1_title": false,
   "title_cell": "Table of Contents",
   "title_sidebar": "Contents",
   "toc_cell": false,
   "toc_position": {
    "height": "calc(100% - 180px)",
    "left": "10px",
    "top": "150px",
    "width": "165px"
   },
   "toc_section_display": true,
   "toc_window_display": false
  }
 },
 "nbformat": 4,
 "nbformat_minor": 2
}
