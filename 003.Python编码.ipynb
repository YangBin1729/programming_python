{
 "cells": [
  {
   "cell_type": "markdown",
   "metadata": {
    "ExecuteTime": {
     "end_time": "2018-11-30T02:51:33.144442Z",
     "start_time": "2018-11-30T02:51:33.019296Z"
    }
   },
   "source": [
    "## 计算机编码"
   ]
  },
  {
   "cell_type": "markdown",
   "metadata": {},
   "source": [
    "### 数据本质\n",
    "计算机中所有数据，不论是文字、图片、视频、还是音频等，本质上都是按 010101 之类的二进制形式储存的"
   ]
  },
  {
   "cell_type": "markdown",
   "metadata": {},
   "source": [
    "### ASCII\n",
    "\n",
    "1. 计算机发展初期，英语世界里字符个数非常有限，26个字母（大小写）、10个数字、标点符号、控制符，总共一百多个字符。\n",
    "\n",
    "2. 一个字节的存储空间来表示一个字符绰绰有余，一个字节相当于8个比特位，8个比特位可以表示256个字符。\n",
    "\n",
    "3. ASCII（American Standard Code for Information Interchange）,定义了128个字符编码，包括96个文字和32个控制符号。\n",
    "\n",
    "4. ASCII只用了一个字节的后7位，最高位都为0。"
   ]
  },
  {
   "cell_type": "markdown",
   "metadata": {
    "ExecuteTime": {
     "end_time": "2018-11-30T02:17:54.244342Z",
     "start_time": "2018-11-30T02:17:54.213283Z"
    }
   },
   "source": [
    "### EASCII(ISO/8859-1)\n",
    "1. 计算机普及到欧洲后，即对ASCII进行扩展，以包含很多西欧特有的符号\n",
    "2. 编码从原来的7位字节扩展为8位，并完全兼容ASCII\n",
    "3. 标准不统一，各个地区按自己的需求，实现自己的一套编码"
   ]
  },
  {
   "cell_type": "markdown",
   "metadata": {
    "ExecuteTime": {
     "end_time": "2018-11-30T02:22:41.052555Z",
     "start_time": "2018-11-30T02:22:41.021310Z"
    }
   },
   "source": [
    "### GBK\n",
    "1. 计算机进入中国，常见的汉字成千上万\n",
    "2. GBK编码，兼容ASCII，对于英文字符用1个字节表示，汉字用2个字节表示。不仅收录27484个汉字，还收录了藏文、满文等主要少数民族语言文字"
   ]
  },
  {
   "cell_type": "markdown",
   "metadata": {
    "ExecuteTime": {
     "end_time": "2018-11-30T02:33:09.020558Z",
     "start_time": "2018-11-30T02:33:08.989452Z"
    }
   },
   "source": [
    "### Unicode\n",
    "1. 满足世界其他国家的需求，统一联盟国际组织提出Unicode编码（Universal Multipile-Octet Coded Character Set）\n",
    "2. 最终Unicode4.0规范定义用4个字节（实际31位，最高位必须为0）编码，理论上涵盖了一切语言用的符号\n",
    "3. 缺点1：很多字符一个字节编码就足够，用2个字节，浪费空间\n",
    "4. 缺点2：Unicode字符最终保存为二进制编码后，如何判断一个4字节的Unicode是表示一个4字节的字符、还是4个1字节字符"
   ]
  },
  {
   "cell_type": "markdown",
   "metadata": {},
   "source": [
    "### UTF-8\n",
    "1. UTF-8（8-bit Unicode Transformation Format）是Unicode的一种实现方式，根据具体情况用1-4字节来表示一个字符\n",
    "2. 可用ASCII码表示的英文字符，用UTF-8表示就只需1个字节\n",
    "3. 对于n字节的字符，第一个字节的前n位都设为1、第n+1位设置为0，其它字节的前两位都设为10。剩下的二进制位全部用该字符的Unicode码填充\n",
    "![](utf-8编码.jpg)"
   ]
  },
  {
   "cell_type": "code",
   "execution_count": null,
   "metadata": {},
   "outputs": [],
   "source": []
  },
  {
   "cell_type": "code",
   "execution_count": null,
   "metadata": {},
   "outputs": [],
   "source": []
  },
  {
   "cell_type": "markdown",
   "metadata": {},
   "source": [
    "## Python编码"
   ]
  },
  {
   "cell_type": "markdown",
   "metadata": {
    "ExecuteTime": {
     "end_time": "2018-11-30T02:53:26.352422Z",
     "start_time": "2018-11-30T02:53:26.336768Z"
    }
   },
   "source": [
    "1. Python诞生时间远早于Unicode，Python2的默认编码是ASCII，Python3的默认编码是utf-8"
   ]
  },
  {
   "cell_type": "code",
   "execution_count": 6,
   "metadata": {
    "ExecuteTime": {
     "end_time": "2018-11-30T02:54:01.592286Z",
     "start_time": "2018-11-30T02:54:01.467352Z"
    }
   },
   "outputs": [
    {
     "data": {
      "text/plain": [
       "'utf-8'"
      ]
     },
     "execution_count": 6,
     "metadata": {},
     "output_type": "execute_result"
    }
   ],
   "source": [
    "import sys\n",
    "sys.getdefaultencoding()"
   ]
  },
  {
   "cell_type": "markdown",
   "metadata": {},
   "source": [
    "2. 对于Python2，必须在脚本第一行或第二行中显式的指定编码格式 `# coding=utf-8`或\n",
    "```\n",
    "#！/usr/bin/python  \n",
    "# -*- coding: utf-8 -*-  \n",
    "```\n",
    "\n",
    "3. Python和字符串相关的数据类型，分别是 str、unicode两种，都是basestring的子类：\n",
    "> 汉字‘好’，用str表示时，对应的utf-8编码的‘\\xe5\\xa5\\xbd’；用Unicode表示时，为u'\\u597d',等同于u'好'  \n",
    "\n",
    "- windows系统，cmd命令行中显示：\n",
    "```\n",
    ">>> a='好'\n",
    ">>> type(a)\n",
    "<type 'str'>\n",
    ">>> a\n",
    "'\\xba\\xc3'\n",
    "```\n",
    "```\n",
    ">>> a=u'好'\n",
    ">>> type(a)\n",
    "<type 'unicode'>\n",
    ">>> a\n",
    "u'\\u597d'\n",
    "```\n",
    "\n",
    "4. 大多数编程语言，Unicode编码都成为了默认的编码格式\n",
    "\n",
    "5. Python中str和unicode之间的转换，靠decode和encode方法"
   ]
  },
  {
   "cell_type": "code",
   "execution_count": 12,
   "metadata": {
    "ExecuteTime": {
     "end_time": "2018-11-30T03:26:11.467934Z",
     "start_time": "2018-11-30T03:26:11.436693Z"
    }
   },
   "outputs": [
    {
     "name": "stdout",
     "output_type": "stream",
     "text": [
      "<class 'bytes'>\n"
     ]
    },
    {
     "data": {
      "text/plain": [
       "b'\\xe5\\xa5\\xbd'"
      ]
     },
     "execution_count": 12,
     "metadata": {},
     "output_type": "execute_result"
    }
   ],
   "source": [
    "a='好'\n",
    "c=a.encode('utf-8')\n",
    "print(type(c))\n",
    "c"
   ]
  },
  {
   "cell_type": "code",
   "execution_count": 13,
   "metadata": {
    "ExecuteTime": {
     "end_time": "2018-11-30T03:26:16.891158Z",
     "start_time": "2018-11-30T03:26:16.875562Z"
    }
   },
   "outputs": [
    {
     "name": "stdout",
     "output_type": "stream",
     "text": [
      "<class 'str'>\n"
     ]
    },
    {
     "data": {
      "text/plain": [
       "'好'"
      ]
     },
     "execution_count": 13,
     "metadata": {},
     "output_type": "execute_result"
    }
   ],
   "source": [
    "d=c.decode('utf-8')\n",
    "print(type(d))\n",
    "d"
   ]
  },
  {
   "cell_type": "code",
   "execution_count": 14,
   "metadata": {
    "ExecuteTime": {
     "end_time": "2018-11-30T03:27:20.885351Z",
     "start_time": "2018-11-30T03:27:20.854310Z"
    }
   },
   "outputs": [
    {
     "ename": "UnicodeEncodeError",
     "evalue": "'ascii' codec can't encode character '\\u597d' in position 0: ordinal not in range(128)",
     "output_type": "error",
     "traceback": [
      "\u001b[1;31m---------------------------------------------------------------------------\u001b[0m",
      "\u001b[1;31mUnicodeEncodeError\u001b[0m                        Traceback (most recent call last)",
      "\u001b[1;32m<ipython-input-14-89b2696fceae>\u001b[0m in \u001b[0;36m<module>\u001b[1;34m()\u001b[0m\n\u001b[0;32m      1\u001b[0m \u001b[0ma\u001b[0m\u001b[1;33m=\u001b[0m\u001b[1;34m'好'\u001b[0m\u001b[1;33m\u001b[0m\u001b[0m\n\u001b[1;32m----> 2\u001b[1;33m \u001b[0ma\u001b[0m\u001b[1;33m.\u001b[0m\u001b[0mencode\u001b[0m\u001b[1;33m(\u001b[0m\u001b[1;34m'ascii'\u001b[0m\u001b[1;33m)\u001b[0m\u001b[1;33m\u001b[0m\u001b[0m\n\u001b[0m",
      "\u001b[1;31mUnicodeEncodeError\u001b[0m: 'ascii' codec can't encode character '\\u597d' in position 0: ordinal not in range(128)"
     ]
    }
   ],
   "source": [
    "a='好'\n",
    "a.encode('ascii')"
   ]
  },
  {
   "cell_type": "markdown",
   "metadata": {
    "ExecuteTime": {
     "end_time": "2018-11-30T03:29:20.764363Z",
     "start_time": "2018-11-30T03:29:20.733132Z"
    }
   },
   "source": [
    "6. str(s)和unicode(s)为两个工厂方法，分别返回str字符串和unicode字符串对象，最早期str(s)==s.encode('ascii')\n",
    "7. 乱码，字符在编码解码的过程中使用的编码格式不一致"
   ]
  },
  {
   "cell_type": "code",
   "execution_count": 24,
   "metadata": {
    "ExecuteTime": {
     "end_time": "2018-11-30T03:38:02.138444Z",
     "start_time": "2018-11-30T03:38:02.091586Z"
    }
   },
   "outputs": [
    {
     "name": "stdout",
     "output_type": "stream",
     "text": [
      "b'\\xba\\xc3'\n"
     ]
    },
    {
     "ename": "UnicodeDecodeError",
     "evalue": "'utf-8' codec can't decode byte 0xba in position 0: invalid start byte",
     "output_type": "error",
     "traceback": [
      "\u001b[1;31m---------------------------------------------------------------------------\u001b[0m",
      "\u001b[1;31mUnicodeDecodeError\u001b[0m                        Traceback (most recent call last)",
      "\u001b[1;32m<ipython-input-24-9d4ae61c1e29>\u001b[0m in \u001b[0;36m<module>\u001b[1;34m()\u001b[0m\n\u001b[0;32m      2\u001b[0m \u001b[0mb\u001b[0m\u001b[1;33m=\u001b[0m\u001b[0ma\u001b[0m\u001b[1;33m.\u001b[0m\u001b[0mencode\u001b[0m\u001b[1;33m(\u001b[0m\u001b[1;34m'gbk'\u001b[0m\u001b[1;33m)\u001b[0m\u001b[1;33m\u001b[0m\u001b[0m\n\u001b[0;32m      3\u001b[0m \u001b[0mprint\u001b[0m\u001b[1;33m(\u001b[0m\u001b[0mb\u001b[0m\u001b[1;33m)\u001b[0m\u001b[1;33m\u001b[0m\u001b[0m\n\u001b[1;32m----> 4\u001b[1;33m \u001b[0ma_\u001b[0m\u001b[1;33m=\u001b[0m\u001b[0mb\u001b[0m\u001b[1;33m.\u001b[0m\u001b[0mdecode\u001b[0m\u001b[1;33m(\u001b[0m\u001b[1;34m'utf-8'\u001b[0m\u001b[1;33m)\u001b[0m\u001b[1;33m\u001b[0m\u001b[0m\n\u001b[0m\u001b[0;32m      5\u001b[0m \u001b[0mprint\u001b[0m\u001b[1;33m(\u001b[0m\u001b[0mc\u001b[0m\u001b[1;33m)\u001b[0m\u001b[1;33m\u001b[0m\u001b[0m\n",
      "\u001b[1;31mUnicodeDecodeError\u001b[0m: 'utf-8' codec can't decode byte 0xba in position 0: invalid start byte"
     ]
    }
   ],
   "source": [
    "a='好'\n",
    "b=a.encode('gbk')\n",
    "print(b)\n",
    "a_=b.decode('utf-8')\n",
    "print(c)"
   ]
  },
  {
   "cell_type": "code",
   "execution_count": null,
   "metadata": {},
   "outputs": [],
   "source": []
  },
  {
   "cell_type": "markdown",
   "metadata": {},
   "source": [
    "### Python编码底层原理 "
   ]
  },
  {
   "cell_type": "code",
   "execution_count": null,
   "metadata": {},
   "outputs": [],
   "source": []
  }
 ],
 "metadata": {
  "kernelspec": {
   "display_name": "Python 3",
   "language": "python",
   "name": "python3"
  },
  "language_info": {
   "codemirror_mode": {
    "name": "ipython",
    "version": 3
   },
   "file_extension": ".py",
   "mimetype": "text/x-python",
   "name": "python",
   "nbconvert_exporter": "python",
   "pygments_lexer": "ipython3",
   "version": "3.7.3"
  },
  "toc": {
   "base_numbering": 1,
   "nav_menu": {},
   "number_sections": true,
   "sideBar": true,
   "skip_h1_title": false,
   "title_cell": "Table of Contents",
   "title_sidebar": "Contents",
   "toc_cell": false,
   "toc_position": {},
   "toc_section_display": true,
   "toc_window_display": false
  }
 },
 "nbformat": 4,
 "nbformat_minor": 2
}
