{
 "cells": [
  {
   "cell_type": "markdown",
   "metadata": {
    "heading_collapsed": true
   },
   "source": [
    "## 时间"
   ]
  },
  {
   "cell_type": "markdown",
   "metadata": {
    "heading_collapsed": true,
    "hidden": true
   },
   "source": [
    "### time 模块\n",
    "`time.time()`：  \n",
    "--返回自1970年1月1日0点(协调世界时间UTC)起的秒数，UNIX纪元时间戳  \n",
    "  \n",
    "`time.sleep(30)`:  \n",
    "--让程序暂停30秒，此时Ctrl+C不会中断该暂停过程  \n",
    "\n",
    "<span class=\"burk\"> `cProfile.run()`函数：更详细的剖析代码？？？？！！！</span>"
   ]
  },
  {
   "cell_type": "code",
   "execution_count": 5,
   "metadata": {
    "ExecuteTime": {
     "end_time": "2018-12-01T14:33:24.996304Z",
     "start_time": "2018-12-01T14:33:17.604732Z"
    },
    "hidden": true
   },
   "outputs": [
    {
     "name": "stdout",
     "output_type": "stream",
     "text": [
      "The result is 456569 digits long.\n",
      "Took 3.0871164798736572 seconds to calculate.\n"
     ]
    }
   ],
   "source": [
    "import time\n",
    "def calcProd():\n",
    "    product=1\n",
    "    for i in range(1,100000):\n",
    "        product=product*i\n",
    "    return(product)\n",
    "\n",
    "start=time.time()\n",
    "prod=calcProd()\n",
    "end=time.time()\n",
    "print('The result is %s digits long.'%(len(str(prod))))\n",
    "print('Took %s seconds to calculate.'%(end-start))"
   ]
  },
  {
   "cell_type": "code",
   "execution_count": 7,
   "metadata": {
    "ExecuteTime": {
     "end_time": "2018-12-01T14:39:28.782041Z",
     "start_time": "2018-12-01T14:39:22.735426Z"
    },
    "hidden": true
   },
   "outputs": [
    {
     "name": "stdout",
     "output_type": "stream",
     "text": [
      "Tick,time is 1543675162.7374213,time now is 1543675164.7499323,Tock\n",
      "Tick,time is 1543675164.7509625,time now is 1543675166.759767,Tock\n",
      "Tick,time is 1543675166.7598987,time now is 1543675168.7654552,Tock\n"
     ]
    }
   ],
   "source": [
    "for i in range(3):\n",
    "    print('Tick',end=',')\n",
    "    print('time is',time.time(),end=',')\n",
    "    time.sleep(2)\n",
    "    print('time now is',time.time(),end=',')\n",
    "    print('Tock')"
   ]
  },
  {
   "cell_type": "code",
   "execution_count": null,
   "metadata": {
    "ExecuteTime": {
     "start_time": "2018-12-02T02:55:03.399Z"
    },
    "hidden": true
   },
   "outputs": [
    {
     "name": "stdout",
     "output_type": "stream",
     "text": [
      "Press ENTER to begin.Afterwards,press ENTER to \"click\" the stopwatch.Press Ctrl-C to quit.\n",
      "\n",
      "Started.\n",
      "\n",
      "Lap #1:4.078 (4.078)\n",
      "Lap #2:8.626 (4.547)"
     ]
    }
   ],
   "source": [
    "# 运行time.time相关脚本\n",
    "%run scripts\\stopwatch.py"
   ]
  },
  {
   "cell_type": "code",
   "execution_count": null,
   "metadata": {
    "hidden": true
   },
   "outputs": [],
   "source": []
  },
  {
   "cell_type": "markdown",
   "metadata": {
    "hidden": true
   },
   "source": [
    "### datetime 模块\n",
    "\n",
    "`datetime.datetime.now()`:  \n",
    "--返回一个datetime对象，表示当前时间，包含年、月、日、时、分、秒的整数  \n",
    "   \n",
    "`datetime.datetime(2018,12,1,11,11,11)`:  \n",
    "--传入年月日时分秒的整数，创建datetime对象，有year,month,day,hour,minute,second属性   \n",
    "--datetime对象可以用比较操作符进行比较\n",
    "\n",
    "`datetime.datetime.fromtimestamp(1000000)`:  \n",
    "--将UNIX时间纪元戳转换为datetime对象  \n",
    "\n",
    "`datetime.timedelta(days=11,hours=10,minutes=9,seconds=8)`:  \n",
    "--timedelta数据类型，表示时间段；  \n",
    "--接受关键字参数weeks,days,hours,minutes,seconds, milliseconds,microseconds；  \n",
    "--没有years和months,因为可变    \n",
    "--timedelta对象总时间<span class=\"mark\">拆分成days+seconds+microseconds中</span>；total_seconds()返回秒表示的总时间\n",
    "--timedelta对象与datetime对象叠加，<span class=\"mark\">计算日期，不用考虑每月天数、闰年等影响</span>  \n",
    "--timedelta对象可以 乘 和 除 整数对象  \n",
    "\n",
    "`dt.strftime('%Y/%m/%d %H:%M:%S')`:  \n",
    "--将datetime对象dt保存为特定的字符串形式  \n",
    "`datetime.datetime.strptime('October 21, 2015', '%B %d, %Y')`:  \n",
    "--将字符串转化为datetime对象；第一个参数为字符串，第二个为格式字符串，两者必须准确匹配"
   ]
  },
  {
   "cell_type": "code",
   "execution_count": 1,
   "metadata": {
    "ExecuteTime": {
     "end_time": "2018-12-02T01:42:26.991025Z",
     "start_time": "2018-12-02T01:42:26.959751Z"
    },
    "hidden": true
   },
   "outputs": [
    {
     "data": {
      "text/plain": [
       "datetime.datetime(1973, 3, 3, 17, 46, 40)"
      ]
     },
     "execution_count": 1,
     "metadata": {},
     "output_type": "execute_result"
    }
   ],
   "source": [
    "import datetime\n",
    "datetime.datetime.fromtimestamp(100000000)"
   ]
  },
  {
   "cell_type": "code",
   "execution_count": 7,
   "metadata": {
    "ExecuteTime": {
     "end_time": "2018-12-02T01:51:01.506961Z",
     "start_time": "2018-12-02T01:51:01.491327Z"
    },
    "hidden": true
   },
   "outputs": [
    {
     "data": {
      "text/plain": [
       "(2, 36640, 209440.0)"
      ]
     },
     "execution_count": 7,
     "metadata": {},
     "output_type": "execute_result"
    }
   ],
   "source": [
    "delta=datetime.timedelta(days=2,hours=10,minutes=10,seconds=40)\n",
    "delta.days,delta.seconds,delta.total_seconds()"
   ]
  },
  {
   "cell_type": "code",
   "execution_count": 13,
   "metadata": {
    "ExecuteTime": {
     "end_time": "2018-12-02T01:55:05.379601Z",
     "start_time": "2018-12-02T01:55:05.363976Z"
    },
    "hidden": true
   },
   "outputs": [
    {
     "data": {
      "text/plain": [
       "datetime.datetime(2018, 12, 7, 6, 16, 25, 363976)"
      ]
     },
     "execution_count": 13,
     "metadata": {},
     "output_type": "execute_result"
    }
   ],
   "source": [
    "dt=datetime.datetime.now()\n",
    "dt+2*delta"
   ]
  },
  {
   "cell_type": "code",
   "execution_count": 14,
   "metadata": {
    "ExecuteTime": {
     "end_time": "2018-12-02T02:05:35.842420Z",
     "start_time": "2018-12-02T02:05:35.826772Z"
    },
    "hidden": true
   },
   "outputs": [
    {
     "data": {
      "text/plain": [
       "'2018/12/02 09:55:05'"
      ]
     },
     "execution_count": 14,
     "metadata": {},
     "output_type": "execute_result"
    }
   ],
   "source": [
    "dt.strftime('%Y/%m/%d %H:%M:%S')"
   ]
  },
  {
   "cell_type": "code",
   "execution_count": null,
   "metadata": {
    "hidden": true
   },
   "outputs": [],
   "source": []
  }
 ],
 "metadata": {
  "kernelspec": {
   "display_name": "Python 3",
   "language": "python",
   "name": "python3"
  },
  "language_info": {
   "codemirror_mode": {
    "name": "ipython",
    "version": 3
   },
   "file_extension": ".py",
   "mimetype": "text/x-python",
   "name": "python",
   "nbconvert_exporter": "python",
   "pygments_lexer": "ipython3",
   "version": "3.7.1"
  },
  "toc": {
   "base_numbering": 1,
   "nav_menu": {},
   "number_sections": true,
   "sideBar": true,
   "skip_h1_title": false,
   "title_cell": "Table of Contents",
   "title_sidebar": "Contents",
   "toc_cell": false,
   "toc_position": {},
   "toc_section_display": true,
   "toc_window_display": false
  }
 },
 "nbformat": 4,
 "nbformat_minor": 2
}
