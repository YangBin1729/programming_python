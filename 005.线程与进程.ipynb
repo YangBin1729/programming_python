{
 "cells": [
  {
   "cell_type": "markdown",
   "metadata": {
    "heading_collapsed": true
   },
   "source": [
    "## 多线程\n",
    "`threadObj=threading.Thread(target=...,args=...,kwargs=...)  \n",
    " threadObj.start()`   \n",
    " --创建单独的线程，传入参数args及关键词参数kwargs,运行target"
   ]
  },
  {
   "cell_type": "code",
   "execution_count": 1,
   "metadata": {
    "ExecuteTime": {
     "end_time": "2018-12-02T04:43:43.333710Z",
     "start_time": "2018-12-02T04:43:43.302468Z"
    },
    "hidden": true
   },
   "outputs": [
    {
     "name": "stdout",
     "output_type": "stream",
     "text": [
      "Start of program\n",
      "End of program\n",
      "Wake up!\n"
     ]
    }
   ],
   "source": [
    "import threading,time\n",
    "print('Start of program')\n",
    "\n",
    "def takeANap():\n",
    "    time.sleep(5)\n",
    "    print('Wake up!')\n",
    "\n",
    "threadObj=threading.Thread(target=takeANap)\n",
    "threadObj.start()\n",
    "\n",
    "print('End of program')"
   ]
  },
  {
   "cell_type": "markdown",
   "metadata": {
    "hidden": true
   },
   "source": [
    "- `threadObj`创建新的线程，执行`takeANap`函数，延时 5s 再`print('Wake up!')`;  \n",
    "- 主线程继续执行`print('End of program')`;所以后者反而比前者先执行"
   ]
  },
  {
   "cell_type": "code",
   "execution_count": 2,
   "metadata": {
    "hidden": true
   },
   "outputs": [
    {
     "name": "stdout",
     "output_type": "stream",
     "text": [
      "Completed\n"
     ]
    }
   ],
   "source": [
    "if threadObj.is_alive():\n",
    "    print('still running')\n",
    "else:\n",
    "    print('Completed')"
   ]
  },
  {
   "cell_type": "markdown",
   "metadata": {},
   "source": [
    "- 判断线程是否运行，此时在主线程中执行"
   ]
  },
  {
   "cell_type": "code",
   "execution_count": 3,
   "metadata": {},
   "outputs": [],
   "source": [
    "threadObj.join()"
   ]
  },
  {
   "cell_type": "markdown",
   "metadata": {},
   "source": [
    "- 请求连接(join)到线程，这样做会等待线程结束"
   ]
  },
  {
   "cell_type": "code",
   "execution_count": 9,
   "metadata": {},
   "outputs": [
    {
     "name": "stdout",
     "output_type": "stream",
     "text": [
      "T-minus 10\n",
      "T-minus 9\n",
      "T-minus 8\n",
      "T-minus 7\n",
      "T-minus 6\n",
      "T-minus 5\n",
      "T-minus 4\n",
      "T-minus 3\n",
      "T-minus 2\n",
      "T-minus 1\n"
     ]
    }
   ],
   "source": [
    "def countdown(n):\n",
    "    while n > 0:\n",
    "        print('T-minus', n)\n",
    "        n -= 1\n",
    "        time.sleep(5)\n",
    "        \n",
    "t = threading.Thread(target=countdown, args=(10,), daemon=True)\n",
    "t.start()"
   ]
  },
  {
   "cell_type": "markdown",
   "metadata": {},
   "source": [
    "- 守护线程（daemon），需长时间或不断运行的线程\n",
    "- 守护线程无法被连接，主线程结束后自动销毁"
   ]
  },
  {
   "cell_type": "code",
   "execution_count": 12,
   "metadata": {},
   "outputs": [
    {
     "name": "stdout",
     "output_type": "stream",
     "text": [
      "T-minus 10\n",
      "T-minus 6\n",
      "T-minus 5\n",
      "T-minus 4\n",
      "T-minus 3\n",
      "T-minus 2\n",
      "T-minus 1\n"
     ]
    }
   ],
   "source": [
    "class CountdownTask():\n",
    "    def __init__(self):\n",
    "        self._running = True\n",
    "    def terminate(self):\n",
    "        self._running = False\n",
    "    def run(self, n):        \n",
    "        while self._running and n > 0:\n",
    "            print('T-minus', n)\n",
    "            n -= 1\n",
    "            time.sleep(5)\n",
    "            \n",
    "c = CountdownTask()\n",
    "t = threading.Thread(target=c.run, args=(10,))            \n",
    "t.start()\n",
    "\n",
    "c.terminate()\n",
    "t.join()"
   ]
  },
  {
   "cell_type": "markdown",
   "metadata": {},
   "source": [
    "- 终止线程、给线程发信号、调整线程属性等高级操作需要自己构建"
   ]
  },
  {
   "cell_type": "code",
   "execution_count": 15,
   "metadata": {},
   "outputs": [],
   "source": [
    "class IOTask():\n",
    "    def terminate(self):\n",
    "        self._running = False\n",
    "    def run(self, sock):\n",
    "        sock.settimeout(5)\n",
    "        while self._running:\n",
    "            try:\n",
    "                data = sock.recv(8192)\n",
    "                break\n",
    "            except socket.timeout:\n",
    "                continue  \n",
    "        return"
   ]
  },
  {
   "cell_type": "markdown",
   "metadata": {},
   "source": [
    "- 线程执行阻塞性的操作如I/O，需要加上超时循环"
   ]
  },
  {
   "cell_type": "code",
   "execution_count": 19,
   "metadata": {},
   "outputs": [],
   "source": [
    "class CountdownThread(threading.Thread):\n",
    "    def __init__(self, n):\n",
    "        super().__init__()\n",
    "        self.n = 0\n",
    "    def run(self):\n",
    "        while self.n > 0:\n",
    "            print('T-minus', n)\n",
    "            self.n -= 1\n",
    "            time.sleep(5)\n",
    "c = CountdownThread(5)            \n",
    "c.run()"
   ]
  },
  {
   "cell_type": "markdown",
   "metadata": {},
   "source": [
    "- 继承Thread类，将任务封装为方法\n",
    "- 待执行的任务和threading库引入了一层依赖关系，导致任务代码**无法被重用**"
   ]
  },
  {
   "cell_type": "markdown",
   "metadata": {},
   "source": [
    "#### 线程同步问题，使用Event对象\n",
    "- 线程的核心特征是以非确定性的方式(完全由操作系统调度管理)独立执行\n",
    "- 判断线程是够已经启动，Event对象的`.set()`方法和`.wait()`方法配合使用;\n",
    "- 用于一次性的事件。因为安全的清除事件并等待再次设置的过程很难同步协调"
   ]
  },
  {
   "cell_type": "code",
   "execution_count": 21,
   "metadata": {},
   "outputs": [
    {
     "name": "stdout",
     "output_type": "stream",
     "text": [
      "Lauching Countdown\n",
      "Countdown starting\n",
      "T-minus 10countdown is running\n",
      "\n",
      "T-minus 9\n",
      "T-minus 8\n",
      "T-minus 7\n",
      "T-minus 6\n",
      "T-minus 5\n",
      "T-minus 4\n",
      "T-minus 3\n",
      "T-minus 2\n",
      "T-minus 1\n"
     ]
    }
   ],
   "source": [
    "from threading import Thread, Event\n",
    "import time \n",
    "\n",
    "start_evt = Event()\n",
    "\n",
    "def countdown(n, start_evt):\n",
    "    print('Countdown starting')\n",
    "    start_evt.set()\n",
    "    while n > 0:\n",
    "        print(\"T-minus\", n)\n",
    "        n -= 1\n",
    "        time.sleep(5)\n",
    "        \n",
    "print(\"Lauching Countdown\")\n",
    "t = Thread(target=countdown, args=(10, start_evt))\n",
    "t.start()\n",
    "\n",
    "start_evt.wait()\n",
    "print('countdown is running')"
   ]
  },
  {
   "cell_type": "markdown",
   "metadata": {},
   "source": [
    "#### 周期性重复事件，使用Condition对象"
   ]
  },
  {
   "cell_type": "code",
   "execution_count": 22,
   "metadata": {},
   "outputs": [
    {
     "name": "stdout",
     "output_type": "stream",
     "text": [
      "T-minusCounting 0\n",
      " 10\n",
      "CountingT-minus 9\n",
      " 1\n",
      "CountingT-minus 2\n",
      " 8\n",
      "CountingT-minus 7\n",
      " 3\n",
      "T-minusCounting 4\n",
      " 6\n",
      "T-minus 5\n",
      "T-minus 4\n",
      "T-minus 3\n",
      "T-minus 2\n",
      "T-minus 1\n"
     ]
    }
   ],
   "source": [
    "import threading\n",
    "import time\n",
    "\n",
    "class PeriodicTimer:\n",
    "    def __init__(self, interval):\n",
    "        self._interval = interval\n",
    "        self._flag = 0\n",
    "        self._cv = threading.Condition()\n",
    "    def start(self):        \n",
    "        t = threading.Thread(target=self.run)\n",
    "        t.daemon = True\n",
    "        t.start()\n",
    "    def run(self):        \n",
    "        while True:\n",
    "            time.sleep(self._interval)\n",
    "            with self._cv:\n",
    "                self._flag ^= 1\n",
    "                self._cv.notify_all()\n",
    "    def wait_for_tick(self):\n",
    "        with self._cv:\n",
    "            last_flag = self._flag\n",
    "            while last_flag == self._flag:\n",
    "                self._cv.wait()\n",
    "\n",
    "ptimer = PeriodicTimer(5)\n",
    "ptimer.start()\n",
    "\n",
    "def countdown(nticks):\n",
    "    while nticks > 0:\n",
    "        ptimer.wait_for_tick()\n",
    "        print(\"T-minus\", nticks)\n",
    "        nticks -= 1\n",
    "\n",
    "def countup(last):\n",
    "    n = 0\n",
    "    while n < last:\n",
    "        ptimer.wait_for_tick()\n",
    "        print('Counting', n)\n",
    "        n += 1\n",
    "        \n",
    "threading.Thread(target=countdown, args=(10,)).start()                \n",
    "threading.Thread(target=countup, args=(5,)).start()   "
   ]
  },
  {
   "cell_type": "markdown",
   "metadata": {
    "ExecuteTime": {
     "end_time": "2018-12-02T06:02:09.369945Z",
     "start_time": "2018-12-02T06:02:09.354325Z"
    },
    "heading_collapsed": true,
    "hidden": true
   },
   "source": [
    "### 小项目：多线程下载"
   ]
  },
  {
   "cell_type": "code",
   "execution_count": null,
   "metadata": {
    "ExecuteTime": {
     "end_time": "2018-12-05T06:06:34.374208Z",
     "start_time": "2018-12-05T06:06:34.249237Z"
    },
    "hidden": true,
    "scrolled": true
   },
   "outputs": [],
   "source": [
    "# %load scripts\\multidownloadXkcd.py\n",
    "#!python3\n",
    "# multidownloadXkcd.py - Download XKCD comics using multipile threads.\n",
    "\n",
    "import requests\n",
    "import os\n",
    "import bs4\n",
    "import threading\n",
    "\n",
    "\n",
    "os.makedirs('xkcd', exist_ok=True)\n",
    "\n",
    "\n",
    "def downloadXkcd(startComic, endComic):\n",
    "    for urlNumber in range(startComic, endComic):\n",
    "        print('Downloading page http://xkcd.com/%s...' % urlNumber)\n",
    "        res = requests.get('http://xkcd.com/%s...' % urlNumber)\n",
    "        res.raise_for_status()\n",
    "\n",
    "        soup = bs4.BeautifulSoup(res.text)\n",
    "        comicElem = soup.select('#comic.image')\n",
    "        if not comicElem:\n",
    "            print('Could not find comic image.')\n",
    "        else:\n",
    "            comicUrl = comicElem[0].get('src')\n",
    "            print('Downloading images %s...' % comicUrl)\n",
    "            res = requests.get(comicUrl)\n",
    "            res.raise_for_status()\n",
    "\n",
    "            imageFile = open(os.path.join('xkcd', os.path.basename(comicUrl)), 'wb')\n",
    "            for chunk in res.iter_content(10000):\n",
    "                imageFile.write(chunk)\n",
    "            imageFile.close()\n",
    "\n",
    "\n",
    "downloadThreads = []\n",
    "for i in range(1, 1400, 100):\n",
    "    downloadThread = threading.Thread(target=downloadXkcd, args=(i, i+99))\n",
    "    downloadThreads.append(downloadThread)\n",
    "    downloadThread.start()\n",
    "\n",
    "for downloadThread in downloadThreads:\n",
    "    downloadThread.join()\n",
    "\n",
    "print('Done')"
   ]
  },
  {
   "cell_type": "code",
   "execution_count": null,
   "metadata": {
    "hidden": true
   },
   "outputs": [],
   "source": []
  },
  {
   "cell_type": "markdown",
   "metadata": {
    "heading_collapsed": true
   },
   "source": [
    "## 多进程\n",
    "`concurrent.futures`模块"
   ]
  },
  {
   "cell_type": "code",
   "execution_count": null,
   "metadata": {
    "ExecuteTime": {
     "end_time": "2018-12-04T05:07:16.195364Z",
     "start_time": "2018-12-04T05:07:16.148501Z"
    },
    "hidden": true
   },
   "outputs": [],
   "source": [
    "# %load scripts\\makeThumbnail.py\n",
    "#!python3\n",
    "# makeThumbnail.py - Creates thumbnails of given images\n",
    "\n",
    "from PIL import Image\n",
    "import os\n",
    "import glob\n",
    "\n",
    "\n",
    "def make_thumbnail(filename):\n",
    "    basename, file_extension = os.path.splitext(filename)\n",
    "    thumbnail_name = f'{basename}_thumbnail{file_extension}'\n",
    "\n",
    "    image = Image.open(filename)\n",
    "    image.thumbnail((128, 128))\n",
    "    image.save(thumbnail_name, 'JPEG')\n",
    "\n",
    "    return thumbnail_name\n",
    "\n",
    "\n",
    "for im in glob.glob('*.jpg'):\n",
    "    thumbnail_file = make_thumbnail(im)\n",
    "    print(f'A thumbnail for {im} was saved as {thumbnail_file}')"
   ]
  },
  {
   "cell_type": "markdown",
   "metadata": {
    "hidden": true
   },
   "source": [
    "* 上述程序的多进程版本："
   ]
  },
  {
   "cell_type": "code",
   "execution_count": null,
   "metadata": {
    "ExecuteTime": {
     "end_time": "2018-12-04T05:08:22.578751Z",
     "start_time": "2018-12-04T05:08:22.563140Z"
    },
    "hidden": true
   },
   "outputs": [],
   "source": [
    "# %load scripts\\makeThumbnail2.py\n",
    "#!python3\n",
    "# makeThumbnial2.py - A updated version of makeThumbnail.py,using parallel computing\n",
    "\n",
    "import glob\n",
    "import concurrent.futures\n",
    "from makeThumbnail import make_thumbnail\n",
    "\n",
    "\n",
    "with concurrent.futures.ProcessPoolExecutor() as executor:\n",
    "    images = glob.glob('*.jpg')\n",
    "    for im, thumbnail_file in zip(images, executor.map(make_thumbnail, images)):\n",
    "        print((f'A thumbnail for {im} was saved as {thumbnail_file}'))\n"
   ]
  },
  {
   "cell_type": "code",
   "execution_count": null,
   "metadata": {
    "hidden": true
   },
   "outputs": [],
   "source": []
  },
  {
   "cell_type": "markdown",
   "metadata": {
    "heading_collapsed": true
   },
   "source": [
    "## 基础知识"
   ]
  },
  {
   "cell_type": "markdown",
   "metadata": {
    "ExecuteTime": {
     "end_time": "2018-12-06T14:30:30.818547Z",
     "start_time": "2018-12-06T14:30:30.787305Z"
    },
    "hidden": true
   },
   "source": [
    "* 进程(Process)：执行中的程序，拥有自己的地址空间、内存、数据栈以及其他用于跟踪执行的辅助数据。不同进程间采取进程间通信(ICP)的方式共享信息。\n",
    "* 线程(Thread)：又称轻量级进程(Lightweight Process,LWP),不同线程共享相同的上下文。"
   ]
  },
  {
   "cell_type": "markdown",
   "metadata": {
    "hidden": true
   },
   "source": [
    "- Python代码的执行是由Python虚拟机(又名解释器主循环)进行控制的，在主循环中可以运行多个线程，但在任意给定时刻只能有一个控制线程在执行。只有线程在执行I/O密集型的应用时才能更好发挥Python的并发性\n",
    "- 由全局解释器锁(GIL)来保证同时只能有一个线程在运行.其机制如下：\n",
    "    1. 设置GIL  \n",
    "    2. 切换进一个线程去执行\n",
    "    3. 执行下面操作之一：     \n",
    "        a. 指定数量的字节码指令      \n",
    "        b. 线程主动让出控制权(可以通过调用`time.sleep(0)`来完成)      \n",
    "    4. 切换出线程\n",
    "    5. 解锁GIL\n",
    "    6. 重复上述步骤\n",
    "- 计算密集型任务适合在多CPU核心上实现并行处理，python线程适合于I/O处理以及涉及阻塞操作的并发执行任务    \n",
    "    "
   ]
  },
  {
   "cell_type": "markdown",
   "metadata": {},
   "source": [
    "#### 创建子进程"
   ]
  },
  {
   "cell_type": "code",
   "execution_count": null,
   "metadata": {},
   "outputs": [],
   "source": [
    "from multiprocessing import Process\n",
    "import os\n",
    "def run_proc(name):\n",
    "    print('Run child process %s (%s)...'%(name,os.getpid()))\n",
    "\n",
    "if __name__=='__main__':\n",
    "    print('Parent process %s.'%os.getpid())\n",
    "    p=Process(target=run_proc,args=('test',))\n",
    "    print('Child process will start.')\n",
    "    p.start()\n",
    "    p.join()\n",
    "    print('child process end')"
   ]
  },
  {
   "cell_type": "markdown",
   "metadata": {},
   "source": [
    "#### 启动大量子进程"
   ]
  },
  {
   "cell_type": "code",
   "execution_count": null,
   "metadata": {},
   "outputs": [],
   "source": [
    "from multiprocessing import Pool\n",
    "import os,time,random\n",
    "\n",
    "def long_time_task(name):\n",
    "    print('Run task %s (%s)...'%(name,os.getpid)\n",
    "    start=time.time()\n",
    "    time.sleep(random.random()*3)\n",
    "    end=time.time()\n",
    "    print('Task %s run %0.2f seconds.'%(name,(end-start)))\n",
    "\n",
    "if __name__=='__main__':\n",
    "    print('Parent process %s.'%os.getpid())\n",
    "    p=Pool(4)\n",
    "    for i in range(5)\n",
    "        p.apply_async(long_time_task,args=(i,))\n",
    "    print('Waiting for all subprocess done...')\n",
    "    p.close()\n",
    "    p.join()\n",
    "    print('All subprocess done')"
   ]
  },
  {
   "cell_type": "markdown",
   "metadata": {
    "ExecuteTime": {
     "end_time": "2018-12-05T06:07:52.416008Z",
     "start_time": "2018-12-05T06:07:52.119901Z"
    },
    "hidden": true
   },
   "source": [
    "### 示例：比较多线程及多进程的运行效率\n",
    "1. 创建计时器，简单测试多线程及线程池"
   ]
  },
  {
   "cell_type": "code",
   "execution_count": 8,
   "metadata": {
    "ExecuteTime": {
     "end_time": "2018-12-05T06:44:19.833564Z",
     "start_time": "2018-12-05T06:43:46.504223Z"
    },
    "code_folding": [
     24,
     29,
     35,
     43,
     57
    ],
    "collapsed": true,
    "hidden": true
   },
   "outputs": [
    {
     "name": "stdout",
     "output_type": "stream",
     "text": [
      "I'm listening to music 0\n",
      "I'm listening to music 1\n",
      "I'm listening to music 2\n",
      "I'm listening to music 3\n",
      "I'm listening to music 4\n",
      "I'm listening to music 5\n",
      "I'm listening to music 6\n",
      "I'm listening to music 7\n",
      "I'm listening to music 8\n",
      "I'm listening to music 9\n",
      "I'm watching movie 0\n",
      "I'm watching movie 1\n",
      "[finished function:single_thread in 20.087326049804688s]\n",
      "I'm listening to music 0\n",
      "I'm listening to music 1\n",
      "I'm listening to music 2\n",
      "I'm listening to music 3\n",
      "I'm listening to music 4\n",
      "I'm listening to music 5\n",
      "I'm listening to music 6\n",
      "I'm listening to music 7\n",
      "I'm listening to music 8\n",
      "I'm listening to music 9\n",
      "I'm watching movie 0\n",
      "I'm watching movie 1\n",
      "[finished function:multi_thread in 5.125583171844482s]\n",
      "I'm listening to music 0\n",
      "I'm listening to music 1I'm listening to music 2\n",
      "I'm listening to music 3\n",
      "\n",
      "I'm listening to music 4\n",
      "I'm listening to music 5\n",
      "I'm listening to music 6I'm listening to music 7\n",
      "\n",
      "I'm listening to music 8\n",
      "I'm listening to music 9\n",
      "I'm watching movie 0I'm watching movie 1\n",
      "\n",
      "[finished function:use_pool in 8.10080075263977s]\n"
     ]
    }
   ],
   "source": [
    "# %load scripts\\simpleTimer.py\n",
    "#!python3\n",
    "# simpleTimer.py - 简单的计时器,比较多线程、线程池\n",
    "\n",
    "import time\n",
    "from functools import wraps\n",
    "import threading\n",
    "from multiprocessing.dummy import Pool\n",
    "\n",
    "\n",
    "def fn_timer(func):\n",
    "    @wraps(func)\n",
    "    def func_timer(*args, **kwargs):\n",
    "        t0 = time.time()\n",
    "        results = func(*args, **kwargs)\n",
    "        t1 = time.time()\n",
    "        print(f'[finished function:{func.__name__} in {t1-t0}s]')\n",
    "        return results\n",
    "    return func_timer\n",
    "\n",
    "\n",
    "def music(name):\n",
    "    print(f\"I'm listening to music {name}\")\n",
    "    time.sleep(1)\n",
    "\n",
    "\n",
    "def movie(name):\n",
    "    print(f\"I'm watching movie {name}\")\n",
    "    time.sleep(5)\n",
    "\n",
    "\n",
    "@fn_timer\n",
    "def single_thread():\n",
    "    for i in range(10):\n",
    "        music(i)\n",
    "    for i in range(2):\n",
    "        movie(i)\n",
    "\n",
    "\n",
    "@fn_timer\n",
    "def multi_thread():\n",
    "    threads = []\n",
    "    for i in range(10):\n",
    "        threads.append(threading.Thread(target=music, args=(i,)))\n",
    "    for i in range(2):\n",
    "        threads.append(threading.Thread(target=movie, args=(i,)))\n",
    "    for t in threads:\n",
    "        t.setDaemon(True)\n",
    "        t.start()\n",
    "    for t in threads:\n",
    "        t.join()\n",
    "\n",
    "\n",
    "@fn_timer\n",
    "def use_pool():\n",
    "    pool = Pool()\n",
    "    pool.map(music, range(10))\n",
    "    pool.map(movie, range(2))\n",
    "    pool.close()\n",
    "    pool.join()\n",
    "\n",
    "\n",
    "if __name__ == '__main__':\n",
    "    single_thread()\n",
    "    multi_thread()\n",
    "    use_pool()"
   ]
  },
  {
   "cell_type": "markdown",
   "metadata": {
    "hidden": true
   },
   "source": [
    "2. 爬虫测试对比多线程及进程池"
   ]
  },
  {
   "cell_type": "code",
   "execution_count": null,
   "metadata": {
    "ExecuteTime": {
     "end_time": "2018-12-05T06:45:57.394764Z",
     "start_time": "2018-12-05T06:45:57.379132Z"
    },
    "hidden": true
   },
   "outputs": [],
   "source": [
    "# %load scripts\\multiThreads.py\n",
    "#!python3\n",
    "# multiThreads.py - 爬虫实例比较单线程与多线程\n",
    "\n",
    "\n",
    "import threading\n",
    "import time\n",
    "from multiprocessing.dummy import Pool\n",
    "import requests\n",
    "from simpleTimer import fn_timer\n",
    "\n",
    "\n",
    "urls = ['https://baike.baidu.com/item/%E8%87%AA%E7%94%B1%E8%BD%AF%E4%BB%B6',\n",
    "        'https://baike.baidu.com/item/%E8%AE%A1%E7%AE%97%E6%9C%BA%E7%A8%8B%E5%BA%8F%E8%AE%BE%E8%AE%A1%E8%AF%AD%E8%A8%80',\n",
    "        'https://baike.baidu.com/item/%E5%9F%BA%E9%87%91%E4%BC%9A',\n",
    "        'https://baike.baidu.com/item/%E5%88%9B%E6%96%B02.0',\n",
    "        'https://baike.baidu.com/item/%E5%95%86%E4%B8%9A%E8%BD%AF%E4%BB%B6',\n",
    "        'https://baike.baidu.com/item/%E5%BC%80%E6%94%BE%E6%BA%90%E4%BB%A3%E7%A0%81',\n",
    "        'https://baike.baidu.com/item/OpenBSD',\n",
    "        'https://baike.baidu.com/item/%E8%A7%A3%E9%87%8A%E5%99%A8',\n",
    "        'https://baike.baidu.com/item/%E7%A8%8B%E5%BA%8F/71525',\n",
    "        'https://baike.baidu.com/item/%E7%BC%96%E7%A8%8B%E8%AF%AD%E8%A8%80',\n",
    "        'https://baike.baidu.com/item/C%2B%2B',\n",
    "        'https://baike.baidu.com/item/%E8%B7%A8%E5%B9%B3%E5%8F%B0',\n",
    "        'https://baike.baidu.com/item/Web/150564',\n",
    "        'https://baike.baidu.com/item/%E7%88%B1%E5%A5%BD%E8%80%85',\n",
    "        'https://baike.baidu.com/item/%E6%95%99%E5%AD%A6',\n",
    "        'https://baike.baidu.com/item/Unix%20shell',\n",
    "        'https://baike.baidu.com/item/TIOBE',\n",
    "        'https://baike.baidu.com/item/%E8%AF%BE%E7%A8%8B',\n",
    "        'https://baike.baidu.com/item/MATLAB',\n",
    "        'https://baike.baidu.com/item/Perl']\n",
    "\n",
    "\n",
    "\n",
    "@fn_timer\n",
    "def download_using_single_thread(urls):\n",
    "    resps = []\n",
    "    for url in urls:\n",
    "        resp = requests.get(url, allow_redirects=False)\n",
    "        resps.append(resp)\n",
    "    return resps\n",
    "\n",
    "\n",
    "@fn_timer\n",
    "def download_using_multithread(urls):\n",
    "    threads = []\n",
    "    for url in urls:\n",
    "        threads.append(threading.Thread(target=requests.get, args=(url,), kwargs={'allow_redirects': False}))\n",
    "    for t in threads:\n",
    "        t.setDaemon(True)\n",
    "        t.start()\n",
    "    for t in threads:\n",
    "        t.join()\n",
    "    return threads\n",
    "\n",
    "\n",
    "@fn_timer\n",
    "def download_using_pool(urls):\n",
    "    pool = Pool()\n",
    "    reps = pool.map(requests.get, urls)\n",
    "    pool.close()\n",
    "    pool.join()\n",
    "    return reps\n",
    "\n",
    "\n",
    "def main():\n",
    "    download_using_single_thread(urls)\n",
    "    download_using_multithread(urls)\n",
    "\n",
    "\n",
    "\n",
    "if __name__ == '__main__':\n",
    "    main()"
   ]
  },
  {
   "cell_type": "markdown",
   "metadata": {
    "hidden": true
   },
   "source": [
    "3. 比较多进程及进程池"
   ]
  },
  {
   "cell_type": "code",
   "execution_count": null,
   "metadata": {
    "ExecuteTime": {
     "end_time": "2018-12-05T06:46:46.377000Z",
     "start_time": "2018-12-05T06:46:46.361352Z"
    },
    "hidden": true
   },
   "outputs": [],
   "source": [
    "# %load scripts\\multiProcesses.py\n",
    "#!python3\n",
    "# multiProcesses.py - 多进程及进程池的使用\n",
    "\n",
    "import os\n",
    "import time\n",
    "import random\n",
    "from multiprocessing import Process, Pool, Queue\n",
    "from simpleTimer import fn_timer\n",
    "\n",
    "\n",
    "@fn_timer\n",
    "def do_sample_task(name):\n",
    "    print(f'Run child process {os.getpid()},task name is {name}')\n",
    "    time.sleep(1.2)\n",
    "    return(name)\n",
    "\n",
    "\n",
    "@fn_timer\n",
    "def test_simple_multi_process():\n",
    "    p1 = Process(target=do_sample_task, args=('task1',))\n",
    "    p2 = Process(target=do_sample_task, args=('task2',))\n",
    "    print('Process will start')\n",
    "    p1.start()\n",
    "    p2.start()\n",
    "    p1.join()\n",
    "    p2.join()\n",
    "    print('Process end')\n",
    "\n",
    "\n",
    "@fn_timer\n",
    "def test_process_pool():\n",
    "    pool = Pool()\n",
    "    results = []\n",
    "    task_name = []\n",
    "    for i in range(7):\n",
    "        task_name.append(f'task{i}')\n",
    "    results = pool.map_async(do_sample_task, task_name)\n",
    "    print('Many Process will start...')\n",
    "    pool.close()\n",
    "    pool.join()\n",
    "    print(f'All processes end,results is:{results.get()}')\n",
    "\n",
    "\n",
    "def main():\n",
    "    test_simple_multi_process()\n",
    "    print('\\n\\n\\n')\n",
    "    test_process_pool()\n",
    "\n",
    "if __name__ == '__main__':\n",
    "    main()"
   ]
  },
  {
   "cell_type": "markdown",
   "metadata": {
    "ExecuteTime": {
     "end_time": "2018-12-05T06:47:18.564472Z",
     "start_time": "2018-12-05T06:47:18.533228Z"
    },
    "hidden": true
   },
   "source": [
    "4. 进程间通信"
   ]
  },
  {
   "cell_type": "code",
   "execution_count": null,
   "metadata": {
    "ExecuteTime": {
     "end_time": "2018-12-05T06:58:14.665010Z",
     "start_time": "2018-12-05T06:58:14.633976Z"
    },
    "hidden": true
   },
   "outputs": [],
   "source": [
    "# %load scripts\\processCommunication.py\n",
    "#!python3\n",
    "# processCommunication.py - 测试进程间的通信\n",
    "\n",
    "import os\n",
    "import time\n",
    "import random\n",
    "from multiprocessing import Pool, Process, Queue\n",
    "from simpleTimer import fn_timer\n",
    "\n",
    "\n",
    "def write(q):\n",
    "    for value in ['A','B','C']:\n",
    "        print(f'Put value:{value} to queue')\n",
    "        q.put(value)\n",
    "        time.sleep(random.random())\n",
    "\n",
    "\n",
    "def read(q):\n",
    "    while True:\n",
    "        value = q.get(True)\n",
    "        print(f'Get value:{value} from queue')\n",
    "\n",
    "\n",
    "def test_communication():\n",
    "    q = Queue()\n",
    "    pw = Process(target=write, args=(q,))\n",
    "    pr = Process(target=read, args=(q,))\n",
    "    pw.start()\n",
    "    pr.start()\n",
    "    pw.join()\n",
    "    pr.terminate()\n",
    "\n",
    "\n",
    "def main():\n",
    "    test_communication()\n",
    "\n",
    "if __name__ == '__main__':\n",
    "    main()"
   ]
  },
  {
   "cell_type": "markdown",
   "metadata": {
    "hidden": true
   },
   "source": [
    "5. 协程的用法"
   ]
  },
  {
   "cell_type": "markdown",
   "metadata": {
    "ExecuteTime": {
     "end_time": "2018-12-06T14:50:59.400116Z",
     "start_time": "2018-12-06T14:50:59.377948Z"
    },
    "hidden": true
   },
   "source": [
    "### 示例"
   ]
  },
  {
   "cell_type": "markdown",
   "metadata": {
    "ExecuteTime": {
     "end_time": "2018-12-06T14:59:55.575878Z",
     "start_time": "2018-12-06T14:59:55.560267Z"
    },
    "hidden": true
   },
   "source": [
    "1. 简单的单线程执行循环"
   ]
  },
  {
   "cell_type": "code",
   "execution_count": null,
   "metadata": {
    "ExecuteTime": {
     "end_time": "2018-12-06T15:23:19.298152Z",
     "start_time": "2018-12-06T15:23:19.267106Z"
    },
    "hidden": true
   },
   "outputs": [],
   "source": [
    "# %load scripts\\onethr.py\n",
    "#!python3\n",
    "# onethr.py - 不利用多线程的示例\n",
    "\n",
    "from time import sleep, ctime\n",
    "\n",
    "\n",
    "def loop0():\n",
    "    print(f'start loop 0 at:{ctime()}')\n",
    "    sleep(4)\n",
    "    print(f'loop 0 done at:{ctime()}')\n",
    "\n",
    "\n",
    "def loop1():\n",
    "    print(f'start loop 1 at:{ctime()}')\n",
    "    sleep(2)\n",
    "    print(f'loop 1 done at:{ctime()}')\n",
    "\n",
    "\n",
    "def main():\n",
    "    print(f'starting at:{ctime()}')\n",
    "    loop0()\n",
    "    loop1()\n",
    "    print(f'all done at:{ctime()}')\n",
    "\n",
    "\n",
    "if __name__ == '__main__':\n",
    "    main()"
   ]
  },
  {
   "cell_type": "markdown",
   "metadata": {
    "hidden": true
   },
   "source": [
    "2. 创建Thread实例，传给它一个函数"
   ]
  },
  {
   "cell_type": "code",
   "execution_count": null,
   "metadata": {
    "ExecuteTime": {
     "end_time": "2018-12-06T15:25:17.813914Z",
     "start_time": "2018-12-06T15:25:17.798263Z"
    },
    "hidden": true
   },
   "outputs": [],
   "source": [
    "# %load scripts\\mtsleepC.py\n",
    "#!python3\n",
    "# mtsleepC.py - 多线程循环,传给Thread实例一个函数\n",
    "\n",
    "import threading\n",
    "from time import sleep, ctime\n",
    "\n",
    "loops = [4, 2]\n",
    "\n",
    "\n",
    "def loop(nloop, nsec):\n",
    "    print(f'start loop {nloop} at:{ctime()}')\n",
    "    sleep(nsec)\n",
    "    print(f'loop {nloop} done at:{ctime()}')\n",
    "\n",
    "\n",
    "def main():\n",
    "    print(f'starting at:{ctime()}')\n",
    "    threads = []\n",
    "    nloops = range(len(loops))\n",
    "    for i in nloops:\n",
    "        t = threading.Thread(target=loop, args=(i, loops[i]))\n",
    "        threads.append(t)\n",
    "    for i in nloops:\n",
    "        threads[i].start()\n",
    "    for i in nloops:\n",
    "        threads[i].join()\n",
    "    print(f'all done at:{ctime()}')\n",
    "\n",
    "\n",
    "if __name__ == '__main__':\n",
    "    main()"
   ]
  },
  {
   "cell_type": "markdown",
   "metadata": {
    "ExecuteTime": {
     "end_time": "2018-12-06T15:25:45.038181Z",
     "start_time": "2018-12-06T15:25:45.022563Z"
    },
    "hidden": true
   },
   "source": [
    "3. 创建Thread实例，传给它一个类实例，更通用"
   ]
  },
  {
   "cell_type": "code",
   "execution_count": null,
   "metadata": {
    "ExecuteTime": {
     "end_time": "2018-12-06T15:43:29.267301Z",
     "start_time": "2018-12-06T15:43:29.251706Z"
    },
    "hidden": true
   },
   "outputs": [],
   "source": [
    "# %load scripts\\mtsleepD.py\n",
    "#!python3\n",
    "# mtsleepD.py - 创建Thread实例，传给它一个可调用的类实例\n",
    "\n",
    "import threading\n",
    "from time import sleep, ctime\n",
    "\n",
    "loops = [4, 2]\n",
    "\n",
    "\n",
    "class ThreadFunc(object):\n",
    "    def __init__(self, func, args, name=''):\n",
    "        self.name = name\n",
    "        self.func = func\n",
    "        self.args = args\n",
    "\n",
    "    def __call__(self):\n",
    "        self.func(*self.args)\n",
    "\n",
    "\n",
    "def loop(nloop, nsec):\n",
    "    print(f'start loop {nloop} at:{ctime()}')\n",
    "    sleep(nsec)\n",
    "    print(f'loop {nloop} done at:{ctime()}')\n",
    "\n",
    "\n",
    "def main():\n",
    "    print(f'starting at:{ctime()}')\n",
    "    threads = []\n",
    "    nloops = range(len(loops))\n",
    "    for i in nloops:\n",
    "        t = threading.Thread(target=ThreadFunc(loop, (i, loops[i]), loop.__name__))\n",
    "        threads.append(t)\n",
    "    for i in nloops:\n",
    "        threads[i].start()\n",
    "    for i in nloops:\n",
    "        threads[i].join()\n",
    "    print(f'all done at:{ctime()}')\n",
    "\n",
    "if __name__ == '__main__':\n",
    "    main()\n",
    "\n"
   ]
  },
  {
   "cell_type": "markdown",
   "metadata": {
    "hidden": true
   },
   "source": [
    "4. Thread子类化，而不是直接对其实例化，定制线程对象"
   ]
  },
  {
   "cell_type": "code",
   "execution_count": null,
   "metadata": {
    "ExecuteTime": {
     "end_time": "2018-12-06T15:50:32.327099Z",
     "start_time": "2018-12-06T15:50:32.304963Z"
    },
    "hidden": true
   },
   "outputs": [],
   "source": [
    "# %load scripts\\mtsleepE.py\n",
    "#!python3\n",
    "# mtsleepE.py - Thread子类化，而不是直接对其实例化，定制线程对象\n",
    "\n",
    "import threading\n",
    "from time import sleep, ctime\n",
    "\n",
    "loops = (4,2)\n",
    "\n",
    "\n",
    "class MyThread(threading.Thread):\n",
    "    def __init__(self, func, args, name=''):\n",
    "        threading.Thread.__init__(self)\n",
    "        self.func = func\n",
    "        self.name = name\n",
    "        self.args = args\n",
    "\n",
    "    def run(self):\n",
    "        self.func(*args)\n",
    "\n",
    "\n",
    "def loop(nloop, nsec):\n",
    "    print(f'start loop {nloop} at:{ctime()}')\n",
    "    sleep(nsec)\n",
    "    print(f'loop {nloop} done at:{ctime()}')\n",
    "\n",
    "\n",
    "def main():\n",
    "    print(f'starting at:{ctime()}')\n",
    "    threads = []\n",
    "    nloops = range(len(loops))\n",
    "    for i in nloops:\n",
    "        t = MyThread(loop, (i, loops[i]), loop.__name__)\n",
    "        threads.append(t)\n",
    "    for i in nloops:\n",
    "        threads[i].start()\n",
    "    for i in nloops:\n",
    "        threads[i].join()\n",
    "    print(f'all done at:{ctime()}')\n",
    "\n",
    "\n",
    "if __name__ == '__main__':\n",
    "    main()\n"
   ]
  },
  {
   "cell_type": "markdown",
   "metadata": {
    "hidden": true
   },
   "source": [
    "5. MyThread作为专门的模块，并添加功能，使其更通用"
   ]
  },
  {
   "cell_type": "code",
   "execution_count": null,
   "metadata": {
    "ExecuteTime": {
     "end_time": "2018-12-06T15:59:43.559053Z",
     "start_time": "2018-12-06T15:59:43.543423Z"
    },
    "hidden": true
   },
   "outputs": [],
   "source": [
    "# %load scripts\\MyThread.py\n",
    "#!python3\n",
    "# MyThread.py - MyThread作为专门的模块，并添加功能，使其更通用\n",
    "\n",
    "import threading\n",
    "from time import ctime\n",
    "\n",
    "\n",
    "class MyThread(threading.Thread):\n",
    "    def __init__(self, func, args, name=''):\n",
    "        threading.Thread.__init__(self)\n",
    "        self.name = name\n",
    "        self.func = func\n",
    "        self.args = args\n",
    "\n",
    "    def getResult(self):\n",
    "        return self.res\n",
    "\n",
    "    def run(self):\n",
    "        print('starting ', self.name, 'at:', ctime())\n",
    "        self.res = self.func(*self.args)\n",
    "        print(self.name, ' finished at:', ctime())"
   ]
  },
  {
   "cell_type": "markdown",
   "metadata": {
    "hidden": true
   },
   "source": [
    "### 单线程与多线程比较"
   ]
  },
  {
   "cell_type": "code",
   "execution_count": null,
   "metadata": {
    "ExecuteTime": {
     "end_time": "2018-12-06T16:20:14.482556Z",
     "start_time": "2018-12-06T16:20:14.466928Z"
    },
    "hidden": true
   },
   "outputs": [],
   "source": [
    "# %load scripts\\mtfacfib.py\n",
    "#!python3\n",
    "# mtfacfib.py - 单线程与多线程分别执行斐波那契、阶乘与累加\n",
    "\n",
    "from MyThread import MyThread\n",
    "from time import ctime, sleep\n",
    "\n",
    "\n",
    "def fib(x):\n",
    "    sleep(0.05)\n",
    "    if x < 2:\n",
    "        return 1\n",
    "    return fib(x-2)+fib(x-1)\n",
    "\n",
    "\n",
    "def fac(x):\n",
    "    sleep(0.1)\n",
    "    if x < 2:\n",
    "        return 1\n",
    "    return x*fac(x-1)\n",
    "\n",
    "\n",
    "def my_sum(x):\n",
    "    sleep(0.1)\n",
    "    if x < 2:\n",
    "        return 1\n",
    "    return x+my_sum(x-1)\n",
    "\n",
    "\n",
    "func = [fib, fac, my_sum]\n",
    "n = 120\n",
    "\n",
    "def main():\n",
    "    nfuncs = range(len(func))\n",
    "    print('*** SINGLE THREAD')\n",
    "    for i in nfuncs:\n",
    "        print('Starting ', func[i].__name__, 'at:', ctime())\n",
    "        print(func[i](n))\n",
    "        print(func[i].__name__, 'finished at:', ctime())\n",
    "\n",
    "    print('\\n***MULTIPILE THREADs')\n",
    "    threads = []\n",
    "    for i in nfuncs:\n",
    "        t = MyThread(func[i], (n,), func[i].__name__)\n",
    "        threads.append(t)\n",
    "    for i in nfuncs:\n",
    "        threads[i].start()\n",
    "    for i in nfuncs:\n",
    "        threads[i].join()\n",
    "        print(threads[i].getResult())\n",
    "    print('ALL DONE')\n",
    "\n",
    "\n",
    "if __name__ == '__main__':\n",
    "    main()"
   ]
  },
  {
   "cell_type": "markdown",
   "metadata": {
    "heading_collapsed": true
   },
   "source": [
    "## 多线程实践"
   ]
  },
  {
   "cell_type": "markdown",
   "metadata": {
    "hidden": true
   },
   "source": [
    "### 图书排名查询"
   ]
  },
  {
   "cell_type": "code",
   "execution_count": null,
   "metadata": {
    "ExecuteTime": {
     "end_time": "2018-12-07T02:51:48.511782Z",
     "start_time": "2018-12-07T02:51:48.480572Z"
    },
    "hidden": true
   },
   "outputs": [],
   "source": [
    "# %load scripts\\bookrank.py\n",
    "#!python3\n",
    "# bookrank.py - 多线程下载图书排名信息调用\n",
    "\n",
    "from atexit import register\n",
    "from re import compile\n",
    "from threading import Thread\n",
    "from time import ctime\n",
    "from urllib.request import urlopen\n",
    "\n",
    "regex = compile('#([\\d,]+) in Books')\n",
    "amzn = 'http://amazon.com/dp/'\n",
    "isbns = {'0132269937': 'Core Python Programming',\n",
    "         '0132356139': 'Python Web Development with Django',\n",
    "         '0137143419': 'Python Fundamentals'}\n",
    "\n",
    "\n",
    "def get_ranking(isbn):\n",
    "    page = urlopen('%s%s'%(amzn, isbn))\n",
    "    data = page.read()\n",
    "    page.close()\n",
    "    return regex.findall(data)[0]\n",
    "\n",
    "\n",
    "def _show_ranking(isbn):\n",
    "    print('- %r ranked %s'%(isbns[isbn], get_ranking(isbn)))\n",
    "\n",
    "\n",
    "def _main():\n",
    "    print('At ', ctime(), ' on Amazon...')\n",
    "    for isbn in isbns:\n",
    "        Thread(target=_show_ranking, args=(isbn,)).start()\n",
    "        \n",
    "\n",
    "@register()\n",
    "def _atexit():\n",
    "    print('all Done at:', ctime())\n",
    "\n",
    "\n",
    "if __name__ == '__main__':\n",
    "    _main()\n"
   ]
  },
  {
   "cell_type": "code",
   "execution_count": null,
   "metadata": {
    "hidden": true
   },
   "outputs": [],
   "source": []
  },
  {
   "cell_type": "markdown",
   "metadata": {
    "hidden": true
   },
   "source": [
    "- **同步**：  \n",
    "    1. 多线程代码中，通常有特定代码块或函数不应该被多个线程同时执行，包括修改数据库、更新文件或其它会产生竞态条件`(race condition)`的类似情况\n",
    "    2. 当任意数量的线程可以访问临界区`(critical section)`的代码时，但在给定时刻只有一个线程可以通过，使用同步操作   \n",
    "- 同步原语：\n",
    "    1. 锁：`Lock().acquire(); Lock().release()`\n",
    "    2. 信号量："
   ]
  },
  {
   "cell_type": "markdown",
   "metadata": {
    "hidden": true
   },
   "source": [
    "1. 产生竞态条件(race condition)的情况"
   ]
  },
  {
   "cell_type": "code",
   "execution_count": null,
   "metadata": {
    "ExecuteTime": {
     "end_time": "2018-12-07T05:34:03.206199Z",
     "start_time": "2018-12-07T05:34:03.174956Z"
    },
    "hidden": true
   },
   "outputs": [],
   "source": [
    "# %load scripts\\mtsleepF.py\n",
    "#!python3\n",
    "# mtsleepF.py - 产生竞态条件(race condition)的情况\n",
    "\n",
    "\n",
    "from atexit import register\n",
    "from threading import Thread, current_thread\n",
    "from time import ctime, sleep\n",
    "from random import randrange\n",
    "\n",
    "\n",
    "class CleanOutSet(set):\n",
    "    def __str__(self):\n",
    "        return ','.join(x for x in self)\n",
    "\n",
    "\n",
    "loops = (randrange(2, 5) for x in range(randrange(3, 7)))\n",
    "remaining = CleanOutSet()\n",
    "\n",
    "\n",
    "def loop(nsec):\n",
    "    myname = current_thread().name\n",
    "    remaining.add(myname)\n",
    "    print(f'{ctime()} started {myname}')\n",
    "    sleep(nsec)\n",
    "    remaining.remove(myname)\n",
    "    print(f'{ctime()} completed {myname} at {nsec}s')\n",
    "    print('remaining:%s'%(remaining or 'None'))\n",
    "\n",
    "\n",
    "def _main():\n",
    "    for pause in loops:\n",
    "        Thread(target=loop, args=(pause,)).start()\n",
    "\n",
    "\n",
    "@register\n",
    "def _atexit():\n",
    "    print('All done at:', ctime())\n",
    "\n",
    "if __name__ == '__main__':\n",
    "    _main()"
   ]
  },
  {
   "cell_type": "markdown",
   "metadata": {
    "hidden": true
   },
   "source": [
    "> `remaining`参数为可变参数，多个线程同时对其进行操作，最终`print`输出结果不规则"
   ]
  },
  {
   "cell_type": "markdown",
   "metadata": {
    "hidden": true
   },
   "source": [
    "2. 使用锁避免输出混乱，获得锁才能进行相应操作"
   ]
  },
  {
   "cell_type": "code",
   "execution_count": null,
   "metadata": {
    "ExecuteTime": {
     "end_time": "2018-12-07T05:44:11.995562Z",
     "start_time": "2018-12-07T05:44:11.979975Z"
    },
    "hidden": true
   },
   "outputs": [],
   "source": [
    "lock = Lock()\n",
    "\n",
    "def loop(nsec):\n",
    "    myname = current_thread().name\n",
    "\n",
    "    lock.acquire()\n",
    "    remaining.add(myname)\n",
    "    print(f'{ctime()} started {myname}')\n",
    "    lock.release()\n",
    "\n",
    "    sleep(nsec)\n",
    "\n",
    "    lock.acquire()\n",
    "    remaining.remove(myname)\n",
    "    print(f'{ctime()} completed {myname} at {nsec}s')\n",
    "    print('remaining:%s'%(remaining or 'None'))\n",
    "    lock.release()"
   ]
  },
  {
   "cell_type": "markdown",
   "metadata": {
    "hidden": true
   },
   "source": [
    "3. 使用上下文管理器"
   ]
  },
  {
   "cell_type": "code",
   "execution_count": 8,
   "metadata": {
    "ExecuteTime": {
     "end_time": "2018-12-07T05:46:51.146521Z",
     "start_time": "2018-12-07T05:46:51.115238Z"
    },
    "hidden": true
   },
   "outputs": [],
   "source": [
    "def loop(nsec):\n",
    "    myname = current_thread().name\n",
    "    with lock:\n",
    "        remaining.add(myname)\n",
    "        print(f'{ctime()} started {myname}')\n",
    "    sleep(nsec)\n",
    "    with lock:\n",
    "        remaining.remove(myname)\n",
    "        print(f'{ctime()} completed {myname} at {nsec}s')\n",
    "        print('remaining:%s'%(remaining or 'None'))"
   ]
  },
  {
   "cell_type": "markdown",
   "metadata": {
    "ExecuteTime": {
     "end_time": "2018-12-07T05:53:52.543258Z",
     "start_time": "2018-12-07T05:53:52.512015Z"
    },
    "hidden": true
   },
   "source": [
    "4. 使用信号量  \n",
    "信号量为一个计时器，资源消耗时递减，资源释放时递增"
   ]
  },
  {
   "cell_type": "code",
   "execution_count": null,
   "metadata": {
    "ExecuteTime": {
     "end_time": "2018-12-07T06:20:28.653495Z",
     "start_time": "2018-12-07T06:20:28.622248Z"
    },
    "hidden": true
   },
   "outputs": [],
   "source": [
    "# %load scripts\\candy.py\n",
    "#!python3\n",
    "# candy.py - 利用锁和信号量来模拟糖果机。该糖果机有5个可用的卡槽保存糖果，所有的槽满了，就不能添加糖果；都空了，就不能买到糖果\n",
    "\n",
    "from atexit import register\n",
    "from random import randrange\n",
    "from threading import BoundedSemaphore, Lock, Thread\n",
    "from time import sleep, ctime\n",
    "\n",
    "lock = Lock()\n",
    "max = 5\n",
    "candytray = BoundedSemaphore(max)\n",
    "\n",
    "\n",
    "def refill():\n",
    "    lock.acquire()\n",
    "    print('Refilling candy...')\n",
    "    try:\n",
    "        candytray.release()\n",
    "    except ValueError:\n",
    "        print('full,skipping')\n",
    "    else:\n",
    "        print('OK')\n",
    "    lock.release()\n",
    "\n",
    "\n",
    "def buy():\n",
    "    lock.acquire()\n",
    "    print('Buying candy...')\n",
    "    if candytray.acquire(False):\n",
    "        print('OK')\n",
    "    else:\n",
    "        print('empty,skipping')\n",
    "    lock.release()\n",
    "\n",
    "def producer(loops):\n",
    "    for i in range(loops):\n",
    "        refill()\n",
    "        sleep(randrange(3))\n",
    "\n",
    "\n",
    "def consumer(loops):\n",
    "    for i in range(loops):\n",
    "        buy()\n",
    "        sleep(randrange(3))\n",
    "\n",
    "\n",
    "def _main():\n",
    "    print('starting at:', ctime())\n",
    "    nloops = randrange(2, 6)\n",
    "    print('THE Candy Machine (full with %d bars!)' % max)\n",
    "    Thread(target=consumer, args=(randrange(nloops, nloops+max+2),)).start()\n",
    "    Thread(target=producer, args=(nloops,)).start()\n",
    "\n",
    "\n",
    "@register\n",
    "def _atexit():\n",
    "    print('All done at:', ctime())\n",
    "\n",
    "\n",
    "if __name__ == '__main__':\n",
    "    _main()\n",
    "\n"
   ]
  },
  {
   "cell_type": "markdown",
   "metadata": {
    "hidden": true
   },
   "source": [
    "5. 利用queue模块提供线程间通信机制，相互间发现数据"
   ]
  },
  {
   "cell_type": "code",
   "execution_count": null,
   "metadata": {
    "ExecuteTime": {
     "end_time": "2018-12-07T06:43:19.893399Z",
     "start_time": "2018-12-07T06:43:19.877769Z"
    },
    "hidden": true
   },
   "outputs": [],
   "source": [
    "# %load scripts\\prodcons.py\n",
    "#!python3\n",
    "# prodcons.py - 使用queue对象，以及随机生产和消费对的商品的数量。生产者和消费者独立并且并发的执行线程\n",
    "\n",
    "from random import randint\n",
    "from time import sleep\n",
    "from queue import Queue\n",
    "from MyThread import MyThread\n",
    "\n",
    "\n",
    "def writeQ(queue):\n",
    "    print('producing object for Q...')\n",
    "    queue.put('xxx',1)\n",
    "    print('size now ', queue.qsize())\n",
    "\n",
    "\n",
    "def readQ(queue):\n",
    "    val = queue.get(1)\n",
    "    print('consumed object from Q... size now ', queue.qsize())\n",
    "\n",
    "\n",
    "def writer(queue, loops):\n",
    "    for i in range(loops):\n",
    "        writeQ(queue)\n",
    "        sleep(randint(1, 3))\n",
    "\n",
    "\n",
    "def reader(queue, loops):\n",
    "    for i in range(loops):\n",
    "        readQ(queue)\n",
    "        sleep(randint(2, 5))\n",
    "\n",
    "funcs = [writer, reader]\n",
    "nfuncs = range(len(funcs))\n",
    "\n",
    "\n",
    "def main():\n",
    "    nloops = randint(2, 5)\n",
    "    q = Queue(32)\n",
    "    threads = []\n",
    "    for i in nfuncs:\n",
    "        t = MyThread(funcs[i], (q, nloops), funcs[i].__name__)\n",
    "        threads.append(t)\n",
    "    for i in nfuncs:\n",
    "        threads[i].start()\n",
    "    for i in nfuncs:\n",
    "        threads[i].join()\n",
    "    print('all Done')\n",
    "\n",
    "\n",
    "if __name__ == '__main__':\n",
    "    main()"
   ]
  },
  {
   "cell_type": "markdown",
   "metadata": {
    "hidden": true
   },
   "source": [
    "6. 线程的替代方案   \n",
    "    - `subprocess`模块：派生进程的主要替代方案，可以单纯的执行任务，或通过了标准文件(stdin,stdout,stderr)进行进程间通信\n",
    "    - `multiprocessing`模块：允许为多核或多CPU派生进程 \n",
    "    - `concurrent.futures`模块：在‘任务’级别进行操作，无需过分关注同步及进程\\线程的管理了"
   ]
  },
  {
   "cell_type": "code",
   "execution_count": null,
   "metadata": {
    "ExecuteTime": {
     "end_time": "2018-12-07T06:59:50.088141Z",
     "start_time": "2018-12-07T06:59:50.072510Z"
    },
    "hidden": true
   },
   "outputs": [],
   "source": [
    "# %load scripts\\bookrank3CF.py\n",
    "#!python3\n",
    "# bookrank3CF.py - 利用 concurrent.futures模块的图书排名\n",
    "\n",
    "\n",
    "from concurrent.futures import ThreadPoolExecutor\n",
    "from re import compile\n",
    "from time import ctime\n",
    "from urllib.request import urlopen\n",
    "\n",
    "regex = compile('#([\\d,]+) in Books')\n",
    "amzn = 'http://amazon.com/dp/'\n",
    "isbns = {'0132269937': 'Core Python Programming',\n",
    "         '0132356139': 'Python Web Development with Django',\n",
    "         '0137143419': 'Python Fundamentals'}\n",
    "\n",
    "\n",
    "def get_ranking(isbn):\n",
    "    with urlopen('%s%s' % (amzn, isbn)) as page:\n",
    "        return str(regex.findall(page)[0], 'utf-8')\n",
    "\n",
    "\n",
    "def _main():\n",
    "    print('At ', ctime(), ' on Amazon...')\n",
    "    with ThreadPoolExecutor(3) as excutor:\n",
    "        for isbn, ranking in zip(isbns, excutor.map(get_ranking, isbns)):\n",
    "            print('- %r ranked %s' % (isbns[isbn], ranking))\n",
    "    print('all Done at:', ctime())\n",
    "\n",
    "\n",
    "if __name__ == '__main__':\n",
    "    _main()\n"
   ]
  },
  {
   "cell_type": "code",
   "execution_count": null,
   "metadata": {
    "hidden": true
   },
   "outputs": [],
   "source": []
  },
  {
   "cell_type": "code",
   "execution_count": null,
   "metadata": {
    "hidden": true
   },
   "outputs": [],
   "source": []
  },
  {
   "cell_type": "markdown",
   "metadata": {},
   "source": [
    "## threading 模块"
   ]
  },
  {
   "cell_type": "code",
   "execution_count": 16,
   "metadata": {
    "ExecuteTime": {
     "end_time": "2018-12-07T07:44:29.566511Z",
     "start_time": "2018-12-07T07:44:29.550890Z"
    }
   },
   "outputs": [
    {
     "name": "stdout",
     "output_type": "stream",
     "text": [
      "['Barrier', 'BoundedSemaphore', 'BrokenBarrierError', 'Condition', 'Event', 'Lock', 'RLock', 'Semaphore', 'TIMEOUT_MAX', 'Thread', 'ThreadError', 'Timer', 'WeakSet', 'activeCount', 'active_count', 'currentThread', 'current_thread', 'enumerate', 'get_ident', 'local', 'main_thread', 'setprofile', 'settrace', 'stack_size']\n"
     ]
    }
   ],
   "source": [
    "import threading\n",
    "print([method for method in dir(threading) if not method.startswith('_')])"
   ]
  },
  {
   "cell_type": "markdown",
   "metadata": {},
   "source": [
    "**threading 模块函数**\n",
    "- `threading.active_count()`：返回当前活动的 Thread 对象的个数，等价于 enumerate()方法返回的列表的长度   <p> \n",
    "- `threading.current_thread()` ：返回当前的 Thread 对象  <p> \n",
    "   \n",
    "- ` threading.get_ident()`：返回当前线程的标识符。非零整数，无直接含义。可作为`magic cookie`,例如，用来索引一个线程数据词典    <p> \n",
    "  \n",
    "- `thereading.enumerate()`：返回当前活动的 Thread 对象列表  <p> \n",
    "  \n",
    "- `threading.main_thread()`：返回主进程对象    <p> \n",
    "  \n",
    "- `threading.settrace(func)`：为所有线程设置一个 trace 函数   <p> \n",
    "  \n",
    "- `threading.setprofile(func)`：为所有线程设置一个 profile 函数  <p>   \n",
    "   \n",
    "- `threading.stack_size([size])`：返回新创造线程时所使用的stack size<p> "
   ]
  },
  {
   "cell_type": "markdown",
   "metadata": {},
   "source": [
    "**threading 模块对象**：\n",
    "- `class threading.local`：表示线程特有数据     \n",
    ">    `mydata=threading.local()`    \n",
    "    `mydata.x=1`\n",
    "    \n",
    "- `class threading.Thread(group=None,target=None,name=None,args=(),kwargs={},*,daemeon=None)`：表示在独立的线程中运行的任务"
   ]
  },
  {
   "cell_type": "markdown",
   "metadata": {},
   "source": [
    "- `class threading.Lock()`\n",
    "- `class threading.RLock()`\n",
    "- `class threading.Semaphore()`"
   ]
  },
  {
   "cell_type": "code",
   "execution_count": null,
   "metadata": {},
   "outputs": [],
   "source": []
  },
  {
   "cell_type": "code",
   "execution_count": null,
   "metadata": {},
   "outputs": [],
   "source": []
  }
 ],
 "metadata": {
  "kernelspec": {
   "display_name": "Python 3",
   "language": "python",
   "name": "python3"
  },
  "language_info": {
   "codemirror_mode": {
    "name": "ipython",
    "version": 3
   },
   "file_extension": ".py",
   "mimetype": "text/x-python",
   "name": "python",
   "nbconvert_exporter": "python",
   "pygments_lexer": "ipython3",
   "version": "3.7.1"
  },
  "toc": {
   "base_numbering": 1,
   "nav_menu": {},
   "number_sections": true,
   "sideBar": true,
   "skip_h1_title": false,
   "title_cell": "Table of Contents",
   "title_sidebar": "Contents",
   "toc_cell": false,
   "toc_position": {},
   "toc_section_display": true,
   "toc_window_display": false
  }
 },
 "nbformat": 4,
 "nbformat_minor": 2
}
