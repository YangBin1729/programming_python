{
 "cells": [
  {
   "cell_type": "markdown",
   "metadata": {},
   "source": [
    "#### 实现序列协议,可迭代但不是迭代器"
   ]
  },
  {
   "cell_type": "code",
   "execution_count": 1,
   "metadata": {},
   "outputs": [],
   "source": [
    "import re\n",
    "import reprlib\n",
    "RE_WORD=re.compile('\\w+')\n",
    "class Sentence():\n",
    "    def __init__(self,text):\n",
    "        self.text=text\n",
    "        self.words=RE_WORD.findall(text)\n",
    "    def __getitem__(self,index):\n",
    "        return(self.words[index])\n",
    "    def __len__(self):\n",
    "        return(len(self.words))\n",
    "    def __repr__(self):\n",
    "        return('Sentence(%s)'%reprlib.repr(self.text))"
   ]
  },
  {
   "cell_type": "markdown",
   "metadata": {},
   "source": [
    "#### 使用迭代器模式"
   ]
  },
  {
   "cell_type": "code",
   "execution_count": null,
   "metadata": {},
   "outputs": [],
   "source": [
    "import re\n",
    "import reprlib\n",
    "RE_WORD=re.compile('\\w+')\n",
    "class Sentence():\n",
    "    def __init__(self,text):\n",
    "        self.text=text\n",
    "        self.words=RE_WORD.findall(text)\n",
    "    def __repr__(self):\n",
    "        return('Sentence(%s)%(reprlib.repr(self.text))')\n",
    "    def __iter__(self):\n",
    "        return(SentenceIterator(self.words))       #返回迭代器，Sentence为可迭代对象，可迭代对象的__iter__方法返回迭代器\n",
    "class SentenceIterator():\n",
    "    def __init__(self,words):\n",
    "        self.words=words\n",
    "        self.index=0\n",
    "    def __next__(self):\n",
    "        try:\n",
    "            word=self.words[self.index]\n",
    "        except IndexError:\n",
    "            raise(StopIteration())\n",
    "        self.index+=1\n",
    "        return(word)\n",
    "    def __iter__(self):                            #迭代器的__iter__方法返回自身\n",
    "        return(self)"
   ]
  },
  {
   "cell_type": "markdown",
   "metadata": {},
   "source": [
    "#### 使用生成器函数实现"
   ]
  },
  {
   "cell_type": "code",
   "execution_count": null,
   "metadata": {},
   "outputs": [],
   "source": [
    "import re\n",
    "import reprlib\n",
    "RE_WORD=re.compile('\\w+')\n",
    "class Sentence():\n",
    "    def __init__(self,text):\n",
    "        self.text=text\n",
    "        self.words=RE_WORD.findall(text)\n",
    "    def __repr__(self):\n",
    "        return('Sentence(%s)'%(reprlib.repr(self.text)))\n",
    "    def __iter__(self):\n",
    "        for word in self.words:\n",
    "            yield(word)\n",
    "        return"
   ]
  },
  {
   "cell_type": "markdown",
   "metadata": {},
   "source": [
    "#### 惰性实现"
   ]
  },
  {
   "cell_type": "code",
   "execution_count": null,
   "metadata": {},
   "outputs": [],
   "source": [
    "import re\n",
    "import reprlib\n",
    "RE_WORD=re.compile('\\w+')\n",
    "class Sentence():\n",
    "    def __init__(self,text):\n",
    "        self.text=text\n",
    "    def __repr__(self):\n",
    "        return('Sentence(%s)'%(reprlib.repr(self.text)))\n",
    "    def __iter__(self):\n",
    "        for match in RE_WORD.finditer(RE_WORD):\n",
    "            yield(match.group())"
   ]
  },
  {
   "cell_type": "markdown",
   "metadata": {},
   "source": [
    "#### 使用生成器表达式实现"
   ]
  },
  {
   "cell_type": "code",
   "execution_count": null,
   "metadata": {},
   "outputs": [],
   "source": [
    "import re\n",
    "import reprlib\n",
    "RE_WORD=re.compile('\\w+')\n",
    "class Sentence():\n",
    "    def __init__(self,text):\n",
    "        self.text=text\n",
    "    def __repr__(self):\n",
    "        return(\"Sentence(%s)\"%(reprlib.repr(self.text)))\n",
    "    def __iter__(self):\n",
    "        return(match.group() for match in RE_WORD.finditer(self.text))"
   ]
  },
  {
   "cell_type": "markdown",
   "metadata": {},
   "source": [
    "#### 等差数列生成器"
   ]
  },
  {
   "cell_type": "code",
   "execution_count": null,
   "metadata": {},
   "outputs": [],
   "source": [
    "class ArithmeticProgression():\n",
    "    def __init__(self,begin,step,end=None):\n",
    "        self.begin=begin\n",
    "        self.step=step\n",
    "        self.end=end\n",
    "    def __iter__(self):\n",
    "        result=type(self.begin+self.step)(self.begin)\n",
    "        forever=self.end is None\n",
    "        index=0\n",
    "        while forever or result<self.end:\n",
    "            yeild(result)\n",
    "            index+=1\n",
    "            result=self.begin+self.step*index"
   ]
  },
  {
   "cell_type": "markdown",
   "metadata": {},
   "source": [
    "#### 生成器函数"
   ]
  },
  {
   "cell_type": "code",
   "execution_count": null,
   "metadata": {},
   "outputs": [],
   "source": [
    "def arithprog_gen(begin,step,end=None):\n",
    "    result=type(begin+step)(begin)\n",
    "    index=0\n",
    "    forever=end is None\n",
    "    while forever or result<end:\n",
    "        yeild(resut)\n",
    "        index+=1\n",
    "        result=begin+step*index"
   ]
  },
  {
   "cell_type": "markdown",
   "metadata": {},
   "source": [
    "#### 使用itertools模块"
   ]
  },
  {
   "cell_type": "code",
   "execution_count": null,
   "metadata": {},
   "outputs": [],
   "source": [
    "import itertools\n",
    "gen=itertools.count(1,0.5)                                     # 可以next(gen)来调用，无穷数列\n",
    "\n",
    "gen=itertools.takewhile(lambda n:n<3,itertools.count(1,0.5))  # 条件为假时，停止数列"
   ]
  }
 ],
 "metadata": {
  "kernelspec": {
   "display_name": "Python 3",
   "language": "python",
   "name": "python3"
  },
  "language_info": {
   "codemirror_mode": {
    "name": "ipython",
    "version": 3
   },
   "file_extension": ".py",
   "mimetype": "text/x-python",
   "name": "python",
   "nbconvert_exporter": "python",
   "pygments_lexer": "ipython3",
   "version": "3.7.1"
  }
 },
 "nbformat": 4,
 "nbformat_minor": 2
}
