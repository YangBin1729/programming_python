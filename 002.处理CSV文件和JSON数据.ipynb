{
 "cells": [
  {
   "cell_type": "markdown",
   "metadata": {
    "ExecuteTime": {
     "end_time": "2018-12-06T05:55:05.372777Z",
     "start_time": "2018-12-06T05:55:05.091198Z"
    }
   },
   "source": [
    "CSV:Comma-Separated Values  \n",
    "JSON:JavaScript Object Notation\n"
   ]
  },
  {
   "cell_type": "markdown",
   "metadata": {
    "heading_collapsed": true
   },
   "source": [
    "### CSV\n",
    "- 创建Reader对象，用来读取数据：  \n",
    "`exampleFile=open('example.csv')`          \n",
    "`exampleReader=csv.reader(exampleFile)`<p> \n",
    "- 访问元素：  \n",
    "`exampleData=list(exampleReader)`     \n",
    "`exampleData[i][j]`<p>\n",
    "- for循环读取数据：    \n",
    "-- 遍历完成之后`exampleReader`为空；再次访问数据需重新创建Reader对象     \n",
    "`for row in exampleReader:...`<p>   \n",
    "\n",
    "- 创建Writer对象，用来写入数据      \n",
    "`outputFile=open('output.csv','w',newline='')`\n",
    "`outputWriter=csv.writer(outputFile)`<p>\n",
    "- 接受列表参数，写入行   \n",
    "`outputWriter.writerow(['a','b',...])`     \n",
    "     \n",
    "     \n",
    "- `delimiter`和`lineterminator`关键字参数，确定单元格分割符号及行距\n",
    "\n"
   ]
  },
  {
   "cell_type": "markdown",
   "metadata": {
    "hidden": true
   },
   "source": [
    "#### 小程序：从CSV文件删除表头"
   ]
  },
  {
   "cell_type": "code",
   "execution_count": null,
   "metadata": {
    "ExecuteTime": {
     "end_time": "2018-12-06T07:08:59.403365Z",
     "start_time": "2018-12-06T07:08:59.075316Z"
    },
    "hidden": true
   },
   "outputs": [],
   "source": [
    "# %load scripts\\removeCsvHeader.py\n",
    "#!python3\n",
    "# removeCsvHeader.py - removes the headers from all CSV files in the current working directory\n",
    "\n",
    "import csv\n",
    "import os\n",
    "\n",
    "os.makedirs('headerRemoved', exist_ok=True)\n",
    "\n",
    "for csvFile in os.listdir('.'):\n",
    "    if not csvFile.endswith('.csv'):\n",
    "        continue\n",
    "    print(f'Removing header from {csvFile} ...')\n",
    "    csvRows = []\n",
    "    csvFileObj = open(csvFile)\n",
    "    readerObj = csv.reader(csvFileObj)\n",
    "    for row in readerObj:\n",
    "        if readerObj.line_num == 1:\n",
    "            continue\n",
    "        csvRows.append(row)\n",
    "    csvFileObj.close()\n",
    "\n",
    "    csvFileObj = open(os.path.join('headerRemoved', csvFile), 'w', newline='')\n",
    "    csvWriter = csv.writer(csvFileObj)\n",
    "    for row in csvRows:\n",
    "        csvWriter.writerow(row)\n",
    "    csvFileObj.close()"
   ]
  },
  {
   "cell_type": "code",
   "execution_count": null,
   "metadata": {
    "hidden": true
   },
   "outputs": [],
   "source": []
  },
  {
   "cell_type": "markdown",
   "metadata": {},
   "source": [
    "### JSON\n",
    "JSON只能包含Python以下数据类型的值：字符串、整型、浮点型、布尔型、列表、字典和NoneType\n",
    "\n",
    "- 将Json数据转换为Python值：`json.loads()`,`loads`方法表示`load string`\n",
    "- 将Python值转化为Json格式：`json.dumps()`,`dumps`方法表示`dump string`"
   ]
  },
  {
   "cell_type": "code",
   "execution_count": 27,
   "metadata": {
    "ExecuteTime": {
     "end_time": "2018-12-06T07:21:40.581001Z",
     "start_time": "2018-12-06T07:21:40.549757Z"
    }
   },
   "outputs": [
    {
     "name": "stdout",
     "output_type": "stream",
     "text": [
      "{'name': 'Jessie', 'IsACat': True, 'miceCaught': 12}\n",
      "{\"name\": \"Jessie\", \"IsACat\": true, \"miceCaught\": 12}\n"
     ]
    }
   ],
   "source": [
    "import json\n",
    "json_data='{\"name\":\"Jessie\",\"IsACat\":true,\"miceCaught\":12}'\n",
    "python_value=json.loads(json_data)\n",
    "print(python_value)\n",
    "print(json.dumps(python_value))"
   ]
  },
  {
   "cell_type": "code",
   "execution_count": 28,
   "metadata": {
    "ExecuteTime": {
     "end_time": "2018-12-06T07:30:25.016056Z",
     "start_time": "2018-12-06T07:30:25.000402Z"
    }
   },
   "outputs": [
    {
     "data": {
      "text/plain": [
       "['JSONDecodeError',\n",
       " 'JSONDecoder',\n",
       " 'JSONEncoder',\n",
       " '__all__',\n",
       " '__author__',\n",
       " '__builtins__',\n",
       " '__cached__',\n",
       " '__doc__',\n",
       " '__file__',\n",
       " '__loader__',\n",
       " '__name__',\n",
       " '__package__',\n",
       " '__path__',\n",
       " '__spec__',\n",
       " '__version__',\n",
       " '_default_decoder',\n",
       " '_default_encoder',\n",
       " 'codecs',\n",
       " 'decoder',\n",
       " 'detect_encoding',\n",
       " 'dump',\n",
       " 'dumps',\n",
       " 'encoder',\n",
       " 'load',\n",
       " 'loads',\n",
       " 'scanner']"
      ]
     },
     "execution_count": 28,
     "metadata": {},
     "output_type": "execute_result"
    }
   ],
   "source": [
    "dir(json)"
   ]
  },
  {
   "cell_type": "code",
   "execution_count": null,
   "metadata": {},
   "outputs": [],
   "source": []
  }
 ],
 "metadata": {
  "kernelspec": {
   "display_name": "Python 3",
   "language": "python",
   "name": "python3"
  },
  "language_info": {
   "codemirror_mode": {
    "name": "ipython",
    "version": 3
   },
   "file_extension": ".py",
   "mimetype": "text/x-python",
   "name": "python",
   "nbconvert_exporter": "python",
   "pygments_lexer": "ipython3",
   "version": "3.7.3"
  },
  "toc": {
   "base_numbering": 1,
   "nav_menu": {},
   "number_sections": true,
   "sideBar": true,
   "skip_h1_title": false,
   "title_cell": "Table of Contents",
   "title_sidebar": "Contents",
   "toc_cell": false,
   "toc_position": {},
   "toc_section_display": true,
   "toc_window_display": false
  }
 },
 "nbformat": 4,
 "nbformat_minor": 2
}
