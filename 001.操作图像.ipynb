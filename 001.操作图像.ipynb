{
 "cells": [
  {
   "cell_type": "markdown",
   "metadata": {
    "ExecuteTime": {
     "end_time": "2018-12-02T09:23:05.120834Z",
     "start_time": "2018-12-02T09:23:04.754768Z"
    },
    "heading_collapsed": true
   },
   "source": [
    "### 计算机图像基础\n",
    "\n",
    "颜色被表示为RGBA(红、绿、蓝、alpha-透明度)值      \n",
    "`PIL.ImageColor.getcolor('yellow','RGBA)`"
   ]
  },
  {
   "cell_type": "code",
   "execution_count": 2,
   "metadata": {
    "ExecuteTime": {
     "end_time": "2018-12-02T14:04:15.560664Z",
     "start_time": "2018-12-02T14:04:15.529691Z"
    },
    "hidden": true
   },
   "outputs": [
    {
     "name": "stdout",
     "output_type": "stream",
     "text": [
      "RGBA value of red: (255, 0, 0, 255)\n",
      "RGBA value of green: (0, 128, 0, 255)\n",
      "RGBA value of blue: (0, 0, 255, 255)\n",
      "RGBA value of black: (0, 0, 0, 255)\n",
      "RGBA value of white: (255, 255, 255, 255)\n"
     ]
    }
   ],
   "source": [
    "from PIL import ImageColor\n",
    "for color in ['red','green','blue','black','white']:\n",
    "    print('RGBA value of %s:'%color,ImageColor.getcolor(color,'RGBA'))"
   ]
  },
  {
   "cell_type": "code",
   "execution_count": null,
   "metadata": {
    "hidden": true
   },
   "outputs": [],
   "source": []
  },
  {
   "cell_type": "markdown",
   "metadata": {},
   "source": [
    "### 操作图像\n",
    "`image=PIL.Image.open(image_path)`: 打开图像，返回Image对象  \n",
    "\n",
    "`image.size,  image.width,  iamge.format ...`: Image对象的各种属性   \n",
    "\n",
    "`new_im=Image.new('RGBA',(100,200),'purple')`: 创建宽100高200像素，紫色背景的<span class=\"mark\">新图像</span>     \n",
    "\n",
    "`crop_im=image.crop((left,top,right,bottom))`: 剪裁图像，输入左、上、右、下的坐标，删除该矩形之外的部分,返回新的图像，<span class=\"mark\">原始图像未更改</span>。\n",
    "\n",
    "`image_copy=image.copy()`: 复制图像，返回新的Image对象\n",
    " \n",
    "`imgge_copy.paste(crop_im,(200,300)`: 将`crop_im`对象黏贴到`image_copy`上，指定粘贴的左上角位置  \n",
    "\n",
    "`resized_im=image.resize((width,height))`: 输入宽、高(只能为整数)组成的元组，返回指定大小的新图像，<span class=\"mark\">原始图像未更改。</span>  \n",
    "\n",
    "`rotated_im=image.rotate(90,expand=True)`: 返回旋转90度后的新图像，<span class=\"mark\">原始Image对象不变</span>；expand设置为True，会放大图像以适应旋转  \n",
    "\n",
    "`image.transpose(Image.FLIP_LEFT_RIGHT)`: 返回左右镜像反转后的新图像，上下反转参数为`Image.FLIP_TOP_BOTTOM`\n",
    "\n",
    "`image.getpixel((100,100))`: 获得像素点(100,100)处的RGBA值   \n",
    "`image.putpixel((100,100),(210,210,210))`: 将像素点(100,100)处的RGB值设置为(210,210,210)"
   ]
  },
  {
   "cell_type": "markdown",
   "metadata": {
    "heading_collapsed": true
   },
   "source": [
    "#### 小程序：调整图像尺寸并加上Logo"
   ]
  },
  {
   "cell_type": "code",
   "execution_count": null,
   "metadata": {
    "ExecuteTime": {
     "end_time": "2018-12-03T02:32:51.767284Z",
     "start_time": "2018-12-03T02:32:51.735764Z"
    },
    "hidden": true
   },
   "outputs": [],
   "source": [
    "# %load scripts\\resizeAndAddLogo.py\n",
    "#!python3\n",
    "# resizeAndAddLogo.py - Resizes all images in current working directory to fit in a 300×300 square,\n",
    "# and adds catlogo.png to the lower_right-corner.\n",
    "\n",
    "import os\n",
    "from PIL import Image\n",
    "\n",
    "square_fit_size = 300\n",
    "logo_filename = 'catlogo.png'\n",
    "\n",
    "logoIm = Image.open(logo_filename)\n",
    "logoWidth, logoHeight = logoIm.size\n",
    "for filename in os.listdir('.'):\n",
    "    if not filename.endswith('.png') or not filename.endswith('.jpg') or filename == logo_filename:\n",
    "        continue\n",
    "    im = Image.open(filename)\n",
    "    width, height = im.size\n",
    "    if width > square_fit_size and height > square_fit_size:\n",
    "        if width >height:\n",
    "            height = int((square_fit_size/width)*height)\n",
    "            width = square_fit_size\n",
    "        else:\n",
    "            width = int((square_fit_size/height)*width)\n",
    "            height = square_fit_size\n",
    "        print('Resizeing %s...'%filename)\n",
    "        im = im.resize((width, height))\n",
    "\n",
    "        print('Adding logo to %s...'%logo_filename)\n",
    "        im.paste(logoIm, (width-logoWidth, height-logoHeight),logoIm)\n",
    "        im.save(os.path.join('withLogo',filename))"
   ]
  },
  {
   "cell_type": "code",
   "execution_count": null,
   "metadata": {
    "hidden": true
   },
   "outputs": [],
   "source": []
  },
  {
   "cell_type": "markdown",
   "metadata": {},
   "source": [
    "### 绘图\n",
    "`draw=ImageDraw.Draw(im)`: 得到ImageDraw对象  \n",
    "  \n",
    "`draw.point(xy,fill)`: xy为点的列表，[(x,y),(x,y)...]或[x1,y1,x2,y2...]的形式；fill为RGBA值，或表示颜色的字符串  \n",
    "`draw.line(xy,fill,width)`: width表示线宽，默认为1  \n",
    "`draw.rectangle(xy,fill,outline)`: xy为(左、上、右、下)形式，outline为轮廓的颜色  \n",
    "`draw.ellipse(xy,fill,outline)`: 绘制椭圆，各参数同上  \n",
    "`draw.polygon(xy,fill,outline)`: 绘制多边形，xy为点的列表\n",
    "  \n",
    " `draw.text(xy,text,fill,font)`: 绘制文本，xy为文本区域的左上角；text为文本，fill指定文本颜色；font为ImageFont对象，指定字体及大小   \n",
    "`draw.textsize(text,font)`: 指定字体及大小情况下，文本将占据的宽度和高度  \n",
    "\n",
    "`ImageFont.truetype(font_path,size)`: 给定字体路径及字体大小的点数"
   ]
  },
  {
   "cell_type": "code",
   "execution_count": null,
   "metadata": {},
   "outputs": [],
   "source": []
  }
 ],
 "metadata": {
  "kernelspec": {
   "display_name": "Python 3",
   "language": "python",
   "name": "python3"
  },
  "language_info": {
   "codemirror_mode": {
    "name": "ipython",
    "version": 3
   },
   "file_extension": ".py",
   "mimetype": "text/x-python",
   "name": "python",
   "nbconvert_exporter": "python",
   "pygments_lexer": "ipython3",
   "version": "3.7.3"
  },
  "toc": {
   "base_numbering": 1,
   "nav_menu": {},
   "number_sections": true,
   "sideBar": true,
   "skip_h1_title": false,
   "title_cell": "Table of Contents",
   "title_sidebar": "Contents",
   "toc_cell": false,
   "toc_position": {},
   "toc_section_display": true,
   "toc_window_display": false
  }
 },
 "nbformat": 4,
 "nbformat_minor": 2
}
