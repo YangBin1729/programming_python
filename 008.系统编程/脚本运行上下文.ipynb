{
 "cells": [
  {
   "cell_type": "markdown",
   "metadata": {
    "heading_collapsed": true
   },
   "source": [
    "## 命令行参数\n",
    "\n",
    "- 脚本启动时命令行参数，以字符串形式保存在Python的`sys.argv`中<p>       \n",
    "- 从Shell命令行启动脚本：`python test.py spam`，此时`sys.argv`为`['test.py','spam']`；交互命令行启动的Python没有命令行参数传入，`sys.argv`为空 <p>            \n",
    "- 按惯例，可以将命令行参数设置成`-name value`的形式；用来传递要处理的文件名，处理模式的`flag`、`Internet`地址等     <p>   \n",
    "- 对于复杂的命令行参数<span class=\"burk\">，可以利用Python标准库`getopt`,`optparse`模块处理</span><p>  "
   ]
  },
  {
   "cell_type": "code",
   "execution_count": null,
   "metadata": {
    "ExecuteTime": {
     "end_time": "2018-12-20T03:25:41.847352Z",
     "start_time": "2018-12-20T03:25:41.706750Z"
    },
    "hidden": true
   },
   "outputs": [],
   "source": [
    "# %load scripts\\testargv2.py\n",
    "#!python3\n",
    "# testargv2.py - 将传入的命令行参数保存在词典中\n",
    "\n",
    "\n",
    "def getopts(argv):\n",
    "    opts = {}\n",
    "    while argv:\n",
    "        if argv[0][0] == '-':\n",
    "            opts[argv[0]] = argv[1]\n",
    "            argv = argv[2:]\n",
    "        else:\n",
    "            argv = argv[1:]\n",
    "    return opts\n",
    "\n",
    "\n",
    "if __name__ == '__main__':\n",
    "    from sys import argv\n",
    "    myargvs = getopts(argv)\n",
    "    if '-i' in myargvs:\n",
    "        print(myargvs['-i'])\n",
    "    print(myargvs)\n",
    "\n"
   ]
  },
  {
   "cell_type": "code",
   "execution_count": null,
   "metadata": {
    "hidden": true
   },
   "outputs": [],
   "source": []
  },
  {
   "cell_type": "markdown",
   "metadata": {
    "ExecuteTime": {
     "end_time": "2018-12-20T05:49:05.246250Z",
     "start_time": "2018-12-20T05:49:05.230624Z"
    },
    "heading_collapsed": true
   },
   "source": [
    "## Shell 环境变量"
   ]
  },
  {
   "cell_type": "markdown",
   "metadata": {
    "hidden": true
   },
   "source": [
    "- shell 环境变量通过`os.environ`访问，独立于Python系统，为程序提供系统级的配置<p>\n",
    "- 访问环境变量，`os.environ['PATH']`；通过赋值改变环境变量，Python 退出后，变量会变回初始值"
   ]
  },
  {
   "cell_type": "code",
   "execution_count": null,
   "metadata": {
    "hidden": true
   },
   "outputs": [],
   "source": []
  },
  {
   "cell_type": "markdown",
   "metadata": {},
   "source": [
    "## 标准流"
   ]
  },
  {
   "cell_type": "markdown",
   "metadata": {},
   "source": [
    "- 标准输入、输出和错误流，通用的程序通信方式；为预先打开的Python文件对象，在Python启动时被绑定到控制台窗口上 <p>  \n",
    "    \n",
    "- 内部的print和input函数只是标准输出\\输入流的接口，默认情况下，标准输出会打印到程序启动的Console上，标准输入的文本从键盘读取 <p> \n",
    "    \n",
    "- 命令行运行时，利用shell语法 `<filename` 将标准输入流重定向到文件输入，脚本从文件中而非键盘中读入内容； `>filename` 将标准输出流重定向到文件中；shell字符 `“|”`，将一个程序的标准输出发送到另一个程序的标准输入\n",
    "> - `python test.py <input.text >output.text`\n",
    "> - `python test.py <input.text | python reader.py`\n",
    "> - `reader.py`脚本中的`input()`语句,只能接受`test.py`输出语句中的一行；前者中的`sys.stdin.readlines()`接受否则输出的所有语句为一个列表\n",
    "> - 当`stdin`被重定向到文件或管道时，无法再获取键盘输入；可以利用`msvcrt`来实现\n",
    "- 在Python内，<span class=\"mark\">任何提供了类似文件`read`方法的对象可以指定给`sys.stdin`，</span>从该对象的`read`方法获取输入；<span class=\"mark\">任何定义了类似文件`write`方法的对象可以指定给`sys.stdout`，</span>标准输出发送到该对象方法上。\n",
    "> - `print('Hello')`语句，默认`end='\\n'`,等价于`sys.stdout.write('Hello\\n')`\n",
    "> - 多个`print`语句，如`print('Hello'),print('Ok'),print('Bye')`等价于`sys.stdout.writelines(['Hello\\n','Ok\\n','Bye\\n'])`\n",
    "    \n",
    "- `io.StringIO`和`io.BytesIO`对象实例可被指定给`sys.stdin`和`sys.stdout`以重定向`input`和`print`调用\n",
    "> 重定向后，调用`print`屏幕不会显示，`print`的内容会保存在对象实例中\n",
    "    \n",
    "- `print(stuff,file=filename)`,将stuff打印到文件filename中<p>\n",
    "- <span class=\"mark\">使用场景：重定向可以为一个用来和命令行打交道的程序增加GUI接口</span>"
   ]
  },
  {
   "cell_type": "code",
   "execution_count": 1,
   "metadata": {
    "ExecuteTime": {
     "end_time": "2018-12-20T08:03:44.472576Z",
     "start_time": "2018-12-20T08:03:44.441334Z"
    }
   },
   "outputs": [
    {
     "name": "stdout",
     "output_type": "stream",
     "text": [
      "<_io.TextIOWrapper name='<stdin>' mode='r' encoding='936'>\n",
      "<ipykernel.iostream.OutStream object at 0x000002662E427550>\n",
      "<ipykernel.iostream.OutStream object at 0x000002662E427128>\n"
     ]
    }
   ],
   "source": [
    "import sys\n",
    "for f in (sys.stdin,sys.stdout,sys.stderr):print(f)"
   ]
  },
  {
   "cell_type": "code",
   "execution_count": null,
   "metadata": {
    "ExecuteTime": {
     "end_time": "2018-12-20T12:48:07.477403Z",
     "start_time": "2018-12-20T12:48:07.469426Z"
    },
    "code_folding": [
     4,
     18,
     28
    ]
   },
   "outputs": [],
   "source": [
    "# %load scripts\\moreplus.py\n",
    "import sys\n",
    "\n",
    "\n",
    "def getreply():\n",
    "    if sys.stdin.isatty():  # 如果 stdin 是控制台，从stdin读取数据\n",
    "        return input('?:')\n",
    "    else:\n",
    "        if sys.platform[:3] == 'win':\n",
    "            import msvcrt\n",
    "            msvcrt.putch('?')\n",
    "            key = msvcrt.getche()   # 获取键盘输入\n",
    "            msvcrt.putch('\\n')\n",
    "            return key\n",
    "        else:\n",
    "            assert False, 'platform not supported'\n",
    "\n",
    "\n",
    "def more(text, numlines=15):\n",
    "    lines = text.splitlines()\n",
    "    while lines:\n",
    "        chunk = lines[:numlines]\n",
    "        lines = lines[numlines:]\n",
    "        for line in chunk:\n",
    "            print(line)\n",
    "        if lines and getreply() not in ['y', 'Y']:\n",
    "            break\n",
    "\n",
    "if __name__ == '__main__':\n",
    "    if len(sys.argv) == 1:\n",
    "        more(sys.stdin.read())\n",
    "    else:\n",
    "        more(open(sys.argv[1], 'rb').read())\n",
    "\n",
    "\n"
   ]
  },
  {
   "cell_type": "code",
   "execution_count": null,
   "metadata": {},
   "outputs": [],
   "source": []
  },
  {
   "cell_type": "code",
   "execution_count": 22,
   "metadata": {
    "ExecuteTime": {
     "end_time": "2018-12-24T03:40:33.748005Z",
     "start_time": "2018-12-24T03:40:33.716762Z"
    }
   },
   "outputs": [
    {
     "data": {
      "text/plain": [
       "'42 spam 3.1425\\n'"
      ]
     },
     "execution_count": 22,
     "metadata": {},
     "output_type": "execute_result"
    }
   ],
   "source": [
    "from io import StringIO\n",
    "import sys\n",
    "\n",
    "buff=StringIO()\n",
    "temp=sys.stdout\n",
    "\n",
    "sys.stdout=buff\n",
    "print(42,'spam',3.1425)\n",
    "\n",
    "sys.stdout=temp\n",
    "buff.getvalue()\n"
   ]
  },
  {
   "cell_type": "code",
   "execution_count": 1,
   "metadata": {
    "ExecuteTime": {
     "end_time": "2018-12-24T03:07:29.571647Z",
     "start_time": "2018-12-24T03:07:29.524784Z"
    }
   },
   "outputs": [],
   "source": [
    "import sys\n"
   ]
  },
  {
   "cell_type": "code",
   "execution_count": null,
   "metadata": {},
   "outputs": [],
   "source": []
  }
 ],
 "metadata": {
  "kernelspec": {
   "display_name": "Python 3",
   "language": "python",
   "name": "python3"
  },
  "language_info": {
   "codemirror_mode": {
    "name": "ipython",
    "version": 3
   },
   "file_extension": ".py",
   "mimetype": "text/x-python",
   "name": "python",
   "nbconvert_exporter": "python",
   "pygments_lexer": "ipython3",
   "version": "3.6.5"
  },
  "toc": {
   "base_numbering": 1,
   "nav_menu": {},
   "number_sections": true,
   "sideBar": true,
   "skip_h1_title": false,
   "title_cell": "Table of Contents",
   "title_sidebar": "Contents",
   "toc_cell": false,
   "toc_position": {},
   "toc_section_display": true,
   "toc_window_display": false
  }
 },
 "nbformat": 4,
 "nbformat_minor": 2
}
